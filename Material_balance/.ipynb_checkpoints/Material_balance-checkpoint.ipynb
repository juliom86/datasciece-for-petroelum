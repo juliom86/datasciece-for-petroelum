{
 "cells": [
  {
   "cell_type": "markdown",
   "id": "edaa4043",
   "metadata": {},
   "source": [
    "# OGIP y OOIP"
   ]
  },
  {
   "cell_type": "markdown",
   "id": "2af03bd6",
   "metadata": {},
   "source": [
    "## Se generaran funciones para los distintos mecanismos de drenaje"
   ]
  },
  {
   "cell_type": "code",
   "execution_count": 3,
   "id": "961d6324",
   "metadata": {},
   "outputs": [],
   "source": [
    "def inplace(Gfgi, Nfoi, Rsi, Rvi):\n",
    "\n",
    "  # Nfoi: initial oil in free-oil phase at time t (STB)\n",
    "  # Gfgi: initial gas in free-gas phase at time t (scf)\n",
    "  # Rsi: initial solution gas-oil ratio (SGOR) at time t (scf/STB)\n",
    "  # Rvi: initial volatile oil-gas ratio at time t (STB/scf)\n",
    "  # G: initial gas in reservoir (OGIP) (scf)\n",
    "  # N: initial oil in reservoir (OOIP) (STB)\n",
    "\n",
    "  G = Gfgi + Nfoi * Rsi\n",
    "  N = Nfoi + Gfgi * Rvi\n",
    "    \n",
    "  return (G, N)"
   ]
  },
  {
   "cell_type": "markdown",
   "id": "970ae7a8",
   "metadata": {},
   "source": [
    "## Ecuacnion general de Nalance de Materiales"
   ]
  },
  {
   "cell_type": "code",
   "execution_count": 2,
   "id": "f7c1965b",
   "metadata": {},
   "outputs": [],
   "source": [
    "def matbalance(Np, Gp, Bo, Bg, Boi, Bgi, Bw, Nfoi, Gfgi, Rs, Rv, Rsi, Rvi, We, Wp, pi, p, cf, cw, swi):\n",
    "  \n",
    "\n",
    "  # Np: cumulative oil produced at time t (STB)\n",
    "  # Gp: cumulative gas produced at time t (scf)\n",
    "  # Bo: oil formation volume factor (FVF) at time t (RB/STB)\n",
    "  # Bg: gas formation volume factor (FVF) at time t (RB/scf)\n",
    "  # Boi: initial oil formation volume factor (FVF) at time t (RB/STB)\n",
    "  # Bgi: initial gas formation volume factor (FVF) at time t (RB/scf)\n",
    "  # Bw: water formation volume factor (FVF) at time t (RB/STB)\n",
    "  # Nfoi: initial oil in free-oil phase at time t (STB)\n",
    "  # Gfgi: initial gas in free-gas phase at time t (scf)\n",
    "  # Rs: solution gas-oil ratio (SGOR) at time t (scf/STB)\n",
    "  # Rv: volatile oil-gas ratio at time t (STB/scf)\n",
    "  # Rsi: initial solution gas-oil ratio (SGOR) at time t (scf/STB)\n",
    "  # Rvi: initial volatile oil-gas ratio at time t (STB/scf)\n",
    "  # We: water encroachment from aquifer (res bbl)\n",
    "  # Wp: cumulative water produced at time t (STB)\n",
    "  # pi: initial reservoir pressure (psia)\n",
    "  # p: current reservoir pressure (psia)\n",
    "  # cf: isothermal formation compressibility (psi^-1)\n",
    "  # cw: isothermal water compressibility (psi^-1)\n",
    "  # swi: initial water saturation\n",
    "\n",
    "  # right-hand term\n",
    "  F = (Np * (((Bo - Rs * Bg) / (1 - Rv * Rs)))) + (Gp * (((Bg - Rv * Bo) / (1 - Rv * Rs)))) # F: reservoir voidage from production (res bbl)\n",
    "\n",
    "  # left-hand term\n",
    "  Bto = ((Bo * (1 - Rv * Rsi)) + (Bg * (Rsi - Rs))) / (1 - Rv * Rs) # Bto: total oil FVF at time t (RB/STB)\n",
    "  Eo = Bto - Boi # Eo: oil expansion factor (RB/STB)\n",
    "\n",
    "  Btg = ((Bg * (1 - Rs * Rvi)) + (Bo * (Rvi - Rv))) / (1 - Rv * Rs)  # Bto: total gas FVF at time t (RB/scf)\n",
    "  Eg = Btg - Bgi # Eg: gas expansion factor (RB/scf)\n",
    "  delta_w = We - Bw * Wp\n",
    "\n",
    "  delta_p = p - pi\n",
    "  Efw = ((cf + cw * swi) / (1 - swi)) * delta_p \n",
    "\n",
    "  left_term = (Nfoi * Eo) + (Gfgi * Eg) + (delta_w + ((Nfoi * Boi) + (Gfgi * Bgi)) * Efw)\n",
    "  \n",
    "  return(F, left_term) # F = left_term (balance)"
   ]
  },
  {
   "cell_type": "markdown",
   "id": "5310d38d",
   "metadata": {},
   "source": [
    "### Alternativa de la ecuacion expresada anteriormente"
   ]
  },
  {
   "cell_type": "code",
   "execution_count": 4,
   "id": "4bd2fee2",
   "metadata": {},
   "outputs": [],
   "source": [
    "# Rp is initially: Rs = Gp / Np\n",
    "\n",
    "def matbalance(Rp, Bo, Bg, Boi, Bgi, Bw, Nfoi, Gfgi, Rs, Rv, Rsi, Rvi, We, Wp, pi, p, cf, cw, swi):\n",
    "  \n",
    "\n",
    "  # Rp: cumulative produced gas-oil ratio (scf/STB)\n",
    "  # Bo: oil formation volume factor (FVF) at time t (RB/STB)\n",
    "  # Bg: gas formation volume factor (FVF) at time t (RB/scf)\n",
    "  # Boi: initial oil formation volume factor (FVF) at time t (RB/STB)\n",
    "  # Bgi: initial gas formation volume factor (FVF) at time t (RB/scf)\n",
    "  # Bw: water formation volume factor (FVF) at time t (RB/STB)\n",
    "  # Nfoi: initial oil in free-oil phase at time t (STB)\n",
    "  # Gfgi: initial gas in free-gas phase at time t (scf)\n",
    "  # Rs: solution gas-oil ratio (SGOR) at time t (scf/STB)\n",
    "  # Rv: volatile oil-gas ratio at time t (STB/scf)\n",
    "  # Rsi: initial solution gas-oil ratio (SGOR) at time t (scf/STB)\n",
    "  # Rvi: initial volatile oil-gas ratio at time t (STB/scf)\n",
    "  # We: water encroachment from aquifer (res bbl)\n",
    "  # Wp: cumulative water produced at time t (STB)\n",
    "  # pi: initial reservoir pressure (psia)\n",
    "  # p: current reservoir pressure (psia)\n",
    "  # cf: isothermal formation compressibility (psi^-1)\n",
    "  # cw: isothermal water compressibility (psi^-1)\n",
    "  # swi: initial water saturation\n",
    "\n",
    "  # right-hand term IS MODIFIED\n",
    "  F = Np * ((Bo * (1 - Rv * Rp)) + (Bg * (Rp - Rs))) / (1 - Rv * Rs) # F: reservoir voidage from production (res bbl)\n",
    "\n",
    "  # left-hand term\n",
    "  Bto = ((Bo * (1 - Rv * Rsi)) + (Bg * (Rsi - Rs))) / (1 - Rv * Rs) # Bto: total oil FVF at time t (RB/STB)\n",
    "  Eo = Bto - Boi # Eo: oil expansion factor (RB/STB)\n",
    "\n",
    "  Btg = ((Bg * (1 - Rs * Rvi)) + (Bo * (Rvi - Rv))) / (1 - Rv * Rs)  # Bto: total gas FVF at time t (RB/scf)\n",
    "  Eg = Btg - Bgi # Eg: gas expansion factor (RB/scf)\n",
    "\n",
    "  delta_w = We - Bw * Wp\n",
    "\n",
    "  delta_p = p - pi\n",
    "  Efw = ((cf + cw * swi) / (1 - swi)) * delta_p # Efw: formation water expansion factor (RB/STB)\n",
    "\n",
    "  left_term = (Nfoi * Eo) + (Gfgi * Eg) + (delta_w + ((Nfoi * Boi) + (Gfgi * Bgi)) * Efw)\n",
    "\n",
    "  return(F, left_term) # F = left_term (balance)"
   ]
  },
  {
   "cell_type": "markdown",
   "id": "ddd8f7dc",
   "metadata": {},
   "source": [
    "### Segunda alternativa"
   ]
  },
  {
   "cell_type": "code",
   "execution_count": 5,
   "id": "a11bf80e",
   "metadata": {},
   "outputs": [],
   "source": [
    "# r is initially: r = (Gfgi * Bgi) / (Nfoi * Boi)\n",
    "\n",
    "def matbalance(r, Np, Gp, Bo, Bg, Boi, Bgi, Bw, Nfoi, Rs, Rv, Rsi, Rvi, We, Wp, pi, p, cf, cw, swi):\n",
    " \n",
    "\n",
    "  # r: gas-cap volume\n",
    "  # Np: cumulative oil produced at time t (STB)\n",
    "  # Gp: cumulative gas produced at time t (scf)\n",
    "  # Bo: oil formation volume factor (FVF) at time t (RB/STB)\n",
    "  # Bg: gas formation volume factor (FVF) at time t (RB/scf)\n",
    "  # Boi: initial oil formation volume factor (FVF) at time t (RB/STB)\n",
    "  # Bgi: initial gas formation volume factor (FVF) at time t (RB/scf)\n",
    "  # Bw: water formation volume factor (FVF) at time t (RB/STB)\n",
    "  # Nfoi: initial oil in free-oil phase at time t (STB)\n",
    "  # Rs: solution gas-oil ratio (SGOR) at time t (scf/STB)\n",
    "  # Rv: volatile oil-gas ratio at time t (STB/scf)\n",
    "  # Rsi: initial solution gas-oil ratio (SGOR) at time t (scf/STB)\n",
    "  # Rvi: initial volatile oil-gas ratio at time t (STB/scf)\n",
    "  # We: water encroachment from aquifer (res bbl)\n",
    "  # Wp: cumulative water produced at time t (STB)\n",
    "  # pi: initial reservoir pressure (psia)\n",
    "  # p: current reservoir pressure (psia)\n",
    "  # cf: isothermal formation compressibility (psi^-1)\n",
    "  # cw: isothermal water compressibility (psi^-1)\n",
    "  # swi: initial water saturation\n",
    "\n",
    "  # right-hand term\n",
    "  F = (Np * (((Bo - Rs * Bg) / (1 - Rv * Rs)))) + (Gp * (((Bg - Rv * Bo) / (1 - Rv * Rs))))\n",
    "\n",
    "  # left-hand term IS MODIFIED\n",
    "  Bto = ((Bo * (1 - Rv * Rsi)) + (Bg * (Rsi - Rs))) / (1 - Rv * Rs)\n",
    "  Eo = Bto - Boi\n",
    "\n",
    "  Btg = ((Bg * (1 - Rs * Rvi)) + (Bo * (Rvi - Rv))) / (1 - Rv * Rs)\n",
    "  Eg = Btg - Bgi\n",
    "\n",
    "  delta_w = We - Bw * Wp\n",
    "\n",
    "  delta_p = p - pi\n",
    "  Efw = ((cf + cw * swi) / (1 - swi)) * delta_p \n",
    "\n",
    "  left_term = (Nfoi * Eo) + (Nfoi * Boi * r * Eg / Bgi) + delta_w + (Nfoi * Boi * (1 + r) * Efw)\n",
    "  \n",
    "  return(F, left_term) # F = left_term (balance)"
   ]
  },
  {
   "cell_type": "markdown",
   "id": "7804bb42",
   "metadata": {},
   "source": [
    "# Grafico de Balance de Materiales "
   ]
  },
  {
   "cell_type": "markdown",
   "id": "88822f99",
   "metadata": {},
   "source": [
    "## Gas seco o gas condensado (sin empuje de agua)"
   ]
  },
  {
   "cell_type": "code",
   "execution_count": 6,
   "id": "c1d17c5b",
   "metadata": {},
   "outputs": [],
   "source": [
    "def plot_5_1(F, Gfgi, Bgi, Bo, Bg, Rs, Rvi, Rv, cf, cw, swi, p, pi):\n",
    "\n",
    "  import matplotlib.pyplot as plt\n",
    "\n",
    "  # Nfoi = 0\n",
    "\n",
    "  Btg = ((Bg * (1 - Rs * Rvi)) + (Bo * (Rvi - Rv))) / (1 - Rv * Rs)\n",
    "  Eg = Btg - Bgi\n",
    "\n",
    "  delta_p = p - pi\n",
    "  Efw = ((cf + cw * swi) / (1 - swi)) * delta_p \n",
    "\n",
    "  x_axis = Eg + (Bgi * Efw)\n",
    "  y_axis = F\n",
    "  plt.plot(x_axis, y_axis, '.')\n",
    "  return()"
   ]
  },
  {
   "cell_type": "markdown",
   "id": "dd49772c",
   "metadata": {},
   "source": [
    "## Reservorio de petroelo subsaturado (sin capa de gas libre, sin empuje de agua)"
   ]
  },
  {
   "cell_type": "code",
   "execution_count": 7,
   "id": "290bc85c",
   "metadata": {},
   "outputs": [],
   "source": [
    "def plot_5_2(F, Gfgi, Boi, Bo, Bg, Rv, Rsi, Rs, cf, cw, swi, p, pi):\n",
    "\n",
    "  import matplotlib.pyplot as plt\n",
    "\n",
    "  # p > P_bubble (pressure is above bubblepoint), Gfgi = 0, delta_w = 0\n",
    "\n",
    "  Bto = ((Bo * (1 - Rv * Rsi)) + (Bg * (Rsi - Rs))) / (1 - Rv * Rs)\n",
    "  Eo = Bto - Boi\n",
    "\n",
    "  delta_p = p - pi\n",
    "  Efw = ((cf + cw * swi) / (1 - swi)) * delta_p \n",
    "\n",
    "  x_axis = Eo + (Boi * Efw)\n",
    "  y_axis = F\n",
    "  plt.plot(x_axis, y_axis, '.')\n",
    "  return()"
   ]
  },
  {
   "cell_type": "markdown",
   "id": "6c5bc816",
   "metadata": {},
   "source": [
    "## Reservorio de petroleo saturado (con capa de gas, sin empuje de agua)"
   ]
  },
  {
   "cell_type": "code",
   "execution_count": 8,
   "id": "ffdbde97",
   "metadata": {},
   "outputs": [],
   "source": [
    "def plot_5_3a(F, Gfgi, Boi, Bgi, Bo, Bg, Rv, Rsi, Rvi, Rs, cf, cw, swi, p, pi):\n",
    "\n",
    "  import matplotlib.pyplot as plt\n",
    "\n",
    "  # only delta_w = 0\n",
    "\n",
    "  Bto = ((Bo * (1 - Rv * Rsi)) + (Bg * (Rsi - Rs))) / (1 - Rv * Rs)\n",
    "  Eo = Bto - Boi\n",
    "\n",
    "  Btg = ((Bg * (1 - Rs * Rvi)) + (Bo * (Rvi - Rv))) / (1 - Rv * Rs)\n",
    "  Eg = Btg - Bgi\n",
    "\n",
    "  delta_p = p - pi\n",
    "  Efw = ((cf + cw * swi) / (1 - swi)) * delta_p \n",
    "\n",
    "  x_axis = (Eg + (Bgi * Efw)) / Eo + (Boi * Efw)\n",
    "  y_axis = F / (Eo + (Boi * Efw))\n",
    "  plt.plot(x_axis, y_axis, '.')\n",
    "  return()"
   ]
  },
  {
   "cell_type": "markdown",
   "id": "534de92b",
   "metadata": {},
   "source": [
    "### Alternativa de la ecuacion anterior"
   ]
  },
  {
   "cell_type": "code",
   "execution_count": 9,
   "id": "c48da995",
   "metadata": {},
   "outputs": [],
   "source": [
    "def plot_5_3b(F, Gfgi, Boi, Bgi, Bo, Bg, Rv, Rsi, Rvi, Rs, cf, cw, swi, p, pi):\n",
    "\n",
    "  import matplotlib.pyplot as plt\n",
    "\n",
    "  # only delta_w = 0\n",
    "\n",
    "  Bto = ((Bo * (1 - Rv * Rsi)) + (Bg * (Rsi - Rs))) / (1 - Rv * Rs)\n",
    "  Eo = Bto - Boi\n",
    "\n",
    "  Btg = ((Bg * (1 - Rs * Rvi)) + (Bo * (Rvi - Rv))) / (1 - Rv * Rs)\n",
    "  Eg = Btg - Bgi\n",
    "\n",
    "  delta_p = p - pi\n",
    "  Efw = ((cf + cw * swi) / (1 - swi)) * delta_p \n",
    "\n",
    "  x_axis = Eo + (Boi * Efw) / (Eg + (Bgi * Efw)) \n",
    "  y_axis = F / (Eg + (Bgi * Efw)) \n",
    "  plt.plot(x_axis, y_axis, '.')\n",
    "  return()"
   ]
  },
  {
   "cell_type": "markdown",
   "id": "6cb88e60",
   "metadata": {},
   "source": [
    "## Gas seco o condensado con empuje de agua"
   ]
  },
  {
   "cell_type": "code",
   "execution_count": 10,
   "id": "82b3b96e",
   "metadata": {},
   "outputs": [],
   "source": [
    "def plot_5_4a(F, Gfgi, Bgi, Bo, Bg, Rs, Rvi, Rv, cf, cw, swi, p, pi, Gp, t):\n",
    "  \n",
    "  # t: time\n",
    "  # Gp: cumulative gas produced at time t (scf)\n",
    "\n",
    "  import matplotlib.pyplot as plt\n",
    "\n",
    "  # Nfoi = 0\n",
    "\n",
    "  Btg = ((Bg * (1 - Rs * Rvi)) + (Bo * (Rvi - Rv))) / (1 - Rv * Rs)\n",
    "  Eg = Btg - Bgi\n",
    "\n",
    "  delta_p = p - pi\n",
    "  Efw = ((cf + cw * swi) / (1 - swi)) * delta_p \n",
    "\n",
    "  # versus time\n",
    "  x_axis_t = t\n",
    "  y_axis_t = F / (Eg + Bgi * Efw)\n",
    "\n",
    "  # versus production \n",
    "  x_axis_prod = Gp\n",
    "  y_axis_prod = F / (Eg + Bgi * Efw)\n",
    "\n",
    "  plt.subplot(1,2,1)\n",
    "  plt.plot(x_axis_t, y_axis_t, '.')\n",
    "  plt.subplot(1,2,2)\n",
    "  plt.plot(x_axis_prod, y_axis_prod, '.')\n",
    "\n",
    "  return()"
   ]
  },
  {
   "cell_type": "markdown",
   "id": "7dc715df",
   "metadata": {},
   "source": [
    "## Reservorios subsaturados con empuje de agua"
   ]
  },
  {
   "cell_type": "code",
   "execution_count": 11,
   "id": "f9a419ad",
   "metadata": {},
   "outputs": [],
   "source": [
    "def plot_5_4b(F, Gfgi, Boi, Bo, Bg, Rv, Rsi, Rs, cf, cw, swi, p, pi, Np, t):\n",
    "\n",
    "  # t: time\n",
    "  # Np: cumulative oil produced at time t (STB)\n",
    "\n",
    "  import matplotlib.pyplot as plt\n",
    "\n",
    "  # p > P_bubble (pressure is above bubblepoint), Gfgi = 0\n",
    "\n",
    "  Bto = ((Bo * (1 - Rv * Rsi)) + (Bg * (Rsi - Rs))) / (1 - Rv * Rs)\n",
    "  Eo = Bto - Boi\n",
    "\n",
    "  delta_p = p - pi\n",
    "  Efw = ((cf + cw * swi) / (1 - swi)) * delta_p \n",
    "\n",
    "  # versus time\n",
    "  x_axis_t = t\n",
    "  y_axis_t = F / (Eo + Boi * Efw)\n",
    "\n",
    "  # versus production \n",
    "  x_axis_prod = Np\n",
    "  y_axis_prod = F / (Eo + Boi * Efw)\n",
    "\n",
    "  plt.subplot(1,2,1)\n",
    "  plt.plot(x_axis_t, y_axis_t, '.')\n",
    "  plt.subplot(1,2,2)\n",
    "  plt.plot(x_axis_prod, y_axis_prod, '.')\n",
    "  return()"
   ]
  },
  {
   "cell_type": "markdown",
   "id": "67fa4103",
   "metadata": {},
   "source": [
    "# Pirson Drive Indeces"
   ]
  },
  {
   "cell_type": "markdown",
   "id": "40416caf",
   "metadata": {},
   "source": [
    "i_dd: depletion-drive index (measure effect of oil-phase expansion)\n",
    "i_sd: segregation-drive index (measure effect of gas-phase expansion)\n",
    "i_wd: waterdrive index (measure effect of aquifer expansion)"
   ]
  },
  {
   "cell_type": "code",
   "execution_count": 12,
   "id": "f4aaeccb",
   "metadata": {},
   "outputs": [],
   "source": [
    "def pirson(Np, Gp, Bo, Bg, Boi, Bgi, Bw, Nfoi, Gfgi, Rs, Rv, Rsi, Rvi, We, Wp, pi, p, cf, cw, swi):\n",
    "\n",
    "  # if E_fw want to be neglected, input cf = 0, cw = 0, swi = 0, so later i_fd = 0\n",
    "\n",
    "  F = (Np * (((Bo - Rs * Bg) / (1 - Rv * Rs)))) + (Gp * (((Bg - Rv * Bo) / (1 - Rv * Rs))))\n",
    "\n",
    "  Bto = ((Bo * (1 - Rv * Rsi)) + (Bg * (Rsi - Rs))) / (1 - Rv * Rs)\n",
    "  Eo = Bto - Boi\n",
    "\n",
    "  Btg = ((Bg * (1 - Rs * Rvi)) + (Bo * (Rvi - Rv))) / (1 - Rv * Rs)\n",
    "  Eg = Btg - Bgi\n",
    "\n",
    "  delta_w = We - Bw * Wp\n",
    "\n",
    "  delta_p = p - pi\n",
    "  Efw = ((cf + cw * swi) / (1 - swi)) * delta_p \n",
    "\n",
    "  i_dd = Nfoi * Eo / F \n",
    "  i_sd = Gfgi * Eg / F\n",
    "  i_wd = delta_w / F\n",
    "  i_fd = (((Nfoi * Boi) + (Gfgi * Bgi)) * Efw) / F\n",
    "  return(i_dd + i_sd + i_wd + i_fd) # the result is 1 (balance)"
   ]
  },
  {
   "cell_type": "markdown",
   "id": "a506aad2",
   "metadata": {},
   "source": [
    "## Sills Drive indices"
   ]
  },
  {
   "cell_type": "code",
   "execution_count": 13,
   "id": "214a2472",
   "metadata": {},
   "outputs": [],
   "source": [
    "def sills(Np, Gp, Bo, Bg, Boi, Bgi, Bw, Nfoi, Gfgi, Rs, Rv, Rsi, Rvi, We, Wp, pi, p, cf, cw, swi, G_pg, G_inj, W_inj):\n",
    "\n",
    "  # New terms for Sills:\n",
    "  # G_pg: gas produced from the vapor phase (scf)\n",
    "  # G_inj: cumulative gas injected at time t (scf)\n",
    "  # W_inj: cumulative water injected at time t (STB)\n",
    "\n",
    "  # if E_fw want to be neglected, input cf = 0, cw = 0, swi = 0, so later i_fd = 0\n",
    "\n",
    "  F = (Np * (((Bo - Rs * Bg) / (1 - Rv * Rs)))) + (Gp * (((Bg - Rv * Bo) / (1 - Rv * Rs))))\n",
    "\n",
    "  Bto = ((Bo * (1 - Rv * Rsi)) + (Bg * (Rsi - Rs))) / (1 - Rv * Rs)\n",
    "  Eo = Bto - Boi\n",
    "\n",
    "  Btg = ((Bg * (1 - Rs * Rvi)) + (Bo * (Rvi - Rv))) / (1 - Rv * Rs)\n",
    "  Eg = Btg - Bgi\n",
    "\n",
    "  delta_w = We - Bw * Wp\n",
    "\n",
    "  delta_p = p - pi\n",
    "  Efw = ((cf + cw * swi) / (1 - swi)) * delta_p \n",
    "\n",
    "  i_dd = ((Nfoi * Eo) - ((Gp - G_pg - Np * Rs) * Bg)) / (Np * Bo)\n",
    "  i_sd = ((Gfgi * Eg) - ((G_inj - G_pg) * Bg)) / (Np * Bo)\n",
    "  i_wd = (We + ((W_inj - Wp) * Bw)) / (Np * Bo)\n",
    "  i_fd = (((Nfoi * Boi) + (Gfgi * Bgi)) * Efw) / (Np * Bo)\n",
    "  return(i_dd + i_sd + i_wd + i_fd) # the result is 1 (balance)"
   ]
  },
  {
   "cell_type": "code",
   "execution_count": null,
   "id": "3da35414",
   "metadata": {},
   "outputs": [],
   "source": []
  }
 ],
 "metadata": {
  "kernelspec": {
   "display_name": "Python 3 (ipykernel)",
   "language": "python",
   "name": "python3"
  },
  "language_info": {
   "codemirror_mode": {
    "name": "ipython",
    "version": 3
   },
   "file_extension": ".py",
   "mimetype": "text/x-python",
   "name": "python",
   "nbconvert_exporter": "python",
   "pygments_lexer": "ipython3",
   "version": "3.8.6"
  },
  "toc": {
   "base_numbering": 1,
   "nav_menu": {},
   "number_sections": true,
   "sideBar": true,
   "skip_h1_title": false,
   "title_cell": "Table of Contents",
   "title_sidebar": "Contents",
   "toc_cell": false,
   "toc_position": {},
   "toc_section_display": true,
   "toc_window_display": false
  }
 },
 "nbformat": 4,
 "nbformat_minor": 5
}
