{
 "cells": [
  {
   "cell_type": "markdown",
   "id": "deca3412",
   "metadata": {},
   "source": [
    "# Ensayo isochronal en pozos de gas ejercicio teorico"
   ]
  },
  {
   "cell_type": "markdown",
   "id": "57820622",
   "metadata": {},
   "source": [
    "## Importo librerias"
   ]
  },
  {
   "cell_type": "code",
   "execution_count": 1,
   "id": "25ee00e9",
   "metadata": {},
   "outputs": [],
   "source": [
    "import numpy as np\n",
    "import pandas as pd\n",
    "import seaborn as sns\n",
    "import matplotlib.pyplot as plt"
   ]
  },
  {
   "cell_type": "markdown",
   "id": "9aa0c34f",
   "metadata": {},
   "source": [
    "## Genero la data"
   ]
  },
  {
   "cell_type": "code",
   "execution_count": 2,
   "id": "04a8f78d",
   "metadata": {},
   "outputs": [
    {
     "data": {
      "text/plain": [
       "(10, 10, 10, 10)"
      ]
     },
     "execution_count": 2,
     "metadata": {},
     "output_type": "execute_result"
    }
   ],
   "source": [
    "t = [48,12,15,12,17,12,18,12,72,100]\n",
    "\n",
    "pw = [1952,1761,1952,1694,1952,1510,1952,1320,1151,1952]\n",
    "\n",
    "q = [0,2.6,0,3.3,0,5.0,0,6.3,6.0,0]\n",
    "\n",
    "labels = ['S0','F1','S1','F2','S2','F3','S3','F4','EF','S_f']\n",
    "\n",
    "len(t),len(pw),len(q),len(labels)"
   ]
  },
  {
   "cell_type": "code",
   "execution_count": 3,
   "id": "aecd9457",
   "metadata": {},
   "outputs": [
    {
     "data": {
      "text/html": [
       "<div>\n",
       "<style scoped>\n",
       "    .dataframe tbody tr th:only-of-type {\n",
       "        vertical-align: middle;\n",
       "    }\n",
       "\n",
       "    .dataframe tbody tr th {\n",
       "        vertical-align: top;\n",
       "    }\n",
       "\n",
       "    .dataframe thead th {\n",
       "        text-align: right;\n",
       "    }\n",
       "</style>\n",
       "<table border=\"1\" class=\"dataframe\">\n",
       "  <thead>\n",
       "    <tr style=\"text-align: right;\">\n",
       "      <th></th>\n",
       "      <th>Test</th>\n",
       "      <th>T(hrs)</th>\n",
       "      <th>Pw</th>\n",
       "      <th>Q(MMscf/d)</th>\n",
       "    </tr>\n",
       "  </thead>\n",
       "  <tbody>\n",
       "    <tr>\n",
       "      <th>0</th>\n",
       "      <td>S0</td>\n",
       "      <td>48</td>\n",
       "      <td>1952</td>\n",
       "      <td>0.0</td>\n",
       "    </tr>\n",
       "    <tr>\n",
       "      <th>1</th>\n",
       "      <td>F1</td>\n",
       "      <td>12</td>\n",
       "      <td>1761</td>\n",
       "      <td>2.6</td>\n",
       "    </tr>\n",
       "    <tr>\n",
       "      <th>2</th>\n",
       "      <td>S1</td>\n",
       "      <td>15</td>\n",
       "      <td>1952</td>\n",
       "      <td>0.0</td>\n",
       "    </tr>\n",
       "    <tr>\n",
       "      <th>3</th>\n",
       "      <td>F2</td>\n",
       "      <td>12</td>\n",
       "      <td>1694</td>\n",
       "      <td>3.3</td>\n",
       "    </tr>\n",
       "    <tr>\n",
       "      <th>4</th>\n",
       "      <td>S2</td>\n",
       "      <td>17</td>\n",
       "      <td>1952</td>\n",
       "      <td>0.0</td>\n",
       "    </tr>\n",
       "    <tr>\n",
       "      <th>5</th>\n",
       "      <td>F3</td>\n",
       "      <td>12</td>\n",
       "      <td>1510</td>\n",
       "      <td>5.0</td>\n",
       "    </tr>\n",
       "    <tr>\n",
       "      <th>6</th>\n",
       "      <td>S3</td>\n",
       "      <td>18</td>\n",
       "      <td>1952</td>\n",
       "      <td>0.0</td>\n",
       "    </tr>\n",
       "    <tr>\n",
       "      <th>7</th>\n",
       "      <td>F4</td>\n",
       "      <td>12</td>\n",
       "      <td>1320</td>\n",
       "      <td>6.3</td>\n",
       "    </tr>\n",
       "    <tr>\n",
       "      <th>8</th>\n",
       "      <td>EF</td>\n",
       "      <td>72</td>\n",
       "      <td>1151</td>\n",
       "      <td>6.0</td>\n",
       "    </tr>\n",
       "    <tr>\n",
       "      <th>9</th>\n",
       "      <td>S_f</td>\n",
       "      <td>100</td>\n",
       "      <td>1952</td>\n",
       "      <td>0.0</td>\n",
       "    </tr>\n",
       "  </tbody>\n",
       "</table>\n",
       "</div>"
      ],
      "text/plain": [
       "  Test  T(hrs)    Pw  Q(MMscf/d)\n",
       "0   S0      48  1952         0.0\n",
       "1   F1      12  1761         2.6\n",
       "2   S1      15  1952         0.0\n",
       "3   F2      12  1694         3.3\n",
       "4   S2      17  1952         0.0\n",
       "5   F3      12  1510         5.0\n",
       "6   S3      18  1952         0.0\n",
       "7   F4      12  1320         6.3\n",
       "8   EF      72  1151         6.0\n",
       "9  S_f     100  1952         0.0"
      ]
     },
     "execution_count": 3,
     "metadata": {},
     "output_type": "execute_result"
    }
   ],
   "source": [
    "df = pd.DataFrame({'Test':labels,'T(hrs)':t,'Pw':pw,'Q(MMscf/d)':q})\n",
    "df"
   ]
  },
  {
   "cell_type": "code",
   "execution_count": 4,
   "id": "bd9f059d",
   "metadata": {},
   "outputs": [],
   "source": [
    "pbar = 1952 # en psi"
   ]
  },
  {
   "cell_type": "code",
   "execution_count": 5,
   "id": "a0d54752",
   "metadata": {},
   "outputs": [],
   "source": [
    "df['Pbar2 - Pwf2'] = pbar**2 - df['Pw']**2"
   ]
  },
  {
   "cell_type": "code",
   "execution_count": 6,
   "id": "40ff1a05",
   "metadata": {},
   "outputs": [
    {
     "data": {
      "text/html": [
       "<div>\n",
       "<style scoped>\n",
       "    .dataframe tbody tr th:only-of-type {\n",
       "        vertical-align: middle;\n",
       "    }\n",
       "\n",
       "    .dataframe tbody tr th {\n",
       "        vertical-align: top;\n",
       "    }\n",
       "\n",
       "    .dataframe thead th {\n",
       "        text-align: right;\n",
       "    }\n",
       "</style>\n",
       "<table border=\"1\" class=\"dataframe\">\n",
       "  <thead>\n",
       "    <tr style=\"text-align: right;\">\n",
       "      <th></th>\n",
       "      <th>Test</th>\n",
       "      <th>T(hrs)</th>\n",
       "      <th>Pw</th>\n",
       "      <th>Q(MMscf/d)</th>\n",
       "      <th>Pbar2 - Pwf2</th>\n",
       "    </tr>\n",
       "  </thead>\n",
       "  <tbody>\n",
       "    <tr>\n",
       "      <th>0</th>\n",
       "      <td>S0</td>\n",
       "      <td>48</td>\n",
       "      <td>1952</td>\n",
       "      <td>0.0</td>\n",
       "      <td>0</td>\n",
       "    </tr>\n",
       "    <tr>\n",
       "      <th>1</th>\n",
       "      <td>F1</td>\n",
       "      <td>12</td>\n",
       "      <td>1761</td>\n",
       "      <td>2.6</td>\n",
       "      <td>709183</td>\n",
       "    </tr>\n",
       "    <tr>\n",
       "      <th>2</th>\n",
       "      <td>S1</td>\n",
       "      <td>15</td>\n",
       "      <td>1952</td>\n",
       "      <td>0.0</td>\n",
       "      <td>0</td>\n",
       "    </tr>\n",
       "    <tr>\n",
       "      <th>3</th>\n",
       "      <td>F2</td>\n",
       "      <td>12</td>\n",
       "      <td>1694</td>\n",
       "      <td>3.3</td>\n",
       "      <td>940668</td>\n",
       "    </tr>\n",
       "    <tr>\n",
       "      <th>4</th>\n",
       "      <td>S2</td>\n",
       "      <td>17</td>\n",
       "      <td>1952</td>\n",
       "      <td>0.0</td>\n",
       "      <td>0</td>\n",
       "    </tr>\n",
       "    <tr>\n",
       "      <th>5</th>\n",
       "      <td>F3</td>\n",
       "      <td>12</td>\n",
       "      <td>1510</td>\n",
       "      <td>5.0</td>\n",
       "      <td>1530204</td>\n",
       "    </tr>\n",
       "    <tr>\n",
       "      <th>6</th>\n",
       "      <td>S3</td>\n",
       "      <td>18</td>\n",
       "      <td>1952</td>\n",
       "      <td>0.0</td>\n",
       "      <td>0</td>\n",
       "    </tr>\n",
       "    <tr>\n",
       "      <th>7</th>\n",
       "      <td>F4</td>\n",
       "      <td>12</td>\n",
       "      <td>1320</td>\n",
       "      <td>6.3</td>\n",
       "      <td>2067904</td>\n",
       "    </tr>\n",
       "    <tr>\n",
       "      <th>8</th>\n",
       "      <td>EF</td>\n",
       "      <td>72</td>\n",
       "      <td>1151</td>\n",
       "      <td>6.0</td>\n",
       "      <td>2485503</td>\n",
       "    </tr>\n",
       "    <tr>\n",
       "      <th>9</th>\n",
       "      <td>S_f</td>\n",
       "      <td>100</td>\n",
       "      <td>1952</td>\n",
       "      <td>0.0</td>\n",
       "      <td>0</td>\n",
       "    </tr>\n",
       "  </tbody>\n",
       "</table>\n",
       "</div>"
      ],
      "text/plain": [
       "  Test  T(hrs)    Pw  Q(MMscf/d)  Pbar2 - Pwf2\n",
       "0   S0      48  1952         0.0             0\n",
       "1   F1      12  1761         2.6        709183\n",
       "2   S1      15  1952         0.0             0\n",
       "3   F2      12  1694         3.3        940668\n",
       "4   S2      17  1952         0.0             0\n",
       "5   F3      12  1510         5.0       1530204\n",
       "6   S3      18  1952         0.0             0\n",
       "7   F4      12  1320         6.3       2067904\n",
       "8   EF      72  1151         6.0       2485503\n",
       "9  S_f     100  1952         0.0             0"
      ]
     },
     "execution_count": 6,
     "metadata": {},
     "output_type": "execute_result"
    }
   ],
   "source": [
    "df"
   ]
  },
  {
   "cell_type": "code",
   "execution_count": 7,
   "id": "3499eec2",
   "metadata": {},
   "outputs": [
    {
     "data": {
      "text/plain": [
       "3810087.91"
      ]
     },
     "execution_count": 7,
     "metadata": {},
     "output_type": "execute_result"
    }
   ],
   "source": [
    "#AOF conditions\n",
    "delP2_aof = pbar**2 - 14.7**2\n",
    "\n",
    "delP2_aof"
   ]
  },
  {
   "cell_type": "code",
   "execution_count": 8,
   "id": "9f284065",
   "metadata": {},
   "outputs": [],
   "source": [
    "df_isotest = df[df['Q(MMscf/d)']>0]"
   ]
  },
  {
   "cell_type": "code",
   "execution_count": 9,
   "id": "99a9cbc5",
   "metadata": {},
   "outputs": [
    {
     "data": {
      "text/html": [
       "<div>\n",
       "<style scoped>\n",
       "    .dataframe tbody tr th:only-of-type {\n",
       "        vertical-align: middle;\n",
       "    }\n",
       "\n",
       "    .dataframe tbody tr th {\n",
       "        vertical-align: top;\n",
       "    }\n",
       "\n",
       "    .dataframe thead th {\n",
       "        text-align: right;\n",
       "    }\n",
       "</style>\n",
       "<table border=\"1\" class=\"dataframe\">\n",
       "  <thead>\n",
       "    <tr style=\"text-align: right;\">\n",
       "      <th></th>\n",
       "      <th>Test</th>\n",
       "      <th>T(hrs)</th>\n",
       "      <th>Pw</th>\n",
       "      <th>Q(MMscf/d)</th>\n",
       "      <th>Pbar2 - Pwf2</th>\n",
       "    </tr>\n",
       "  </thead>\n",
       "  <tbody>\n",
       "    <tr>\n",
       "      <th>1</th>\n",
       "      <td>F1</td>\n",
       "      <td>12</td>\n",
       "      <td>1761</td>\n",
       "      <td>2.6</td>\n",
       "      <td>709183</td>\n",
       "    </tr>\n",
       "    <tr>\n",
       "      <th>3</th>\n",
       "      <td>F2</td>\n",
       "      <td>12</td>\n",
       "      <td>1694</td>\n",
       "      <td>3.3</td>\n",
       "      <td>940668</td>\n",
       "    </tr>\n",
       "    <tr>\n",
       "      <th>5</th>\n",
       "      <td>F3</td>\n",
       "      <td>12</td>\n",
       "      <td>1510</td>\n",
       "      <td>5.0</td>\n",
       "      <td>1530204</td>\n",
       "    </tr>\n",
       "    <tr>\n",
       "      <th>7</th>\n",
       "      <td>F4</td>\n",
       "      <td>12</td>\n",
       "      <td>1320</td>\n",
       "      <td>6.3</td>\n",
       "      <td>2067904</td>\n",
       "    </tr>\n",
       "    <tr>\n",
       "      <th>8</th>\n",
       "      <td>EF</td>\n",
       "      <td>72</td>\n",
       "      <td>1151</td>\n",
       "      <td>6.0</td>\n",
       "      <td>2485503</td>\n",
       "    </tr>\n",
       "  </tbody>\n",
       "</table>\n",
       "</div>"
      ],
      "text/plain": [
       "  Test  T(hrs)    Pw  Q(MMscf/d)  Pbar2 - Pwf2\n",
       "1   F1      12  1761         2.6        709183\n",
       "3   F2      12  1694         3.3        940668\n",
       "5   F3      12  1510         5.0       1530204\n",
       "7   F4      12  1320         6.3       2067904\n",
       "8   EF      72  1151         6.0       2485503"
      ]
     },
     "execution_count": 9,
     "metadata": {},
     "output_type": "execute_result"
    }
   ],
   "source": [
    "df_isotest"
   ]
  },
  {
   "cell_type": "code",
   "execution_count": 13,
   "id": "86165150",
   "metadata": {},
   "outputs": [
    {
     "name": "stderr",
     "output_type": "stream",
     "text": [
      "/home/juliom86/.pyenv/versions/3.8.6/envs/lewagon/lib/python3.8/site-packages/seaborn/_decorators.py:36: FutureWarning: Pass the following variables as keyword args: x, y. From version 0.12, the only valid positional argument will be `data`, and passing other arguments without an explicit keyword will result in an error or misinterpretation.\n",
      "  warnings.warn(\n"
     ]
    },
    {
     "data": {
      "text/plain": [
       "<AxesSubplot:xlabel='Q(MMscf/d)', ylabel='Pbar2 - Pwf2'>"
      ]
     },
     "execution_count": 13,
     "metadata": {},
     "output_type": "execute_result"
    },
    {
     "data": {
      "image/png": "[encoded data removed]",
      "text/plain": [
       "<Figure size 432x288 with 1 Axes>"
      ]
     },
     "metadata": {
      "needs_background": "light"
     },
     "output_type": "display_data"
    }
   ],
   "source": [
    "sns.regplot(np.log(df_isotest['Q(MMscf/d)'][:-1]),np.log(df_isotest['Pbar2 - Pwf2'][:-1]))"
   ]
  },
  {
   "cell_type": "code",
   "execution_count": 11,
   "id": "ae3af196",
   "metadata": {},
   "outputs": [],
   "source": [
    "iso = np.polyfit(np.log(df_isotest['Q(MMscf/d)'][:-1]),np.log(df_isotest['Pbar2 - Pwf2'][:-1]),deg=1)"
   ]
  },
  {
   "cell_type": "code",
   "execution_count": 12,
   "id": "cda0ae79",
   "metadata": {},
   "outputs": [],
   "source": [
    "df_isotest.reset_index(inplace=True,drop=True)"
   ]
  },
  {
   "cell_type": "code",
   "execution_count": 14,
   "id": "eef6a725",
   "metadata": {},
   "outputs": [
    {
     "data": {
      "text/html": [
       "<div>\n",
       "<style scoped>\n",
       "    .dataframe tbody tr th:only-of-type {\n",
       "        vertical-align: middle;\n",
       "    }\n",
       "\n",
       "    .dataframe tbody tr th {\n",
       "        vertical-align: top;\n",
       "    }\n",
       "\n",
       "    .dataframe thead th {\n",
       "        text-align: right;\n",
       "    }\n",
       "</style>\n",
       "<table border=\"1\" class=\"dataframe\">\n",
       "  <thead>\n",
       "    <tr style=\"text-align: right;\">\n",
       "      <th></th>\n",
       "      <th>Test</th>\n",
       "      <th>T(hrs)</th>\n",
       "      <th>Pw</th>\n",
       "      <th>Q(MMscf/d)</th>\n",
       "      <th>Pbar2 - Pwf2</th>\n",
       "    </tr>\n",
       "  </thead>\n",
       "  <tbody>\n",
       "    <tr>\n",
       "      <th>0</th>\n",
       "      <td>F1</td>\n",
       "      <td>12</td>\n",
       "      <td>1761</td>\n",
       "      <td>2.6</td>\n",
       "      <td>709183</td>\n",
       "    </tr>\n",
       "    <tr>\n",
       "      <th>1</th>\n",
       "      <td>F2</td>\n",
       "      <td>12</td>\n",
       "      <td>1694</td>\n",
       "      <td>3.3</td>\n",
       "      <td>940668</td>\n",
       "    </tr>\n",
       "    <tr>\n",
       "      <th>2</th>\n",
       "      <td>F3</td>\n",
       "      <td>12</td>\n",
       "      <td>1510</td>\n",
       "      <td>5.0</td>\n",
       "      <td>1530204</td>\n",
       "    </tr>\n",
       "    <tr>\n",
       "      <th>3</th>\n",
       "      <td>F4</td>\n",
       "      <td>12</td>\n",
       "      <td>1320</td>\n",
       "      <td>6.3</td>\n",
       "      <td>2067904</td>\n",
       "    </tr>\n",
       "    <tr>\n",
       "      <th>4</th>\n",
       "      <td>EF</td>\n",
       "      <td>72</td>\n",
       "      <td>1151</td>\n",
       "      <td>6.0</td>\n",
       "      <td>2485503</td>\n",
       "    </tr>\n",
       "  </tbody>\n",
       "</table>\n",
       "</div>"
      ],
      "text/plain": [
       "  Test  T(hrs)    Pw  Q(MMscf/d)  Pbar2 - Pwf2\n",
       "0   F1      12  1761         2.6        709183\n",
       "1   F2      12  1694         3.3        940668\n",
       "2   F3      12  1510         5.0       1530204\n",
       "3   F4      12  1320         6.3       2067904\n",
       "4   EF      72  1151         6.0       2485503"
      ]
     },
     "execution_count": 14,
     "metadata": {},
     "output_type": "execute_result"
    }
   ],
   "source": [
    "df_isotest"
   ]
  },
  {
   "cell_type": "code",
   "execution_count": 15,
   "id": "87ac14ba",
   "metadata": {},
   "outputs": [],
   "source": [
    "iso_q = df_isotest['Q(MMscf/d)'][:-1]\n",
    "iso_p2 = df_isotest['Pbar2 - Pwf2'][:-1]\n",
    "n = 1/1.202"
   ]
  },
  {
   "cell_type": "code",
   "execution_count": 16,
   "id": "4e9f85ff",
   "metadata": {},
   "outputs": [
    {
     "data": {
      "text/plain": [
       "12.572290729504617"
      ]
     },
     "execution_count": 16,
     "metadata": {},
     "output_type": "execute_result"
    }
   ],
   "source": [
    "logc_s = np.log(2485503) - (1.202)*np.log(6)\n",
    "\n",
    "logc_s"
   ]
  },
  {
   "cell_type": "code",
   "execution_count": 17,
   "id": "df078dd6",
   "metadata": {},
   "outputs": [],
   "source": [
    "def stab_iso(q):\n",
    "    \n",
    "    logp2 = 1.202*np.log(q) + 12.5723\n",
    "    \n",
    "    return np.exp(logp2)\n",
    "    \n",
    "    \n",
    "\n",
    "def stab_q(pw):\n",
    "    \n",
    "    logq = (np.log(pbar**2 - pw**2) - 12.5723)/1.202\n",
    "    \n",
    "    return np.exp(logq)\n",
    "\n",
    "\n",
    "aof_stab = stab_q(14.7)"
   ]
  },
  {
   "cell_type": "code",
   "execution_count": 18,
   "id": "ccb2d466",
   "metadata": {},
   "outputs": [
    {
     "name": "stderr",
     "output_type": "stream",
     "text": [
      "/tmp/ipykernel_2537/992650102.py:1: SettingWithCopyWarning: \n",
      "A value is trying to be set on a copy of a slice from a DataFrame.\n",
      "Try using .loc[row_indexer,col_indexer] = value instead\n",
      "\n",
      "See the caveats in the documentation: https://pandas.pydata.org/pandas-docs/stable/user_guide/indexing.html#returning-a-view-versus-a-copy\n",
      "  df_isotest['Stablized : P2'] = df_isotest['Q(MMscf/d)'].apply(stab_iso)\n"
     ]
    }
   ],
   "source": [
    "df_isotest['Stablized : P2'] = df_isotest['Q(MMscf/d)'].apply(stab_iso)"
   ]
  },
  {
   "cell_type": "code",
   "execution_count": 19,
   "id": "941e1512",
   "metadata": {},
   "outputs": [
    {
     "data": {
      "text/plain": [
       "Text(0, 0.5, '$P_{av}^2 - Pw^2 (Psi^2) - Log Scaled$')"
      ]
     },
     "execution_count": 19,
     "metadata": {},
     "output_type": "execute_result"
    },
    {
     "data": {
      "image/png": "[encoded data removed]",
      "text/plain": [
       "<Figure size 900x600 with 1 Axes>"
      ]
     },
     "metadata": {
      "needs_background": "light"
     },
     "output_type": "display_data"
    }
   ],
   "source": [
    "plt.figure(dpi=150);\n",
    "plt.style.use('seaborn')\n",
    "plt.grid()\n",
    "\n",
    "\n",
    "\n",
    "#Isochronal Test Points Model (Used to find slope)\n",
    "plt.scatter(np.log(df_isotest['Q(MMscf/d)'][:-1]),np.log(df_isotest['Pbar2 - Pwf2'][:-1]))\n",
    "plt.plot(np.log(df_isotest['Q(MMscf/d)'][:-1]),np.log(df_isotest['Pbar2 - Pwf2'][:-1]),label='Isochronal Test Points')\n",
    "\n",
    "x = np.log(df_isotest['Q(MMscf/d)'][:-1])\n",
    "y = 1.202*x + 12.31\n",
    "# plt.plot(x,y)\n",
    "\n",
    "\n",
    "xf = np.log(6)\n",
    "yf = np.log(2485503)\n",
    "\n",
    "plt.scatter(xf,yf)\n",
    "\n",
    "\n",
    "plt.plot(np.log(df_isotest['Q(MMscf/d)']),np.log(df_isotest['Stablized : P2']),label='Stabilized Model')\n",
    "\n",
    "\n",
    "# plt.axvline(x=np.log(aof_stab), label='AOF (log-Scaled)')\n",
    "\n",
    "plt.legend()\n",
    "plt.grid()\n",
    "plt.xlabel('Qg(MMscf/d)-Log Scaled')\n",
    "plt.ylabel('$P_{av}^2 - Pw^2 (Psi^2) - Log Scaled$')"
   ]
  },
  {
   "cell_type": "code",
   "execution_count": 24,
   "id": "acc9d6f9",
   "metadata": {},
   "outputs": [
    {
     "data": {
      "text/html": [
       "<div>\n",
       "<style scoped>\n",
       "    .dataframe tbody tr th:only-of-type {\n",
       "        vertical-align: middle;\n",
       "    }\n",
       "\n",
       "    .dataframe tbody tr th {\n",
       "        vertical-align: top;\n",
       "    }\n",
       "\n",
       "    .dataframe thead th {\n",
       "        text-align: right;\n",
       "    }\n",
       "</style>\n",
       "<table border=\"1\" class=\"dataframe\">\n",
       "  <thead>\n",
       "    <tr style=\"text-align: right;\">\n",
       "      <th></th>\n",
       "      <th>Test</th>\n",
       "      <th>T(hrs)</th>\n",
       "      <th>Pw</th>\n",
       "      <th>Q(MMscf/d)</th>\n",
       "      <th>Pbar2 - Pwf2</th>\n",
       "      <th>Stablized : P2</th>\n",
       "    </tr>\n",
       "  </thead>\n",
       "  <tbody>\n",
       "    <tr>\n",
       "      <th>0</th>\n",
       "      <td>F1</td>\n",
       "      <td>12</td>\n",
       "      <td>1761.0</td>\n",
       "      <td>2.600000</td>\n",
       "      <td>709183.00</td>\n",
       "      <td>9.096587e+05</td>\n",
       "    </tr>\n",
       "    <tr>\n",
       "      <th>1</th>\n",
       "      <td>F2</td>\n",
       "      <td>12</td>\n",
       "      <td>1694.0</td>\n",
       "      <td>3.300000</td>\n",
       "      <td>940668.00</td>\n",
       "      <td>1.211530e+06</td>\n",
       "    </tr>\n",
       "    <tr>\n",
       "      <th>2</th>\n",
       "      <td>F3</td>\n",
       "      <td>12</td>\n",
       "      <td>1510.0</td>\n",
       "      <td>5.000000</td>\n",
       "      <td>1530204.00</td>\n",
       "      <td>1.996377e+06</td>\n",
       "    </tr>\n",
       "    <tr>\n",
       "      <th>3</th>\n",
       "      <td>F4</td>\n",
       "      <td>12</td>\n",
       "      <td>1320.0</td>\n",
       "      <td>6.300000</td>\n",
       "      <td>2067904.00</td>\n",
       "      <td>2.635651e+06</td>\n",
       "    </tr>\n",
       "    <tr>\n",
       "      <th>4</th>\n",
       "      <td>EF</td>\n",
       "      <td>72</td>\n",
       "      <td>1151.0</td>\n",
       "      <td>6.000000</td>\n",
       "      <td>2485503.00</td>\n",
       "      <td>2.485526e+06</td>\n",
       "    </tr>\n",
       "    <tr>\n",
       "      <th>5</th>\n",
       "      <td>AOF</td>\n",
       "      <td>-</td>\n",
       "      <td>14.7</td>\n",
       "      <td>8.560345</td>\n",
       "      <td>3810087.91</td>\n",
       "      <td>3.810088e+06</td>\n",
       "    </tr>\n",
       "  </tbody>\n",
       "</table>\n",
       "</div>"
      ],
      "text/plain": [
       "  Test T(hrs)      Pw  Q(MMscf/d)  Pbar2 - Pwf2  Stablized : P2\n",
       "0   F1     12  1761.0    2.600000     709183.00    9.096587e+05\n",
       "1   F2     12  1694.0    3.300000     940668.00    1.211530e+06\n",
       "2   F3     12  1510.0    5.000000    1530204.00    1.996377e+06\n",
       "3   F4     12  1320.0    6.300000    2067904.00    2.635651e+06\n",
       "4   EF     72  1151.0    6.000000    2485503.00    2.485526e+06\n",
       "5  AOF      -    14.7    8.560345    3810087.91    3.810088e+06"
      ]
     },
     "execution_count": 24,
     "metadata": {},
     "output_type": "execute_result"
    }
   ],
   "source": [
    "df_isotest = df_isotest.append(new,ignore_index=True)\n",
    "\n",
    "df_isotest"
   ]
  },
  {
   "cell_type": "code",
   "execution_count": 25,
   "id": "6460e53f",
   "metadata": {},
   "outputs": [],
   "source": [
    "new = {'Test':'AOF',\n",
    "      'T(hrs)':'-',\n",
    "      'Pw':14.7,\n",
    "      'Q(MMscf/d)':aof_stab,\n",
    "      'Pbar2 - Pwf2':pbar**2-14.7**2,\n",
    "      'Stablized : P2':stab_iso(aof_stab)}"
   ]
  },
  {
   "cell_type": "code",
   "execution_count": 26,
   "id": "42a7598b",
   "metadata": {},
   "outputs": [
    {
     "data": {
      "text/html": [
       "<div>\n",
       "<style scoped>\n",
       "    .dataframe tbody tr th:only-of-type {\n",
       "        vertical-align: middle;\n",
       "    }\n",
       "\n",
       "    .dataframe tbody tr th {\n",
       "        vertical-align: top;\n",
       "    }\n",
       "\n",
       "    .dataframe thead th {\n",
       "        text-align: right;\n",
       "    }\n",
       "</style>\n",
       "<table border=\"1\" class=\"dataframe\">\n",
       "  <thead>\n",
       "    <tr style=\"text-align: right;\">\n",
       "      <th></th>\n",
       "      <th>Test</th>\n",
       "      <th>T(hrs)</th>\n",
       "      <th>Pw</th>\n",
       "      <th>Q(MMscf/d)</th>\n",
       "      <th>Pbar2 - Pwf2</th>\n",
       "      <th>Stablized : P2</th>\n",
       "    </tr>\n",
       "  </thead>\n",
       "  <tbody>\n",
       "    <tr>\n",
       "      <th>0</th>\n",
       "      <td>F1</td>\n",
       "      <td>12</td>\n",
       "      <td>1761.0</td>\n",
       "      <td>2.600000</td>\n",
       "      <td>709183.00</td>\n",
       "      <td>9.096587e+05</td>\n",
       "    </tr>\n",
       "    <tr>\n",
       "      <th>1</th>\n",
       "      <td>F2</td>\n",
       "      <td>12</td>\n",
       "      <td>1694.0</td>\n",
       "      <td>3.300000</td>\n",
       "      <td>940668.00</td>\n",
       "      <td>1.211530e+06</td>\n",
       "    </tr>\n",
       "    <tr>\n",
       "      <th>2</th>\n",
       "      <td>F3</td>\n",
       "      <td>12</td>\n",
       "      <td>1510.0</td>\n",
       "      <td>5.000000</td>\n",
       "      <td>1530204.00</td>\n",
       "      <td>1.996377e+06</td>\n",
       "    </tr>\n",
       "    <tr>\n",
       "      <th>3</th>\n",
       "      <td>F4</td>\n",
       "      <td>12</td>\n",
       "      <td>1320.0</td>\n",
       "      <td>6.300000</td>\n",
       "      <td>2067904.00</td>\n",
       "      <td>2.635651e+06</td>\n",
       "    </tr>\n",
       "    <tr>\n",
       "      <th>4</th>\n",
       "      <td>EF</td>\n",
       "      <td>72</td>\n",
       "      <td>1151.0</td>\n",
       "      <td>6.000000</td>\n",
       "      <td>2485503.00</td>\n",
       "      <td>2.485526e+06</td>\n",
       "    </tr>\n",
       "    <tr>\n",
       "      <th>5</th>\n",
       "      <td>AOF</td>\n",
       "      <td>-</td>\n",
       "      <td>14.7</td>\n",
       "      <td>8.560345</td>\n",
       "      <td>3810087.91</td>\n",
       "      <td>3.810088e+06</td>\n",
       "    </tr>\n",
       "  </tbody>\n",
       "</table>\n",
       "</div>"
      ],
      "text/plain": [
       "  Test T(hrs)      Pw  Q(MMscf/d)  Pbar2 - Pwf2  Stablized : P2\n",
       "0   F1     12  1761.0    2.600000     709183.00    9.096587e+05\n",
       "1   F2     12  1694.0    3.300000     940668.00    1.211530e+06\n",
       "2   F3     12  1510.0    5.000000    1530204.00    1.996377e+06\n",
       "3   F4     12  1320.0    6.300000    2067904.00    2.635651e+06\n",
       "4   EF     72  1151.0    6.000000    2485503.00    2.485526e+06\n",
       "5  AOF      -    14.7    8.560345    3810087.91    3.810088e+06"
      ]
     },
     "execution_count": 26,
     "metadata": {},
     "output_type": "execute_result"
    }
   ],
   "source": [
    "df_isotest"
   ]
  },
  {
   "cell_type": "code",
   "execution_count": 27,
   "id": "489d33db",
   "metadata": {},
   "outputs": [
    {
     "data": {
      "text/plain": [
       "Text(0.5, 1.0, 'Isochronal Test Results : AOF = 8.56 MMscf/D')"
      ]
     },
     "execution_count": 27,
     "metadata": {},
     "output_type": "execute_result"
    },
    {
     "data": {
      "image/png": "[encoded data removed]",
      "text/plain": [
       "<Figure size 1200x825 with 1 Axes>"
      ]
     },
     "metadata": {},
     "output_type": "display_data"
    }
   ],
   "source": [
    "plt.figure(dpi=150);\n",
    "plt.style.use('seaborn')\n",
    "plt.grid()\n",
    "\n",
    "\n",
    "\n",
    "#Isochronal Test Points Model (Used to find slope)\n",
    "plt.scatter(np.log(df_isotest['Q(MMscf/d)'][:-2]),np.log(df_isotest['Pbar2 - Pwf2'][:-2]))\n",
    "plt.plot(np.log(df_isotest['Q(MMscf/d)'][:-2]),np.log(df_isotest['Pbar2 - Pwf2'][:-2]),label='Isochronal Test Points')\n",
    "\n",
    "x = np.log(df_isotest['Q(MMscf/d)'][:-1])\n",
    "y = 1.202*x + 12.31\n",
    "# plt.plot(x,y)\n",
    "\n",
    "\n",
    "xf = np.log(6)\n",
    "yf = np.log(2485503)\n",
    "\n",
    "plt.scatter(xf,yf)\n",
    "\n",
    "\n",
    "plt.plot(np.log(df_isotest['Q(MMscf/d)']),np.log(df_isotest['Stablized : P2']),label='Stabilized Model')\n",
    "\n",
    "\n",
    "plt.axvline(x=np.log(aof_stab), label='AOF (log-Scaled)')\n",
    "plt.axhline(y=np.log(3.810088e+06), label='$\\ delta P_{AOF}^2$(log-Scaled)')\n",
    "\n",
    "\n",
    "plt.xlim(0,2.5)\n",
    "plt.ylim(13.4,15.5)\n",
    "\n",
    "plt.legend()\n",
    "plt.grid()\n",
    "plt.xlabel('Qg(MMscf/d)-Log Scaled')\n",
    "plt.ylabel('$P_{av}^2 - Pw^2 (Psi^2) - Log Scaled$')\n",
    "\n",
    "plt.title('Isochronal Test Results : AOF = 8.56 MMscf/D')"
   ]
  },
  {
   "cell_type": "code",
   "execution_count": null,
   "id": "883df4f3",
   "metadata": {},
   "outputs": [],
   "source": []
  }
 ],
 "metadata": {
  "kernelspec": {
   "display_name": "Python 3 (ipykernel)",
   "language": "python",
   "name": "python3"
  },
  "language_info": {
   "codemirror_mode": {
    "name": "ipython",
    "version": 3
   },
   "file_extension": ".py",
   "mimetype": "text/x-python",
   "name": "python",
   "nbconvert_exporter": "python",
   "pygments_lexer": "ipython3",
   "version": "3.8.6"
  },
  "toc": {
   "base_numbering": 1,
   "nav_menu": {},
   "number_sections": true,
   "sideBar": true,
   "skip_h1_title": false,
   "title_cell": "Table of Contents",
   "title_sidebar": "Contents",
   "toc_cell": false,
   "toc_position": {},
   "toc_section_display": true,
   "toc_window_display": false
  }
 },
 "nbformat": 4,
 "nbformat_minor": 5
}
