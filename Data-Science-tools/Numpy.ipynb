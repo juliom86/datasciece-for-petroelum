{
 "cells": [
  {
   "cell_type": "code",
   "execution_count": 1,
   "id": "43f9737b",
   "metadata": {},
   "outputs": [],
   "source": [
    "import numpy as np\n",
    "import matplotlib.pyplot as plt"
   ]
  },
  {
   "cell_type": "markdown",
   "id": "d3242673",
   "metadata": {
    "heading_collapsed": true
   },
   "source": [
    "# Crear Arrays"
   ]
  },
  {
   "cell_type": "code",
   "execution_count": 2,
   "id": "73cabcce",
   "metadata": {
    "hidden": true
   },
   "outputs": [
    {
     "data": {
      "text/plain": [
       "array([3, 5, 7, 3])"
      ]
     },
     "execution_count": 2,
     "metadata": {},
     "output_type": "execute_result"
    }
   ],
   "source": [
    "a1 = np.array([3,5,7,3])\n",
    "a1"
   ]
  },
  {
   "cell_type": "code",
   "execution_count": 3,
   "id": "0e4e02f9",
   "metadata": {
    "hidden": true
   },
   "outputs": [
    {
     "data": {
      "text/plain": [
       "array([0., 0., 0., 0., 0., 0., 0., 0., 0., 0.])"
      ]
     },
     "execution_count": 3,
     "metadata": {},
     "output_type": "execute_result"
    }
   ],
   "source": [
    "a2= np.zeros(10)\n",
    "a2"
   ]
  },
  {
   "cell_type": "code",
   "execution_count": 4,
   "id": "d5b50092",
   "metadata": {
    "hidden": true
   },
   "outputs": [
    {
     "data": {
      "text/plain": [
       "array([1., 1., 1., 1., 1., 1., 1., 1., 1., 1.])"
      ]
     },
     "execution_count": 4,
     "metadata": {},
     "output_type": "execute_result"
    }
   ],
   "source": [
    "a3= np.ones(10)\n",
    "a3"
   ]
  },
  {
   "cell_type": "code",
   "execution_count": 16,
   "id": "42ea9b51",
   "metadata": {
    "hidden": true
   },
   "outputs": [
    {
     "data": {
      "text/plain": [
       "array([0.03616564, 0.73978561, 0.66820734, 0.19208371, 0.96725476,\n",
       "       0.02647281, 0.89779385, 0.81357625, 0.76322765, 0.21730169])"
      ]
     },
     "execution_count": 16,
     "metadata": {},
     "output_type": "execute_result"
    }
   ],
   "source": [
    "a4=np.random.random(10)\n",
    "a4"
   ]
  },
  {
   "cell_type": "code",
   "execution_count": 6,
   "id": "bf58dcd0",
   "metadata": {
    "hidden": true
   },
   "outputs": [
    {
     "data": {
      "text/plain": [
       "array([ 0.25948865,  0.85504323, -0.37241991, -0.64499282, -0.15354058,\n",
       "       -0.81959665,  0.28406512,  0.61381274, -2.06970937,  1.01107075])"
      ]
     },
     "execution_count": 6,
     "metadata": {},
     "output_type": "execute_result"
    }
   ],
   "source": [
    "a5=np.random.randn(10)\n",
    "a5"
   ]
  },
  {
   "cell_type": "code",
   "execution_count": 7,
   "id": "2b59e8a2",
   "metadata": {
    "hidden": true
   },
   "outputs": [
    {
     "data": {
      "text/plain": [
       "array([ 0.        ,  0.1010101 ,  0.2020202 ,  0.3030303 ,  0.4040404 ,\n",
       "        0.50505051,  0.60606061,  0.70707071,  0.80808081,  0.90909091,\n",
       "        1.01010101,  1.11111111,  1.21212121,  1.31313131,  1.41414141,\n",
       "        1.51515152,  1.61616162,  1.71717172,  1.81818182,  1.91919192,\n",
       "        2.02020202,  2.12121212,  2.22222222,  2.32323232,  2.42424242,\n",
       "        2.52525253,  2.62626263,  2.72727273,  2.82828283,  2.92929293,\n",
       "        3.03030303,  3.13131313,  3.23232323,  3.33333333,  3.43434343,\n",
       "        3.53535354,  3.63636364,  3.73737374,  3.83838384,  3.93939394,\n",
       "        4.04040404,  4.14141414,  4.24242424,  4.34343434,  4.44444444,\n",
       "        4.54545455,  4.64646465,  4.74747475,  4.84848485,  4.94949495,\n",
       "        5.05050505,  5.15151515,  5.25252525,  5.35353535,  5.45454545,\n",
       "        5.55555556,  5.65656566,  5.75757576,  5.85858586,  5.95959596,\n",
       "        6.06060606,  6.16161616,  6.26262626,  6.36363636,  6.46464646,\n",
       "        6.56565657,  6.66666667,  6.76767677,  6.86868687,  6.96969697,\n",
       "        7.07070707,  7.17171717,  7.27272727,  7.37373737,  7.47474747,\n",
       "        7.57575758,  7.67676768,  7.77777778,  7.87878788,  7.97979798,\n",
       "        8.08080808,  8.18181818,  8.28282828,  8.38383838,  8.48484848,\n",
       "        8.58585859,  8.68686869,  8.78787879,  8.88888889,  8.98989899,\n",
       "        9.09090909,  9.19191919,  9.29292929,  9.39393939,  9.49494949,\n",
       "        9.5959596 ,  9.6969697 ,  9.7979798 ,  9.8989899 , 10.        ])"
      ]
     },
     "execution_count": 7,
     "metadata": {},
     "output_type": "execute_result"
    }
   ],
   "source": [
    "a6 = np.linspace(0, 10, 100)\n",
    "a6"
   ]
  },
  {
   "cell_type": "code",
   "execution_count": 8,
   "id": "c6dbeaef",
   "metadata": {
    "hidden": true
   },
   "outputs": [
    {
     "data": {
      "text/plain": [
       "array([0.  , 0.02, 0.04, 0.06, 0.08, 0.1 , 0.12, 0.14, 0.16, 0.18, 0.2 ,\n",
       "       0.22, 0.24, 0.26, 0.28, 0.3 , 0.32, 0.34, 0.36, 0.38, 0.4 , 0.42,\n",
       "       0.44, 0.46, 0.48, 0.5 , 0.52, 0.54, 0.56, 0.58, 0.6 , 0.62, 0.64,\n",
       "       0.66, 0.68, 0.7 , 0.72, 0.74, 0.76, 0.78, 0.8 , 0.82, 0.84, 0.86,\n",
       "       0.88, 0.9 , 0.92, 0.94, 0.96, 0.98, 1.  , 1.02, 1.04, 1.06, 1.08,\n",
       "       1.1 , 1.12, 1.14, 1.16, 1.18, 1.2 , 1.22, 1.24, 1.26, 1.28, 1.3 ,\n",
       "       1.32, 1.34, 1.36, 1.38, 1.4 , 1.42, 1.44, 1.46, 1.48, 1.5 , 1.52,\n",
       "       1.54, 1.56, 1.58, 1.6 , 1.62, 1.64, 1.66, 1.68, 1.7 , 1.72, 1.74,\n",
       "       1.76, 1.78, 1.8 , 1.82, 1.84, 1.86, 1.88, 1.9 , 1.92, 1.94, 1.96,\n",
       "       1.98, 2.  , 2.02, 2.04, 2.06, 2.08, 2.1 , 2.12, 2.14, 2.16, 2.18,\n",
       "       2.2 , 2.22, 2.24, 2.26, 2.28, 2.3 , 2.32, 2.34, 2.36, 2.38, 2.4 ,\n",
       "       2.42, 2.44, 2.46, 2.48, 2.5 , 2.52, 2.54, 2.56, 2.58, 2.6 , 2.62,\n",
       "       2.64, 2.66, 2.68, 2.7 , 2.72, 2.74, 2.76, 2.78, 2.8 , 2.82, 2.84,\n",
       "       2.86, 2.88, 2.9 , 2.92, 2.94, 2.96, 2.98, 3.  , 3.02, 3.04, 3.06,\n",
       "       3.08, 3.1 , 3.12, 3.14, 3.16, 3.18, 3.2 , 3.22, 3.24, 3.26, 3.28,\n",
       "       3.3 , 3.32, 3.34, 3.36, 3.38, 3.4 , 3.42, 3.44, 3.46, 3.48, 3.5 ,\n",
       "       3.52, 3.54, 3.56, 3.58, 3.6 , 3.62, 3.64, 3.66, 3.68, 3.7 , 3.72,\n",
       "       3.74, 3.76, 3.78, 3.8 , 3.82, 3.84, 3.86, 3.88, 3.9 , 3.92, 3.94,\n",
       "       3.96, 3.98, 4.  , 4.02, 4.04, 4.06, 4.08, 4.1 , 4.12, 4.14, 4.16,\n",
       "       4.18, 4.2 , 4.22, 4.24, 4.26, 4.28, 4.3 , 4.32, 4.34, 4.36, 4.38,\n",
       "       4.4 , 4.42, 4.44, 4.46, 4.48, 4.5 , 4.52, 4.54, 4.56, 4.58, 4.6 ,\n",
       "       4.62, 4.64, 4.66, 4.68, 4.7 , 4.72, 4.74, 4.76, 4.78, 4.8 , 4.82,\n",
       "       4.84, 4.86, 4.88, 4.9 , 4.92, 4.94, 4.96, 4.98, 5.  , 5.02, 5.04,\n",
       "       5.06, 5.08, 5.1 , 5.12, 5.14, 5.16, 5.18, 5.2 , 5.22, 5.24, 5.26,\n",
       "       5.28, 5.3 , 5.32, 5.34, 5.36, 5.38, 5.4 , 5.42, 5.44, 5.46, 5.48,\n",
       "       5.5 , 5.52, 5.54, 5.56, 5.58, 5.6 , 5.62, 5.64, 5.66, 5.68, 5.7 ,\n",
       "       5.72, 5.74, 5.76, 5.78, 5.8 , 5.82, 5.84, 5.86, 5.88, 5.9 , 5.92,\n",
       "       5.94, 5.96, 5.98, 6.  , 6.02, 6.04, 6.06, 6.08, 6.1 , 6.12, 6.14,\n",
       "       6.16, 6.18, 6.2 , 6.22, 6.24, 6.26, 6.28, 6.3 , 6.32, 6.34, 6.36,\n",
       "       6.38, 6.4 , 6.42, 6.44, 6.46, 6.48, 6.5 , 6.52, 6.54, 6.56, 6.58,\n",
       "       6.6 , 6.62, 6.64, 6.66, 6.68, 6.7 , 6.72, 6.74, 6.76, 6.78, 6.8 ,\n",
       "       6.82, 6.84, 6.86, 6.88, 6.9 , 6.92, 6.94, 6.96, 6.98, 7.  , 7.02,\n",
       "       7.04, 7.06, 7.08, 7.1 , 7.12, 7.14, 7.16, 7.18, 7.2 , 7.22, 7.24,\n",
       "       7.26, 7.28, 7.3 , 7.32, 7.34, 7.36, 7.38, 7.4 , 7.42, 7.44, 7.46,\n",
       "       7.48, 7.5 , 7.52, 7.54, 7.56, 7.58, 7.6 , 7.62, 7.64, 7.66, 7.68,\n",
       "       7.7 , 7.72, 7.74, 7.76, 7.78, 7.8 , 7.82, 7.84, 7.86, 7.88, 7.9 ,\n",
       "       7.92, 7.94, 7.96, 7.98, 8.  , 8.02, 8.04, 8.06, 8.08, 8.1 , 8.12,\n",
       "       8.14, 8.16, 8.18, 8.2 , 8.22, 8.24, 8.26, 8.28, 8.3 , 8.32, 8.34,\n",
       "       8.36, 8.38, 8.4 , 8.42, 8.44, 8.46, 8.48, 8.5 , 8.52, 8.54, 8.56,\n",
       "       8.58, 8.6 , 8.62, 8.64, 8.66, 8.68, 8.7 , 8.72, 8.74, 8.76, 8.78,\n",
       "       8.8 , 8.82, 8.84, 8.86, 8.88, 8.9 , 8.92, 8.94, 8.96, 8.98, 9.  ,\n",
       "       9.02, 9.04, 9.06, 9.08, 9.1 , 9.12, 9.14, 9.16, 9.18, 9.2 , 9.22,\n",
       "       9.24, 9.26, 9.28, 9.3 , 9.32, 9.34, 9.36, 9.38, 9.4 , 9.42, 9.44,\n",
       "       9.46, 9.48, 9.5 , 9.52, 9.54, 9.56, 9.58, 9.6 , 9.62, 9.64, 9.66,\n",
       "       9.68, 9.7 , 9.72, 9.74, 9.76, 9.78, 9.8 , 9.82, 9.84, 9.86, 9.88,\n",
       "       9.9 , 9.92, 9.94, 9.96, 9.98])"
      ]
     },
     "execution_count": 8,
     "metadata": {},
     "output_type": "execute_result"
    }
   ],
   "source": [
    "a7 = np.arange(0, 10, 0.02)\n",
    "a7"
   ]
  },
  {
   "cell_type": "markdown",
   "id": "696b4a4f",
   "metadata": {
    "heading_collapsed": true
   },
   "source": [
    "# Operaciones con arrays"
   ]
  },
  {
   "cell_type": "code",
   "execution_count": 9,
   "id": "4841d8dd",
   "metadata": {
    "hidden": true
   },
   "outputs": [
    {
     "data": {
      "text/plain": [
       "array([ 6, 10, 14,  6])"
      ]
     },
     "execution_count": 9,
     "metadata": {},
     "output_type": "execute_result"
    }
   ],
   "source": [
    "2*a1"
   ]
  },
  {
   "cell_type": "code",
   "execution_count": 10,
   "id": "d0dec7bf",
   "metadata": {
    "hidden": true
   },
   "outputs": [
    {
     "data": {
      "text/plain": [
       "array([0.33333333, 0.2       , 0.14285714, 0.33333333])"
      ]
     },
     "execution_count": 10,
     "metadata": {},
     "output_type": "execute_result"
    }
   ],
   "source": [
    "1/a1"
   ]
  },
  {
   "cell_type": "code",
   "execution_count": 11,
   "id": "9919ab18",
   "metadata": {
    "hidden": true
   },
   "outputs": [
    {
     "data": {
      "text/plain": [
       "array([False,  True,  True, False])"
      ]
     },
     "execution_count": 11,
     "metadata": {},
     "output_type": "execute_result"
    }
   ],
   "source": [
    "a1 > 4"
   ]
  },
  {
   "cell_type": "code",
   "execution_count": 12,
   "id": "4bbc4736",
   "metadata": {
    "hidden": true
   },
   "outputs": [
    {
     "data": {
      "text/plain": [
       "array([ 6.33333333, 10.2       , 14.14285714,  6.33333333])"
      ]
     },
     "execution_count": 12,
     "metadata": {},
     "output_type": "execute_result"
    }
   ],
   "source": [
    "1/a1 + 2*a1"
   ]
  },
  {
   "cell_type": "code",
   "execution_count": 13,
   "id": "b2390213",
   "metadata": {
    "hidden": true
   },
   "outputs": [
    {
     "data": {
      "text/plain": [
       "array([0.00000000e+00, 1.02030405e-04, 4.08121620e-04, 9.18273646e-04,\n",
       "       1.63248648e-03, 2.55076013e-03, 3.67309458e-03, 4.99948985e-03,\n",
       "       6.52994592e-03, 8.26446281e-03, 1.02030405e-02, 1.23456790e-02,\n",
       "       1.46923783e-02, 1.72431385e-02, 1.99979594e-02, 2.29568411e-02,\n",
       "       2.61197837e-02, 2.94867871e-02, 3.30578512e-02, 3.68329762e-02,\n",
       "       4.08121620e-02, 4.49954086e-02, 4.93827160e-02, 5.39740843e-02,\n",
       "       5.87695133e-02, 6.37690032e-02, 6.89725538e-02, 7.43801653e-02,\n",
       "       7.99918376e-02, 8.58075707e-02, 9.18273646e-02, 9.80512193e-02,\n",
       "       1.04479135e-01, 1.11111111e-01, 1.17947148e-01, 1.24987246e-01,\n",
       "       1.32231405e-01, 1.39679625e-01, 1.47331905e-01, 1.55188246e-01,\n",
       "       1.63248648e-01, 1.71513111e-01, 1.79981635e-01, 1.88654219e-01,\n",
       "       1.97530864e-01, 2.06611570e-01, 2.15896337e-01, 2.25385165e-01,\n",
       "       2.35078053e-01, 2.44975003e-01, 2.55076013e-01, 2.65381084e-01,\n",
       "       2.75890215e-01, 2.86603408e-01, 2.97520661e-01, 3.08641975e-01,\n",
       "       3.19967350e-01, 3.31496786e-01, 3.43230283e-01, 3.55167840e-01,\n",
       "       3.67309458e-01, 3.79655137e-01, 3.92204877e-01, 4.04958678e-01,\n",
       "       4.17916539e-01, 4.31078461e-01, 4.44444444e-01, 4.58014488e-01,\n",
       "       4.71788593e-01, 4.85766758e-01, 4.99948985e-01, 5.14335272e-01,\n",
       "       5.28925620e-01, 5.43720029e-01, 5.58718498e-01, 5.73921028e-01,\n",
       "       5.89327620e-01, 6.04938272e-01, 6.20752984e-01, 6.36771758e-01,\n",
       "       6.52994592e-01, 6.69421488e-01, 6.86052444e-01, 7.02887460e-01,\n",
       "       7.19926538e-01, 7.37169677e-01, 7.54616876e-01, 7.72268136e-01,\n",
       "       7.90123457e-01, 8.08182838e-01, 8.26446281e-01, 8.44913784e-01,\n",
       "       8.63585348e-01, 8.82460973e-01, 9.01540659e-01, 9.20824406e-01,\n",
       "       9.40312213e-01, 9.60004081e-01, 9.79900010e-01, 1.00000000e+00])"
      ]
     },
     "execution_count": 13,
     "metadata": {},
     "output_type": "execute_result"
    }
   ],
   "source": [
    "x = np.linspace(0, 1, 100)\n",
    "x**2"
   ]
  },
  {
   "cell_type": "code",
   "execution_count": 14,
   "id": "2ce8d3dd",
   "metadata": {
    "hidden": true
   },
   "outputs": [
    {
     "data": {
      "text/plain": [
       "[<matplotlib.lines.Line2D at 0x7f6b8e2de190>]"
      ]
     },
     "execution_count": 14,
     "metadata": {},
     "output_type": "execute_result"
    },
    {
     "data": {
      "image/png": "[encoded data removed]",
      "text/plain": [
       "<Figure size 432x288 with 1 Axes>"
      ]
     },
     "metadata": {
      "needs_background": "light"
     },
     "output_type": "display_data"
    }
   ],
   "source": [
    "plt.plot(x, x**2) # lo mismo si usas y = x**2"
   ]
  },
  {
   "cell_type": "code",
   "execution_count": 17,
   "id": "2347eda1",
   "metadata": {
    "hidden": true
   },
   "outputs": [
    {
     "data": {
      "text/plain": [
       "(array([2., 1., 1., 0., 0., 0., 1., 2., 1., 2.]),\n",
       " array([0.02647281, 0.120551  , 0.2146292 , 0.30870739, 0.40278559,\n",
       "        0.49686378, 0.59094198, 0.68502017, 0.77909837, 0.87317656,\n",
       "        0.96725476]),\n",
       " <BarContainer object of 10 artists>)"
      ]
     },
     "execution_count": 17,
     "metadata": {},
     "output_type": "execute_result"
    },
    {
     "data": {
      "image/png": "[encoded data removed]",
      "text/plain": [
       "<Figure size 432x288 with 1 Axes>"
      ]
     },
     "metadata": {
      "needs_background": "light"
     },
     "output_type": "display_data"
    }
   ],
   "source": [
    "plt.hist(a4)"
   ]
  },
  {
   "cell_type": "code",
   "execution_count": 21,
   "id": "7641fef7",
   "metadata": {
    "hidden": true
   },
   "outputs": [],
   "source": [
    "def f(x):\n",
    "    return x**2 * np.sin(x) / np.exp(-x)\n",
    "\n",
    "x =np.linspace(0, 10, 100)\n",
    "y = f(x)"
   ]
  },
  {
   "cell_type": "code",
   "execution_count": 22,
   "id": "b1ce0073",
   "metadata": {
    "hidden": true
   },
   "outputs": [
    {
     "data": {
      "text/plain": [
       "[<matplotlib.lines.Line2D at 0x7f6b8e0b28e0>]"
      ]
     },
     "execution_count": 22,
     "metadata": {},
     "output_type": "execute_result"
    },
    {
     "data": {
      "image/png": "[encoded data removed]",
      "text/plain": [
       "<Figure size 432x288 with 1 Axes>"
      ]
     },
     "metadata": {
      "needs_background": "light"
     },
     "output_type": "display_data"
    }
   ],
   "source": [
    "plt.plot(x, y)"
   ]
  },
  {
   "cell_type": "markdown",
   "id": "4e3edc4c",
   "metadata": {
    "heading_collapsed": true
   },
   "source": [
    "# Array indexing / Slicing"
   ]
  },
  {
   "cell_type": "code",
   "execution_count": 23,
   "id": "0c3f4cc6",
   "metadata": {
    "hidden": true
   },
   "outputs": [
    {
     "data": {
      "text/plain": [
       "array([ 2,  4,  6,  8, 10])"
      ]
     },
     "execution_count": 23,
     "metadata": {},
     "output_type": "execute_result"
    }
   ],
   "source": [
    "a1 = np.array([2, 4, 6, 8, 10])\n",
    "a1"
   ]
  },
  {
   "cell_type": "code",
   "execution_count": 24,
   "id": "b4cf20d9",
   "metadata": {
    "hidden": true
   },
   "outputs": [
    {
     "data": {
      "text/plain": [
       "6"
      ]
     },
     "execution_count": 24,
     "metadata": {},
     "output_type": "execute_result"
    }
   ],
   "source": [
    "a1[2]"
   ]
  },
  {
   "cell_type": "code",
   "execution_count": 25,
   "id": "751c58be",
   "metadata": {
    "hidden": true
   },
   "outputs": [
    {
     "data": {
      "text/plain": [
       "array([ 6,  8, 10])"
      ]
     },
     "execution_count": 25,
     "metadata": {},
     "output_type": "execute_result"
    }
   ],
   "source": [
    "a1[2:]"
   ]
  },
  {
   "cell_type": "code",
   "execution_count": 26,
   "id": "ec252a1f",
   "metadata": {
    "hidden": true
   },
   "outputs": [
    {
     "data": {
      "text/plain": [
       "array([2, 4, 6])"
      ]
     },
     "execution_count": 26,
     "metadata": {},
     "output_type": "execute_result"
    }
   ],
   "source": [
    "a1[:-2]"
   ]
  },
  {
   "cell_type": "code",
   "execution_count": 27,
   "id": "cf72ad01",
   "metadata": {
    "hidden": true
   },
   "outputs": [
    {
     "data": {
      "text/plain": [
       "array([4, 6])"
      ]
     },
     "execution_count": 27,
     "metadata": {},
     "output_type": "execute_result"
    }
   ],
   "source": [
    "a1[1:-2]"
   ]
  },
  {
   "cell_type": "code",
   "execution_count": 28,
   "id": "6928ac0e",
   "metadata": {
    "hidden": true
   },
   "outputs": [
    {
     "data": {
      "text/plain": [
       "array([False,  True,  True,  True,  True])"
      ]
     },
     "execution_count": 28,
     "metadata": {},
     "output_type": "execute_result"
    }
   ],
   "source": [
    "a1>3"
   ]
  },
  {
   "cell_type": "code",
   "execution_count": 29,
   "id": "682be4af",
   "metadata": {
    "hidden": true
   },
   "outputs": [
    {
     "data": {
      "text/plain": [
       "array([ 4,  6,  8, 10])"
      ]
     },
     "execution_count": 29,
     "metadata": {},
     "output_type": "execute_result"
    }
   ],
   "source": [
    "a1[a1>3]"
   ]
  },
  {
   "cell_type": "code",
   "execution_count": 34,
   "id": "3b61084f",
   "metadata": {
    "hidden": true
   },
   "outputs": [],
   "source": [
    "nombres = np.array(['Julio', 'Belen', 'Bruce', 'Natu','Jose'])"
   ]
  },
  {
   "cell_type": "code",
   "execution_count": 35,
   "id": "690f8481",
   "metadata": {
    "hidden": true
   },
   "outputs": [
    {
     "data": {
      "text/plain": [
       "array(['Julio', 'Belen', 'Bruce', 'Natu', 'Jose'], dtype='<U5')"
      ]
     },
     "execution_count": 35,
     "metadata": {},
     "output_type": "execute_result"
    }
   ],
   "source": [
    "nombres"
   ]
  },
  {
   "cell_type": "code",
   "execution_count": 36,
   "id": "777502ec",
   "metadata": {
    "hidden": true
   },
   "outputs": [],
   "source": [
    "primera_letra_j = np.vectorize(lambda s: s[0])(nombres) == 'J'"
   ]
  },
  {
   "cell_type": "code",
   "execution_count": 37,
   "id": "407a34e3",
   "metadata": {
    "hidden": true
   },
   "outputs": [],
   "source": [
    "f = lambda s: s[0]"
   ]
  },
  {
   "cell_type": "code",
   "execution_count": 38,
   "id": "bae3beb9",
   "metadata": {
    "hidden": true
   },
   "outputs": [
    {
     "data": {
      "text/plain": [
       "'p'"
      ]
     },
     "execution_count": 38,
     "metadata": {},
     "output_type": "execute_result"
    }
   ],
   "source": [
    "f('perro')"
   ]
  },
  {
   "cell_type": "code",
   "execution_count": 39,
   "id": "8978a056",
   "metadata": {
    "hidden": true
   },
   "outputs": [
    {
     "data": {
      "text/plain": [
       "array(['J', 'B', 'B', 'N', 'J'], dtype='<U1')"
      ]
     },
     "execution_count": 39,
     "metadata": {},
     "output_type": "execute_result"
    }
   ],
   "source": [
    "np.vectorize(lambda s: s[0])(nombres)"
   ]
  },
  {
   "cell_type": "code",
   "execution_count": 40,
   "id": "775b33ac",
   "metadata": {
    "hidden": true
   },
   "outputs": [
    {
     "data": {
      "text/plain": [
       "array([ True, False, False, False,  True])"
      ]
     },
     "execution_count": 40,
     "metadata": {},
     "output_type": "execute_result"
    }
   ],
   "source": [
    "primera_letra_j"
   ]
  },
  {
   "cell_type": "code",
   "execution_count": 41,
   "id": "4c60a321",
   "metadata": {
    "hidden": true
   },
   "outputs": [
    {
     "data": {
      "text/plain": [
       "array(['Julio', 'Jose'], dtype='<U5')"
      ]
     },
     "execution_count": 41,
     "metadata": {},
     "output_type": "execute_result"
    }
   ],
   "source": [
    "nombres[primera_letra_j]"
   ]
  },
  {
   "cell_type": "code",
   "execution_count": 42,
   "id": "64ad2b53",
   "metadata": {
    "hidden": true
   },
   "outputs": [
    {
     "data": {
      "text/plain": [
       "array(['Julio', 'Jose'], dtype='<U5')"
      ]
     },
     "execution_count": 42,
     "metadata": {},
     "output_type": "execute_result"
    }
   ],
   "source": [
    "nombres = np.array(['Julio', 'Belen', 'Bruce', 'Natu','Jose'])\n",
    "primera_letra_j = np.vectorize(lambda s: s[0])(nombres) == 'J'\n",
    "nombres[primera_letra_j]"
   ]
  },
  {
   "cell_type": "code",
   "execution_count": 44,
   "id": "b56a3897",
   "metadata": {
    "hidden": true
   },
   "outputs": [
    {
     "data": {
      "text/plain": [
       "array([ 2,  4,  6,  8, 10])"
      ]
     },
     "execution_count": 44,
     "metadata": {},
     "output_type": "execute_result"
    }
   ],
   "source": [
    "a1"
   ]
  },
  {
   "cell_type": "code",
   "execution_count": 43,
   "id": "3b7306e0",
   "metadata": {
    "hidden": true
   },
   "outputs": [
    {
     "data": {
      "text/plain": [
       "array([2, 0, 2, 0, 2])"
      ]
     },
     "execution_count": 43,
     "metadata": {},
     "output_type": "execute_result"
    }
   ],
   "source": [
    "a1%4"
   ]
  },
  {
   "cell_type": "code",
   "execution_count": 45,
   "id": "fe65b1f5",
   "metadata": {
    "hidden": true
   },
   "outputs": [
    {
     "data": {
      "text/plain": [
       "array([False,  True, False,  True, False])"
      ]
     },
     "execution_count": 45,
     "metadata": {},
     "output_type": "execute_result"
    }
   ],
   "source": [
    "a1%4 == 0"
   ]
  },
  {
   "cell_type": "code",
   "execution_count": 46,
   "id": "b22e3f0c",
   "metadata": {
    "hidden": true
   },
   "outputs": [
    {
     "data": {
      "text/plain": [
       "array([4, 8])"
      ]
     },
     "execution_count": 46,
     "metadata": {},
     "output_type": "execute_result"
    }
   ],
   "source": [
    "a1[a1%4 == 0]"
   ]
  },
  {
   "cell_type": "markdown",
   "id": "c9d2fbb8",
   "metadata": {
    "heading_collapsed": true
   },
   "source": [
    "# Calculo y Estadistica"
   ]
  },
  {
   "cell_type": "code",
   "execution_count": 48,
   "id": "5450dd7f",
   "metadata": {
    "hidden": true
   },
   "outputs": [],
   "source": [
    "a1 = 2*np.random.randn(10000) + 10 "
   ]
  },
  {
   "cell_type": "code",
   "execution_count": 49,
   "id": "bdc0a43f",
   "metadata": {
    "hidden": true
   },
   "outputs": [
    {
     "data": {
      "text/plain": [
       "array([10.90870939, 10.80196932,  6.73733871, ..., 10.37446022,\n",
       "       13.54563514, 10.09878609])"
      ]
     },
     "execution_count": 49,
     "metadata": {},
     "output_type": "execute_result"
    }
   ],
   "source": [
    "a1"
   ]
  },
  {
   "cell_type": "code",
   "execution_count": 50,
   "id": "6451e0b9",
   "metadata": {
    "hidden": true
   },
   "outputs": [
    {
     "data": {
      "text/plain": [
       "9.976285720867178"
      ]
     },
     "execution_count": 50,
     "metadata": {},
     "output_type": "execute_result"
    }
   ],
   "source": [
    "np.mean(a1)"
   ]
  },
  {
   "cell_type": "code",
   "execution_count": 51,
   "id": "f9afec25",
   "metadata": {
    "hidden": true
   },
   "outputs": [
    {
     "data": {
      "text/plain": [
       "2.0188172472976302"
      ]
     },
     "execution_count": 51,
     "metadata": {},
     "output_type": "execute_result"
    }
   ],
   "source": [
    "np.std(a1)"
   ]
  },
  {
   "cell_type": "code",
   "execution_count": 52,
   "id": "3538b2bc",
   "metadata": {
    "hidden": true
   },
   "outputs": [
    {
     "data": {
      "text/plain": [
       "11.67972957560644"
      ]
     },
     "execution_count": 52,
     "metadata": {},
     "output_type": "execute_result"
    }
   ],
   "source": [
    "np.percentile(a1, 80)"
   ]
  },
  {
   "cell_type": "code",
   "execution_count": 69,
   "id": "10a10e58",
   "metadata": {
    "hidden": true
   },
   "outputs": [],
   "source": [
    "x = np.linspace(1, 10, 100)\n",
    "y = 1/x**2 * np.sin(x)\n",
    "dydx = np.gradient(y, x)\n",
    "\n",
    "y_int = np.cumsum(y)*(x[1]-x[0])"
   ]
  },
  {
   "cell_type": "code",
   "execution_count": 67,
   "id": "1b4d0cfe",
   "metadata": {
    "hidden": true
   },
   "outputs": [
    {
     "data": {
      "text/plain": [
       "array([ 1,  3,  6, 10])"
      ]
     },
     "execution_count": 67,
     "metadata": {},
     "output_type": "execute_result"
    }
   ],
   "source": [
    "np.cumsum(np.array([1,2,3,4]))"
   ]
  },
  {
   "cell_type": "code",
   "execution_count": 70,
   "id": "02899ac0",
   "metadata": {
    "hidden": true
   },
   "outputs": [
    {
     "data": {
      "text/plain": [
       "[<matplotlib.lines.Line2D at 0x7f6b8dcacdc0>]"
      ]
     },
     "execution_count": 70,
     "metadata": {},
     "output_type": "execute_result"
    },
    {
     "data": {
      "image/png": "[encoded data removed]",
      "text/plain": [
       "<Figure size 432x288 with 1 Axes>"
      ]
     },
     "metadata": {
      "needs_background": "light"
     },
     "output_type": "display_data"
    }
   ],
   "source": [
    "plt.plot(x, y)\n",
    "plt.plot(x, dydx)\n",
    "plt.plot(x, y_int)"
   ]
  },
  {
   "cell_type": "markdown",
   "id": "c47ac2f1",
   "metadata": {
    "heading_collapsed": true
   },
   "source": [
    "# Ejemplo"
   ]
  },
  {
   "cell_type": "markdown",
   "id": "a68981c1",
   "metadata": {
    "hidden": true
   },
   "source": [
    "y = exp(-x/10)*sinx  considerando 10000 valores en un intervalo de [0, 10]\n",
    "- graficar y vs x entre [0 , 10]\n",
    "- obtener la desviacion estandar y el prom,edio de y para los valores de x entre [ 4, 7]\n",
    "- para x entre  [4. 7] encontrar ym el cual es el 80% de kis valores de y que son menores a ym\n",
    "- graficar dy/dx vs x\n",
    "- ubicar dy/dx = 0 \n"
   ]
  },
  {
   "cell_type": "code",
   "execution_count": 83,
   "id": "ac6d1431",
   "metadata": {
    "hidden": true
   },
   "outputs": [],
   "source": [
    "x = np.linspace(0, 10, 10000)\n",
    "y = np.exp(-x/10) * np.sin(x)\n",
    "dydx = np.gradient(y, x)"
   ]
  },
  {
   "cell_type": "code",
   "execution_count": 85,
   "id": "2f2ddbf2",
   "metadata": {
    "hidden": true
   },
   "outputs": [
    {
     "data": {
      "image/png": "[encoded data removed]",
      "text/plain": [
       "<Figure size 432x288 with 1 Axes>"
      ]
     },
     "metadata": {
      "needs_background": "light"
     },
     "output_type": "display_data"
    }
   ],
   "source": [
    "plt.plot(x, y)\n",
    "plt.plot(x, dydx)\n",
    "plt.grid() # la derivada es 0 entre[0, 2], [4, 6] y [7. 8]"
   ]
  },
  {
   "cell_type": "code",
   "execution_count": 77,
   "id": "8120b7df",
   "metadata": {
    "hidden": true
   },
   "outputs": [],
   "source": [
    "x1 = x[np.logical_and(x>=4,x <=7)]"
   ]
  },
  {
   "cell_type": "code",
   "execution_count": 78,
   "id": "e2a1d7b0",
   "metadata": {
    "hidden": true
   },
   "outputs": [],
   "source": [
    "y1 = np.exp(-x1/10) * np.sin(x1)"
   ]
  },
  {
   "cell_type": "code",
   "execution_count": 79,
   "id": "e97391cd",
   "metadata": {
    "hidden": true
   },
   "outputs": [
    {
     "data": {
      "text/plain": [
       "-0.2956362863932012"
      ]
     },
     "execution_count": 79,
     "metadata": {},
     "output_type": "execute_result"
    }
   ],
   "source": [
    "np.mean(y1)"
   ]
  },
  {
   "cell_type": "code",
   "execution_count": 80,
   "id": "76513d8a",
   "metadata": {
    "hidden": true
   },
   "outputs": [
    {
     "data": {
      "text/plain": [
       "0.3144532369395424"
      ]
     },
     "execution_count": 80,
     "metadata": {},
     "output_type": "execute_result"
    }
   ],
   "source": [
    "np.std(y1)"
   ]
  },
  {
   "cell_type": "code",
   "execution_count": 82,
   "id": "98b86ea7",
   "metadata": {
    "hidden": true
   },
   "outputs": [
    {
     "data": {
      "text/plain": [
       "0.061372680560897265"
      ]
     },
     "execution_count": 82,
     "metadata": {},
     "output_type": "execute_result"
    }
   ],
   "source": [
    "np.percentile(y1, 80)"
   ]
  },
  {
   "cell_type": "markdown",
   "id": "ce7c21a8",
   "metadata": {
    "heading_collapsed": true,
    "hidden": true
   },
   "source": [
    "## Solucion"
   ]
  },
  {
   "cell_type": "code",
   "execution_count": 86,
   "id": "a6c22aff",
   "metadata": {
    "hidden": true
   },
   "outputs": [
    {
     "data": {
      "text/plain": [
       "[<matplotlib.lines.Line2D at 0x7f6b8dadf940>]"
      ]
     },
     "execution_count": 86,
     "metadata": {},
     "output_type": "execute_result"
    },
    {
     "data": {
      "image/png": "[encoded data removed]",
      "text/plain": [
       "<Figure size 432x288 with 1 Axes>"
      ]
     },
     "metadata": {
      "needs_background": "light"
     },
     "output_type": "display_data"
    }
   ],
   "source": [
    "#1\n",
    "N = 10000\n",
    "x = np.linspace(0, 10, N+1)\n",
    "y = np.exp(-x/10) * np.sin(x)\n",
    "plt.plot(x, y)"
   ]
  },
  {
   "cell_type": "code",
   "execution_count": 87,
   "id": "ff1ff1a9",
   "metadata": {
    "hidden": true
   },
   "outputs": [
    {
     "data": {
      "text/plain": [
       "array([-0.50729988, -0.50768701, -0.50807354, ...,  0.32556559,\n",
       "        0.32590794,  0.32624989])"
      ]
     },
     "execution_count": 87,
     "metadata": {},
     "output_type": "execute_result"
    }
   ],
   "source": [
    "#2\n",
    "y[(x>=4)*(x<=7)]\n"
   ]
  },
  {
   "cell_type": "code",
   "execution_count": 88,
   "id": "1436382f",
   "metadata": {
    "hidden": true
   },
   "outputs": [
    {
     "data": {
      "text/plain": [
       "-0.2956023068963138"
      ]
     },
     "execution_count": 88,
     "metadata": {},
     "output_type": "execute_result"
    }
   ],
   "source": [
    "np.mean(y[(x>=4)*(x<=7)])"
   ]
  },
  {
   "cell_type": "code",
   "execution_count": 89,
   "id": "092c2566",
   "metadata": {
    "hidden": true
   },
   "outputs": [
    {
     "data": {
      "text/plain": [
       "0.31448753875085117"
      ]
     },
     "execution_count": 89,
     "metadata": {},
     "output_type": "execute_result"
    }
   ],
   "source": [
    "np.std(y[(x>=4)*(x<=7)])"
   ]
  },
  {
   "cell_type": "code",
   "execution_count": 90,
   "id": "cd6e1cc0",
   "metadata": {
    "hidden": true
   },
   "outputs": [
    {
     "data": {
      "text/plain": [
       "0.06145551274590662"
      ]
     },
     "execution_count": 90,
     "metadata": {},
     "output_type": "execute_result"
    }
   ],
   "source": [
    "#3\n",
    "np.percentile(y[(x>=4)*(x<=7)], 80)"
   ]
  },
  {
   "cell_type": "code",
   "execution_count": 91,
   "id": "d5c0c683",
   "metadata": {
    "hidden": true
   },
   "outputs": [
    {
     "data": {
      "text/plain": [
       "[<matplotlib.lines.Line2D at 0x7f6b8dacc6d0>]"
      ]
     },
     "execution_count": 91,
     "metadata": {},
     "output_type": "execute_result"
    },
    {
     "data": {
      "image/png": "[encoded data removed]",
      "text/plain": [
       "<Figure size 432x288 with 1 Axes>"
      ]
     },
     "metadata": {
      "needs_background": "light"
     },
     "output_type": "display_data"
    }
   ],
   "source": [
    "#4\n",
    "plt.plot(x, np.gradient(y, x))"
   ]
  },
  {
   "cell_type": "code",
   "execution_count": 92,
   "id": "e45f2d6c",
   "metadata": {
    "hidden": true
   },
   "outputs": [],
   "source": [
    "#5\n",
    "dydx= np.gradient(y, x)"
   ]
  },
  {
   "cell_type": "code",
   "execution_count": 93,
   "id": "40c634d1",
   "metadata": {
    "hidden": true
   },
   "outputs": [
    {
     "data": {
      "text/plain": [
       "array([ 0.99989984,  0.99979935,  0.9995979 , ..., -0.28918296,\n",
       "       -0.28892346, -0.28879364])"
      ]
     },
     "execution_count": 93,
     "metadata": {},
     "output_type": "execute_result"
    }
   ],
   "source": [
    "dydx"
   ]
  },
  {
   "cell_type": "code",
   "execution_count": 94,
   "id": "44bc53bf",
   "metadata": {
    "hidden": true
   },
   "outputs": [
    {
     "data": {
      "text/plain": [
       "array([ 0.99979935,  0.9995979 ,  0.99939548, ..., -0.28918296,\n",
       "       -0.28892346, -0.28879364])"
      ]
     },
     "execution_count": 94,
     "metadata": {},
     "output_type": "execute_result"
    }
   ],
   "source": [
    "dydx[1:]"
   ]
  },
  {
   "cell_type": "code",
   "execution_count": 95,
   "id": "5e072a99",
   "metadata": {
    "hidden": true
   },
   "outputs": [
    {
     "data": {
      "text/plain": [
       "array([ 0.99989984,  0.99979935,  0.9995979 , ..., -0.28944223,\n",
       "       -0.28918296, -0.28892346])"
      ]
     },
     "execution_count": 95,
     "metadata": {},
     "output_type": "execute_result"
    }
   ],
   "source": [
    "dydx[:-1]"
   ]
  },
  {
   "cell_type": "code",
   "execution_count": 98,
   "id": "d42ce683",
   "metadata": {
    "hidden": true
   },
   "outputs": [
    {
     "data": {
      "text/plain": [
       "array([1.472, 4.613, 7.755])"
      ]
     },
     "execution_count": 98,
     "metadata": {},
     "output_type": "execute_result"
    }
   ],
   "source": [
    "x[1:][dydx[1:] * dydx[:-1] < 0] # me dice donde la derivada es igual a 0"
   ]
  },
  {
   "cell_type": "markdown",
   "id": "77118c6f",
   "metadata": {
    "heading_collapsed": true,
    "hidden": true
   },
   "source": [
    "## Ejercicio 2\n",
    "\n",
    "Sumar todos los numeros de 0 a 10000 excepto los que sean divisibles por 4 y 7 en una sola linea de codigo"
   ]
  },
  {
   "cell_type": "code",
   "execution_count": 14,
   "id": "cf66c053",
   "metadata": {
    "hidden": true
   },
   "outputs": [
    {
     "data": {
      "text/plain": [
       "array([False,  True,  True, ...,  True,  True, False])"
      ]
     },
     "execution_count": 14,
     "metadata": {},
     "output_type": "execute_result"
    }
   ],
   "source": [
    "(np.arange(0, 10001, 1)%4 != 0)*(np.arange(0, 10001, 1)%7 != 0)"
   ]
  },
  {
   "cell_type": "code",
   "execution_count": 20,
   "id": "55a6fc58",
   "metadata": {
    "hidden": true
   },
   "outputs": [
    {
     "data": {
      "text/plain": [
       "32147142"
      ]
     },
     "execution_count": 20,
     "metadata": {},
     "output_type": "execute_result"
    }
   ],
   "source": [
    "nums = np.arange(0, 10001, 1)\n",
    "sum(nums[(nums%4 != 0)*(nums%7 != 0)])"
   ]
  },
  {
   "cell_type": "code",
   "execution_count": 18,
   "id": "45f293cc",
   "metadata": {
    "hidden": true
   },
   "outputs": [
    {
     "data": {
      "text/plain": [
       "array([   1,    2,    3, ..., 9997, 9998, 9999])"
      ]
     },
     "execution_count": 18,
     "metadata": {},
     "output_type": "execute_result"
    }
   ],
   "source": [
    "nums[np.logical_and(nums%4 != 0, nums%7 != 0)]"
   ]
  },
  {
   "cell_type": "markdown",
   "id": "7669e0bf",
   "metadata": {
    "hidden": true
   },
   "source": [
    "## Ejercicio 3:\n",
    "\n",
    "Consider the flower petal $r(\\theta) = 1+\\frac{3}{4}\\sin(3 \\theta)$ for $0 \\leq \\theta \\leq 2 \\pi$\n",
    "\n",
    "1. Make a plot of the flower (find x and y points)\n",
    "2. Compute the area using the calculus formula $A = \\int_{0}^{2\\pi} \\frac{1}{2} r^2 d\\theta$\n",
    "3. Compute the arclength using the calculus formula $L = \\int_{0}^{2 \\pi} \\sqrt{r^2 + \\left(\\frac{dr}{d\\theta}\\right)^2} d\\theta$"
   ]
  },
  {
   "cell_type": "code",
   "execution_count": 5,
   "id": "cc48fd1a",
   "metadata": {
    "hidden": true
   },
   "outputs": [
    {
     "data": {
      "text/plain": [
       "[<matplotlib.lines.Line2D at 0x7f9f9ad4a9a0>]"
      ]
     },
     "execution_count": 5,
     "metadata": {},
     "output_type": "execute_result"
    },
    {
     "data": {
      "image/png": "[encoded data removed]",
      "text/plain": [
       "<Figure size 432x288 with 1 Axes>"
      ]
     },
     "metadata": {
      "needs_background": "light"
     },
     "output_type": "display_data"
    }
   ],
   "source": [
    "#1  coordenadas polares\n",
    "theta = np.linspace(0,2*np.pi, 1000)\n",
    "r = 1 + 0.75*np.sin(3*theta) \n",
    "x = r*np.cos(theta)\n",
    "y = r*np.sin(theta)\n",
    "plt.plot(x, y)"
   ]
  },
  {
   "cell_type": "code",
   "execution_count": 6,
   "id": "9140c38d",
   "metadata": {
    "hidden": true
   },
   "outputs": [
    {
     "data": {
      "text/plain": [
       "4.028310324802908"
      ]
     },
     "execution_count": 6,
     "metadata": {},
     "output_type": "execute_result"
    }
   ],
   "source": [
    "#2\n",
    "A = 0.5*sum(r**2) * (theta[1] - theta[0])\n",
    "A"
   ]
  },
  {
   "cell_type": "code",
   "execution_count": 9,
   "id": "f232bdee",
   "metadata": {
    "hidden": true
   },
   "outputs": [
    {
     "data": {
      "text/plain": [
       "11.640021569013872"
      ]
     },
     "execution_count": 9,
     "metadata": {},
     "output_type": "execute_result"
    }
   ],
   "source": [
    "#3\n",
    "sum(np.sqrt(r**2 + np.gradient(r, theta)**2))*(theta[1] - theta[0])"
   ]
  },
  {
   "cell_type": "markdown",
   "id": "421c6778",
   "metadata": {
    "hidden": true
   },
   "source": [
    "## ejercicio 4:\n",
    "\n",
    "The power emitted by a blackbody is $P = A \\sigma \\epsilon T^4$. After measuring the temperature of a star you find that $T(t) = T_0 \\frac{1}{1+e^{-kt}}$. Plot the total energy emitted by the star as a function of time using the fact that $E(t) = \\int_{t'=0}^{t'=t} P(t') dt' $\n",
    "\n",
    "\n",
    "$$ P/ (A \\sigma \\epsilon T_0^4) = \\left( \\frac{1}{1+e^{-kt}} \\right)^4 $$"
   ]
  },
  {
   "cell_type": "code",
   "execution_count": 15,
   "id": "7687c08c",
   "metadata": {
    "hidden": true
   },
   "outputs": [],
   "source": [
    "# este ejercicio se debe trabajar con cantidades adimensionales\n",
    "\n",
    "kt = np.linspace(0, 3, 100) \n",
    "P = (1/(1+np.exp(-kt)))**4\n",
    "E = np.cumsum(P)*(kt[1]-kt[0])\n"
   ]
  },
  {
   "cell_type": "code",
   "execution_count": 18,
   "id": "1a054d8e",
   "metadata": {
    "hidden": true
   },
   "outputs": [
    {
     "data": {
      "text/plain": [
       "Text(0, 0.5, '$\\\\left(\\\\frac{k}{A \\\\sigma \\\\epsilon T_0^4}\\\\right) E(kt)$')"
      ]
     },
     "execution_count": 18,
     "metadata": {},
     "output_type": "execute_result"
    },
    {
     "data": {
      "image/png": "[encoded data removed]",
      "text/plain": [
       "<Figure size 432x288 with 1 Axes>"
      ]
     },
     "metadata": {
      "needs_background": "light"
     },
     "output_type": "display_data"
    }
   ],
   "source": [
    "plt.plot(kt, E)\n",
    "plt.xlabel('$kt$', fontsize = 20)\n",
    "plt.ylabel(r'$\\left(\\frac{k}{A \\sigma \\epsilon T_0^4}\\right) E(kt)$', fontsize = 20)"
   ]
  },
  {
   "cell_type": "markdown",
   "id": "d9cd3477",
   "metadata": {},
   "source": [
    "# Array multidimensionales"
   ]
  },
  {
   "cell_type": "code",
   "execution_count": 19,
   "id": "03ede909",
   "metadata": {},
   "outputs": [],
   "source": [
    "a1 = np.array([[4, 6, 4], [1, 2, 2], [6, 8, 7]])"
   ]
  },
  {
   "cell_type": "code",
   "execution_count": 20,
   "id": "fc0e6216",
   "metadata": {},
   "outputs": [
    {
     "data": {
      "text/plain": [
       "array([[4, 6, 4],\n",
       "       [1, 2, 2],\n",
       "       [6, 8, 7]])"
      ]
     },
     "execution_count": 20,
     "metadata": {},
     "output_type": "execute_result"
    }
   ],
   "source": [
    "a1"
   ]
  },
  {
   "cell_type": "code",
   "execution_count": 21,
   "id": "b0c1d610",
   "metadata": {},
   "outputs": [
    {
     "data": {
      "text/plain": [
       "array([[ 8, 12,  8],\n",
       "       [ 2,  4,  4],\n",
       "       [12, 16, 14]])"
      ]
     },
     "execution_count": 21,
     "metadata": {},
     "output_type": "execute_result"
    }
   ],
   "source": [
    "a1*2"
   ]
  },
  {
   "cell_type": "code",
   "execution_count": 22,
   "id": "c087fb7a",
   "metadata": {},
   "outputs": [
    {
     "data": {
      "text/plain": [
       "array([[2. , 3. , 2. ],\n",
       "       [0.5, 1. , 1. ],\n",
       "       [3. , 4. , 3.5]])"
      ]
     },
     "execution_count": 22,
     "metadata": {},
     "output_type": "execute_result"
    }
   ],
   "source": [
    "a1/2"
   ]
  },
  {
   "cell_type": "code",
   "execution_count": 23,
   "id": "20ec763c",
   "metadata": {},
   "outputs": [
    {
     "data": {
      "text/plain": [
       "array([[0.5       , 0.33333333, 0.5       ],\n",
       "       [2.        , 1.        , 1.        ],\n",
       "       [0.33333333, 0.25      , 0.28571429]])"
      ]
     },
     "execution_count": 23,
     "metadata": {},
     "output_type": "execute_result"
    }
   ],
   "source": [
    "2/a1"
   ]
  },
  {
   "cell_type": "code",
   "execution_count": 24,
   "id": "50cd1102",
   "metadata": {},
   "outputs": [
    {
     "data": {
      "text/plain": [
       "array([4, 6, 4, 1, 2, 2, 6, 8, 7])"
      ]
     },
     "execution_count": 24,
     "metadata": {},
     "output_type": "execute_result"
    }
   ],
   "source": [
    "#transformar de un n dimensional a 1-dimensional\n",
    "\n",
    "a1.ravel()"
   ]
  },
  {
   "cell_type": "code",
   "execution_count": 25,
   "id": "3a8b6aa4",
   "metadata": {},
   "outputs": [
    {
     "data": {
      "text/plain": [
       "array([[False,  True, False],\n",
       "       [False, False, False],\n",
       "       [ True,  True,  True]])"
      ]
     },
     "execution_count": 25,
     "metadata": {},
     "output_type": "execute_result"
    }
   ],
   "source": [
    "a1>5"
   ]
  },
  {
   "cell_type": "code",
   "execution_count": 27,
   "id": "a05a07d8",
   "metadata": {},
   "outputs": [
    {
     "data": {
      "text/plain": [
       "array([[-0.84797306,  0.38736922,  0.13563977],\n",
       "       [ 0.46179099,  0.08124987, -0.66254251],\n",
       "       [ 0.3933501 ,  0.14329944, -0.44666212]])"
      ]
     },
     "execution_count": 27,
     "metadata": {},
     "output_type": "execute_result"
    }
   ],
   "source": [
    "a2=np.random.randn(3, 3)\n",
    "a2"
   ]
  },
  {
   "cell_type": "code",
   "execution_count": 28,
   "id": "5b51a604",
   "metadata": {},
   "outputs": [
    {
     "data": {
      "text/plain": [
       "array([ 0.38736922,  0.3933501 ,  0.14329944, -0.44666212])"
      ]
     },
     "execution_count": 28,
     "metadata": {},
     "output_type": "execute_result"
    }
   ],
   "source": [
    "a2[a1>5]"
   ]
  },
  {
   "cell_type": "code",
   "execution_count": 31,
   "id": "fa43af16",
   "metadata": {},
   "outputs": [
    {
     "data": {
      "text/plain": [
       "array([[4, 6, 4],\n",
       "       [1, 2, 2],\n",
       "       [6, 8, 7]])"
      ]
     },
     "execution_count": 31,
     "metadata": {},
     "output_type": "execute_result"
    }
   ],
   "source": [
    "a1"
   ]
  },
  {
   "cell_type": "code",
   "execution_count": 29,
   "id": "469b2b5a",
   "metadata": {},
   "outputs": [
    {
     "data": {
      "text/plain": [
       "array([4, 6, 4])"
      ]
     },
     "execution_count": 29,
     "metadata": {},
     "output_type": "execute_result"
    }
   ],
   "source": [
    "a1[0]"
   ]
  },
  {
   "cell_type": "code",
   "execution_count": 30,
   "id": "14addfb6",
   "metadata": {},
   "outputs": [
    {
     "data": {
      "text/plain": [
       "array([4, 1, 6])"
      ]
     },
     "execution_count": 30,
     "metadata": {},
     "output_type": "execute_result"
    }
   ],
   "source": [
    "a1[:,0]"
   ]
  },
  {
   "cell_type": "code",
   "execution_count": 32,
   "id": "a5affa08",
   "metadata": {},
   "outputs": [
    {
     "data": {
      "text/plain": [
       "array([2, 8])"
      ]
     },
     "execution_count": 32,
     "metadata": {},
     "output_type": "execute_result"
    }
   ],
   "source": [
    "a1[1:, 1]"
   ]
  },
  {
   "cell_type": "code",
   "execution_count": 33,
   "id": "16c7f822",
   "metadata": {},
   "outputs": [
    {
     "data": {
      "text/plain": [
       "array([[1, 2],\n",
       "       [6, 8]])"
      ]
     },
     "execution_count": 33,
     "metadata": {},
     "output_type": "execute_result"
    }
   ],
   "source": [
    "a1[1:, :2]"
   ]
  },
  {
   "cell_type": "code",
   "execution_count": 34,
   "id": "252345ed",
   "metadata": {},
   "outputs": [
    {
     "data": {
      "text/plain": [
       "array([[4, 6, 4, 1, 2, 2],\n",
       "       [6, 8, 7, 4, 6, 4],\n",
       "       [1, 2, 2, 6, 8, 7],\n",
       "       [4, 6, 4, 1, 2, 2],\n",
       "       [6, 8, 7, 4, 6, 4],\n",
       "       [1, 2, 2, 6, 8, 7]])"
      ]
     },
     "execution_count": 34,
     "metadata": {},
     "output_type": "execute_result"
    }
   ],
   "source": [
    "b1 = np.resize(a1, (6,6))\n",
    "b1"
   ]
  },
  {
   "cell_type": "markdown",
   "id": "f3d4a1a2",
   "metadata": {},
   "source": [
    "#  Operaciones con 2D array"
   ]
  },
  {
   "cell_type": "code",
   "execution_count": 35,
   "id": "f3213580",
   "metadata": {},
   "outputs": [],
   "source": [
    "x = np.linspace(0, 10, 1000)\n",
    "y = np.linspace(0, 5, 500)"
   ]
  },
  {
   "cell_type": "code",
   "execution_count": 36,
   "id": "c5be9cea",
   "metadata": {},
   "outputs": [
    {
     "ename": "ValueError",
     "evalue": "operands could not be broadcast together with shapes (1000,) (500,) ",
     "output_type": "error",
     "traceback": [
      "\u001b[0;31m---------------------------------------------------------------------------\u001b[0m",
      "\u001b[0;31mValueError\u001b[0m                                Traceback (most recent call last)",
      "\u001b[0;32m/tmp/ipykernel_2354/1736884560.py\u001b[0m in \u001b[0;36m<module>\u001b[0;34m\u001b[0m\n\u001b[0;32m----> 1\u001b[0;31m \u001b[0mz\u001b[0m \u001b[0;34m=\u001b[0m \u001b[0mx\u001b[0m\u001b[0;34m**\u001b[0m\u001b[0;36m2\u001b[0m \u001b[0;34m+\u001b[0m \u001b[0my\u001b[0m\u001b[0;34m**\u001b[0m\u001b[0;36m2\u001b[0m\u001b[0;34m\u001b[0m\u001b[0;34m\u001b[0m\u001b[0m\n\u001b[0m",
      "\u001b[0;31mValueError\u001b[0m: operands could not be broadcast together with shapes (1000,) (500,) "
     ]
    }
   ],
   "source": [
    "z = x**2 + y**2"
   ]
  },
  {
   "cell_type": "code",
   "execution_count": 44,
   "id": "57484a1b",
   "metadata": {},
   "outputs": [],
   "source": [
    "x = np.linspace(0, 10, 1000)\n",
    "y = np.linspace(0, 10, 1000)\n",
    "z = x**2 + y**2 #tecnicamente funciona pero no estan mesheados"
   ]
  },
  {
   "cell_type": "code",
   "execution_count": 45,
   "id": "e33868cd",
   "metadata": {},
   "outputs": [
    {
     "data": {
      "text/plain": [
       "array([0.00000000e+00, 2.00400601e-04, 8.01602403e-04, 1.80360541e-03,\n",
       "       3.20640961e-03, 5.01001502e-03, 7.21442163e-03, 9.81962944e-03,\n",
       "       1.28256385e-02, 1.62324487e-02, 2.00400601e-02, 2.42484727e-02,\n",
       "       2.88576865e-02, 3.38677015e-02, 3.92785178e-02, 4.50901352e-02,\n",
       "       5.13025538e-02, 5.79157736e-02, 6.49297947e-02, 7.23446169e-02,\n",
       "       8.01602403e-02, 8.83766650e-02, 9.69938908e-02, 1.06011918e-01,\n",
       "       1.15430746e-01, 1.25250376e-01, 1.35470806e-01, 1.46092038e-01,\n",
       "       1.57114071e-01, 1.68536905e-01, 1.80360541e-01, 1.92584977e-01,\n",
       "       2.05210215e-01, 2.18236254e-01, 2.31663095e-01, 2.45490736e-01,\n",
       "       2.59719179e-01, 2.74348422e-01, 2.89378468e-01, 3.04809314e-01,\n",
       "       3.20640961e-01, 3.36873410e-01, 3.53506660e-01, 3.70540711e-01,\n",
       "       3.87975563e-01, 4.05811217e-01, 4.24047671e-01, 4.42684927e-01,\n",
       "       4.61722984e-01, 4.81161843e-01, 5.01001502e-01, 5.21241963e-01,\n",
       "       5.41883225e-01, 5.62925288e-01, 5.84368152e-01, 6.06211817e-01,\n",
       "       6.28456284e-01, 6.51101552e-01, 6.74147621e-01, 6.97594491e-01,\n",
       "       7.21442163e-01, 7.45690636e-01, 7.70339909e-01, 7.95389985e-01,\n",
       "       8.20840861e-01, 8.46692538e-01, 8.72945017e-01, 8.99598297e-01,\n",
       "       9.26652378e-01, 9.54107260e-01, 9.81962944e-01, 1.01021943e+00,\n",
       "       1.03887671e+00, 1.06793480e+00, 1.09739369e+00, 1.12725338e+00,\n",
       "       1.15751387e+00, 1.18817516e+00, 1.21923726e+00, 1.25070015e+00,\n",
       "       1.28256385e+00, 1.31482834e+00, 1.34749364e+00, 1.38055974e+00,\n",
       "       1.41402664e+00, 1.44789434e+00, 1.48216284e+00, 1.51683215e+00,\n",
       "       1.55190225e+00, 1.58737316e+00, 1.62324487e+00, 1.65951738e+00,\n",
       "       1.69619069e+00, 1.73326480e+00, 1.77073971e+00, 1.80861542e+00,\n",
       "       1.84689194e+00, 1.88556925e+00, 1.92464737e+00, 1.96412629e+00,\n",
       "       2.00400601e+00, 2.04428653e+00, 2.08496785e+00, 2.12604997e+00,\n",
       "       2.16753290e+00, 2.20941662e+00, 2.25170115e+00, 2.29438648e+00,\n",
       "       2.33747261e+00, 2.38095954e+00, 2.42484727e+00, 2.46913580e+00,\n",
       "       2.51382514e+00, 2.55891527e+00, 2.60440621e+00, 2.65029795e+00,\n",
       "       2.69659048e+00, 2.74328382e+00, 2.79037797e+00, 2.83787291e+00,\n",
       "       2.88576865e+00, 2.93406520e+00, 2.98276254e+00, 3.03186069e+00,\n",
       "       3.08135964e+00, 3.13125939e+00, 3.18155994e+00, 3.23226129e+00,\n",
       "       3.28336344e+00, 3.33486640e+00, 3.38677015e+00, 3.43907471e+00,\n",
       "       3.49178007e+00, 3.54488623e+00, 3.59839319e+00, 3.65230095e+00,\n",
       "       3.70660951e+00, 3.76131888e+00, 3.81642904e+00, 3.87194001e+00,\n",
       "       3.92785178e+00, 3.98416434e+00, 4.04087771e+00, 4.09799189e+00,\n",
       "       4.15550686e+00, 4.21342263e+00, 4.27173921e+00, 4.33045658e+00,\n",
       "       4.38957476e+00, 4.44909374e+00, 4.50901352e+00, 4.56933410e+00,\n",
       "       4.63005548e+00, 4.69117766e+00, 4.75270065e+00, 4.81462443e+00,\n",
       "       4.87694902e+00, 4.93967441e+00, 5.00280060e+00, 5.06632759e+00,\n",
       "       5.13025538e+00, 5.19458397e+00, 5.25931337e+00, 5.32444356e+00,\n",
       "       5.38997456e+00, 5.45590636e+00, 5.52223896e+00, 5.58897236e+00,\n",
       "       5.65610656e+00, 5.72364156e+00, 5.79157736e+00, 5.85991397e+00,\n",
       "       5.92865137e+00, 5.99778958e+00, 6.06732859e+00, 6.13726840e+00,\n",
       "       6.20760901e+00, 6.27835042e+00, 6.34949264e+00, 6.42103565e+00,\n",
       "       6.49297947e+00, 6.56532408e+00, 6.63806950e+00, 6.71121572e+00,\n",
       "       6.78476274e+00, 6.85871056e+00, 6.93305919e+00, 7.00780861e+00,\n",
       "       7.08295883e+00, 7.15850986e+00, 7.23446169e+00, 7.31081432e+00,\n",
       "       7.38756775e+00, 7.46472198e+00, 7.54227701e+00, 7.62023285e+00,\n",
       "       7.69858948e+00, 7.77734692e+00, 7.85650515e+00, 7.93606419e+00,\n",
       "       8.01602403e+00, 8.09638467e+00, 8.17714612e+00, 8.25830836e+00,\n",
       "       8.33987140e+00, 8.42183525e+00, 8.50419990e+00, 8.58696534e+00,\n",
       "       8.67013159e+00, 8.75369864e+00, 8.83766650e+00, 8.92203515e+00,\n",
       "       9.00680460e+00, 9.09197486e+00, 9.17754591e+00, 9.26351777e+00,\n",
       "       9.34989043e+00, 9.43666389e+00, 9.52383815e+00, 9.61141322e+00,\n",
       "       9.69938908e+00, 9.78776574e+00, 9.87654321e+00, 9.96572148e+00,\n",
       "       1.00553005e+01, 1.01452804e+01, 1.02356611e+01, 1.03264426e+01,\n",
       "       1.04176248e+01, 1.05092079e+01, 1.06011918e+01, 1.06935765e+01,\n",
       "       1.07863619e+01, 1.08795482e+01, 1.09731353e+01, 1.10671232e+01,\n",
       "       1.11615119e+01, 1.12563013e+01, 1.13514916e+01, 1.14470827e+01,\n",
       "       1.15430746e+01, 1.16394673e+01, 1.17362608e+01, 1.18334551e+01,\n",
       "       1.19310502e+01, 1.20290461e+01, 1.21274428e+01, 1.22262403e+01,\n",
       "       1.23254386e+01, 1.24250377e+01, 1.25250376e+01, 1.26254383e+01,\n",
       "       1.27262398e+01, 1.28274421e+01, 1.29290452e+01, 1.30310491e+01,\n",
       "       1.31334538e+01, 1.32362593e+01, 1.33394656e+01, 1.34430727e+01,\n",
       "       1.35470806e+01, 1.36514893e+01, 1.37562988e+01, 1.38615092e+01,\n",
       "       1.39671203e+01, 1.40731322e+01, 1.41795449e+01, 1.42863584e+01,\n",
       "       1.43935728e+01, 1.45011879e+01, 1.46092038e+01, 1.47176205e+01,\n",
       "       1.48264380e+01, 1.49356564e+01, 1.50452755e+01, 1.51552954e+01,\n",
       "       1.52657162e+01, 1.53765377e+01, 1.54877600e+01, 1.55993832e+01,\n",
       "       1.57114071e+01, 1.58238318e+01, 1.59366574e+01, 1.60498837e+01,\n",
       "       1.61635109e+01, 1.62775388e+01, 1.63919675e+01, 1.65067971e+01,\n",
       "       1.66220274e+01, 1.67376586e+01, 1.68536905e+01, 1.69701233e+01,\n",
       "       1.70869568e+01, 1.72041912e+01, 1.73218263e+01, 1.74398623e+01,\n",
       "       1.75582990e+01, 1.76771366e+01, 1.77963750e+01, 1.79160141e+01,\n",
       "       1.80360541e+01, 1.81564948e+01, 1.82773364e+01, 1.83985788e+01,\n",
       "       1.85202219e+01, 1.86422659e+01, 1.87647107e+01, 1.88875562e+01,\n",
       "       1.90108026e+01, 1.91344498e+01, 1.92584977e+01, 1.93829465e+01,\n",
       "       1.95077961e+01, 1.96330465e+01, 1.97586976e+01, 1.98847496e+01,\n",
       "       2.00112024e+01, 2.01380560e+01, 2.02653104e+01, 2.03929655e+01,\n",
       "       2.05210215e+01, 2.06494783e+01, 2.07783359e+01, 2.09075943e+01,\n",
       "       2.10372535e+01, 2.11673135e+01, 2.12977743e+01, 2.14286358e+01,\n",
       "       2.15598982e+01, 2.16915614e+01, 2.18236254e+01, 2.19560902e+01,\n",
       "       2.20889558e+01, 2.22222222e+01, 2.23558894e+01, 2.24899574e+01,\n",
       "       2.26244262e+01, 2.27592958e+01, 2.28945662e+01, 2.30302374e+01,\n",
       "       2.31663095e+01, 2.33027823e+01, 2.34396559e+01, 2.35769303e+01,\n",
       "       2.37146055e+01, 2.38526815e+01, 2.39911583e+01, 2.41300359e+01,\n",
       "       2.42693144e+01, 2.44089936e+01, 2.45490736e+01, 2.46895544e+01,\n",
       "       2.48304360e+01, 2.49717185e+01, 2.51134017e+01, 2.52554857e+01,\n",
       "       2.53979705e+01, 2.55408562e+01, 2.56841426e+01, 2.58278298e+01,\n",
       "       2.59719179e+01, 2.61164067e+01, 2.62612963e+01, 2.64065868e+01,\n",
       "       2.65522780e+01, 2.66983700e+01, 2.68448629e+01, 2.69917565e+01,\n",
       "       2.71390510e+01, 2.72867462e+01, 2.74348422e+01, 2.75833391e+01,\n",
       "       2.77322367e+01, 2.78815352e+01, 2.80312344e+01, 2.81813345e+01,\n",
       "       2.83318353e+01, 2.84827370e+01, 2.86340394e+01, 2.87857427e+01,\n",
       "       2.89378468e+01, 2.90903516e+01, 2.92432573e+01, 2.93965637e+01,\n",
       "       2.95502710e+01, 2.97043791e+01, 2.98588879e+01, 3.00137976e+01,\n",
       "       3.01691080e+01, 3.03248193e+01, 3.04809314e+01, 3.06374443e+01,\n",
       "       3.07943579e+01, 3.09516724e+01, 3.11093877e+01, 3.12675037e+01,\n",
       "       3.14260206e+01, 3.15849383e+01, 3.17442568e+01, 3.19039760e+01,\n",
       "       3.20640961e+01, 3.22246170e+01, 3.23855387e+01, 3.25468612e+01,\n",
       "       3.27085845e+01, 3.28707085e+01, 3.30332334e+01, 3.31961591e+01,\n",
       "       3.33594856e+01, 3.35232129e+01, 3.36873410e+01, 3.38518699e+01,\n",
       "       3.40167996e+01, 3.41821301e+01, 3.43478614e+01, 3.45139935e+01,\n",
       "       3.46805264e+01, 3.48474601e+01, 3.50147946e+01, 3.51825299e+01,\n",
       "       3.53506660e+01, 3.55192029e+01, 3.56881406e+01, 3.58574791e+01,\n",
       "       3.60272184e+01, 3.61973585e+01, 3.63678994e+01, 3.65388411e+01,\n",
       "       3.67101837e+01, 3.68819270e+01, 3.70540711e+01, 3.72266160e+01,\n",
       "       3.73995617e+01, 3.75729082e+01, 3.77466556e+01, 3.79208037e+01,\n",
       "       3.80953526e+01, 3.82703023e+01, 3.84456529e+01, 3.86214042e+01,\n",
       "       3.87975563e+01, 3.89741092e+01, 3.91510630e+01, 3.93284175e+01,\n",
       "       3.95061728e+01, 3.96843290e+01, 3.98628859e+01, 4.00418436e+01,\n",
       "       4.02212022e+01, 4.04009615e+01, 4.05811217e+01, 4.07616826e+01,\n",
       "       4.09426443e+01, 4.11240069e+01, 4.13057702e+01, 4.14879344e+01,\n",
       "       4.16704993e+01, 4.18534651e+01, 4.20368316e+01, 4.22205990e+01,\n",
       "       4.24047671e+01, 4.25893361e+01, 4.27743058e+01, 4.29596764e+01,\n",
       "       4.31454478e+01, 4.33316199e+01, 4.35181929e+01, 4.37051666e+01,\n",
       "       4.38925412e+01, 4.40803166e+01, 4.42684927e+01, 4.44570697e+01,\n",
       "       4.46460474e+01, 4.48354260e+01, 4.50252054e+01, 4.52153856e+01,\n",
       "       4.54059665e+01, 4.55969483e+01, 4.57883309e+01, 4.59801142e+01,\n",
       "       4.61722984e+01, 4.63648834e+01, 4.65578692e+01, 4.67512558e+01,\n",
       "       4.69450431e+01, 4.71392313e+01, 4.73338203e+01, 4.75288101e+01,\n",
       "       4.77242007e+01, 4.79199921e+01, 4.81161843e+01, 4.83127772e+01,\n",
       "       4.85097710e+01, 4.87071656e+01, 4.89049610e+01, 4.91031572e+01,\n",
       "       4.93017542e+01, 4.95007520e+01, 4.97001506e+01, 4.98999500e+01,\n",
       "       5.01001502e+01, 5.03007512e+01, 5.05017530e+01, 5.07031556e+01,\n",
       "       5.09049590e+01, 5.11071632e+01, 5.13097682e+01, 5.15127740e+01,\n",
       "       5.17161806e+01, 5.19199881e+01, 5.21241963e+01, 5.23288053e+01,\n",
       "       5.25338151e+01, 5.27392257e+01, 5.29450371e+01, 5.31512493e+01,\n",
       "       5.33578624e+01, 5.35648762e+01, 5.37722908e+01, 5.39801062e+01,\n",
       "       5.41883225e+01, 5.43969395e+01, 5.46059573e+01, 5.48153759e+01,\n",
       "       5.50251954e+01, 5.52354156e+01, 5.54460366e+01, 5.56570585e+01,\n",
       "       5.58684811e+01, 5.60803045e+01, 5.62925288e+01, 5.65051538e+01,\n",
       "       5.67181796e+01, 5.69316063e+01, 5.71454337e+01, 5.73596620e+01,\n",
       "       5.75742910e+01, 5.77893209e+01, 5.80047515e+01, 5.82205829e+01,\n",
       "       5.84368152e+01, 5.86534482e+01, 5.88704821e+01, 5.90879167e+01,\n",
       "       5.93057522e+01, 5.95239885e+01, 5.97426255e+01, 5.99616634e+01,\n",
       "       6.01811020e+01, 6.04009415e+01, 6.06211817e+01, 6.08418228e+01,\n",
       "       6.10628647e+01, 6.12843073e+01, 6.15061508e+01, 6.17283951e+01,\n",
       "       6.19510401e+01, 6.21740860e+01, 6.23975327e+01, 6.26213801e+01,\n",
       "       6.28456284e+01, 6.30702775e+01, 6.32953274e+01, 6.35207780e+01,\n",
       "       6.37466295e+01, 6.39728818e+01, 6.41995349e+01, 6.44265888e+01,\n",
       "       6.46540434e+01, 6.48818989e+01, 6.51101552e+01, 6.53388123e+01,\n",
       "       6.55678702e+01, 6.57973289e+01, 6.60271883e+01, 6.62574486e+01,\n",
       "       6.64881097e+01, 6.67191716e+01, 6.69506343e+01, 6.71824978e+01,\n",
       "       6.74147621e+01, 6.76474272e+01, 6.78804931e+01, 6.81139598e+01,\n",
       "       6.83478273e+01, 6.85820956e+01, 6.88167647e+01, 6.90518346e+01,\n",
       "       6.92873053e+01, 6.95231768e+01, 6.97594491e+01, 6.99961222e+01,\n",
       "       7.02331962e+01, 7.04706709e+01, 7.07085464e+01, 7.09468227e+01,\n",
       "       7.11854998e+01, 7.14245777e+01, 7.16640564e+01, 7.19039360e+01,\n",
       "       7.21442163e+01, 7.23848974e+01, 7.26259793e+01, 7.28674621e+01,\n",
       "       7.31093456e+01, 7.33516299e+01, 7.35943150e+01, 7.38374010e+01,\n",
       "       7.40808877e+01, 7.43247752e+01, 7.45690636e+01, 7.48137527e+01,\n",
       "       7.50588426e+01, 7.53043334e+01, 7.55502249e+01, 7.57965172e+01,\n",
       "       7.60432104e+01, 7.62903043e+01, 7.65377991e+01, 7.67856946e+01,\n",
       "       7.70339909e+01, 7.72826881e+01, 7.75317860e+01, 7.77812848e+01,\n",
       "       7.80311843e+01, 7.82814847e+01, 7.85321858e+01, 7.87832878e+01,\n",
       "       7.90347905e+01, 7.92866941e+01, 7.95389985e+01, 7.97917036e+01,\n",
       "       8.00448096e+01, 8.02983163e+01, 8.05522239e+01, 8.08065323e+01,\n",
       "       8.10612414e+01, 8.13163514e+01, 8.15718622e+01, 8.18277737e+01,\n",
       "       8.20840861e+01, 8.23407993e+01, 8.25979132e+01, 8.28554280e+01,\n",
       "       8.31133436e+01, 8.33716599e+01, 8.36303771e+01, 8.38894951e+01,\n",
       "       8.41490139e+01, 8.44089335e+01, 8.46692538e+01, 8.49299750e+01,\n",
       "       8.51910970e+01, 8.54526198e+01, 8.57145434e+01, 8.59768678e+01,\n",
       "       8.62395929e+01, 8.65027189e+01, 8.67662457e+01, 8.70301733e+01,\n",
       "       8.72945017e+01, 8.75592309e+01, 8.78243609e+01, 8.80898917e+01,\n",
       "       8.83558233e+01, 8.86221557e+01, 8.88888889e+01, 8.91560229e+01,\n",
       "       8.94235577e+01, 8.96914933e+01, 8.99598297e+01, 9.02285669e+01,\n",
       "       9.04977049e+01, 9.07672437e+01, 9.10371833e+01, 9.13075237e+01,\n",
       "       9.15782650e+01, 9.18494070e+01, 9.21209498e+01, 9.23928934e+01,\n",
       "       9.26652378e+01, 9.29379830e+01, 9.32111290e+01, 9.34846759e+01,\n",
       "       9.37586235e+01, 9.40329719e+01, 9.43077211e+01, 9.45828712e+01,\n",
       "       9.48584220e+01, 9.51343736e+01, 9.54107260e+01, 9.56874793e+01,\n",
       "       9.59646333e+01, 9.62421881e+01, 9.65201438e+01, 9.67985002e+01,\n",
       "       9.70772574e+01, 9.73564155e+01, 9.76359743e+01, 9.79159340e+01,\n",
       "       9.81962944e+01, 9.84770556e+01, 9.87582177e+01, 9.90397805e+01,\n",
       "       9.93217442e+01, 9.96041086e+01, 9.98868739e+01, 1.00170040e+02,\n",
       "       1.00453607e+02, 1.00737574e+02, 1.01021943e+02, 1.01306712e+02,\n",
       "       1.01591882e+02, 1.01877453e+02, 1.02163425e+02, 1.02449797e+02,\n",
       "       1.02736570e+02, 1.03023744e+02, 1.03311319e+02, 1.03599295e+02,\n",
       "       1.03887671e+02, 1.04176449e+02, 1.04465627e+02, 1.04755206e+02,\n",
       "       1.05045185e+02, 1.05335566e+02, 1.05626347e+02, 1.05917529e+02,\n",
       "       1.06209112e+02, 1.06501096e+02, 1.06793480e+02, 1.07086265e+02,\n",
       "       1.07379452e+02, 1.07673038e+02, 1.07967026e+02, 1.08261415e+02,\n",
       "       1.08556204e+02, 1.08851394e+02, 1.09146985e+02, 1.09442977e+02,\n",
       "       1.09739369e+02, 1.10036162e+02, 1.10333356e+02, 1.10630951e+02,\n",
       "       1.10928947e+02, 1.11227343e+02, 1.11526141e+02, 1.11825339e+02,\n",
       "       1.12124938e+02, 1.12424937e+02, 1.12725338e+02, 1.13026139e+02,\n",
       "       1.13327341e+02, 1.13628944e+02, 1.13930948e+02, 1.14233352e+02,\n",
       "       1.14536158e+02, 1.14839364e+02, 1.15142971e+02, 1.15446979e+02,\n",
       "       1.15751387e+02, 1.16056196e+02, 1.16361406e+02, 1.16667017e+02,\n",
       "       1.16973029e+02, 1.17279442e+02, 1.17586255e+02, 1.17893469e+02,\n",
       "       1.18201084e+02, 1.18509100e+02, 1.18817516e+02, 1.19126334e+02,\n",
       "       1.19435552e+02, 1.19745171e+02, 1.20055190e+02, 1.20365611e+02,\n",
       "       1.20676432e+02, 1.20987654e+02, 1.21299277e+02, 1.21611301e+02,\n",
       "       1.21923726e+02, 1.22236551e+02, 1.22549777e+02, 1.22863404e+02,\n",
       "       1.23177432e+02, 1.23491860e+02, 1.23806690e+02, 1.24121920e+02,\n",
       "       1.24437551e+02, 1.24753582e+02, 1.25070015e+02, 1.25386848e+02,\n",
       "       1.25704082e+02, 1.26021717e+02, 1.26339753e+02, 1.26658190e+02,\n",
       "       1.26977027e+02, 1.27296265e+02, 1.27615904e+02, 1.27935944e+02,\n",
       "       1.28256385e+02, 1.28577226e+02, 1.28898468e+02, 1.29220111e+02,\n",
       "       1.29542155e+02, 1.29864599e+02, 1.30187445e+02, 1.30510691e+02,\n",
       "       1.30834338e+02, 1.31158386e+02, 1.31482834e+02, 1.31807684e+02,\n",
       "       1.32132934e+02, 1.32458585e+02, 1.32784636e+02, 1.33111089e+02,\n",
       "       1.33437942e+02, 1.33765197e+02, 1.34092852e+02, 1.34420907e+02,\n",
       "       1.34749364e+02, 1.35078221e+02, 1.35407480e+02, 1.35737139e+02,\n",
       "       1.36067198e+02, 1.36397659e+02, 1.36728520e+02, 1.37059783e+02,\n",
       "       1.37391445e+02, 1.37723509e+02, 1.38055974e+02, 1.38388839e+02,\n",
       "       1.38722105e+02, 1.39055772e+02, 1.39389840e+02, 1.39724309e+02,\n",
       "       1.40059178e+02, 1.40394449e+02, 1.40730120e+02, 1.41066191e+02,\n",
       "       1.41402664e+02, 1.41739537e+02, 1.42076812e+02, 1.42414487e+02,\n",
       "       1.42752562e+02, 1.43091039e+02, 1.43429916e+02, 1.43769195e+02,\n",
       "       1.44108874e+02, 1.44448953e+02, 1.44789434e+02, 1.45130316e+02,\n",
       "       1.45471598e+02, 1.45813281e+02, 1.46155365e+02, 1.46497849e+02,\n",
       "       1.46840735e+02, 1.47184021e+02, 1.47527708e+02, 1.47871796e+02,\n",
       "       1.48216284e+02, 1.48561174e+02, 1.48906464e+02, 1.49252155e+02,\n",
       "       1.49598247e+02, 1.49944740e+02, 1.50291633e+02, 1.50638927e+02,\n",
       "       1.50986622e+02, 1.51334718e+02, 1.51683215e+02, 1.52032112e+02,\n",
       "       1.52381410e+02, 1.52731109e+02, 1.53081209e+02, 1.53431710e+02,\n",
       "       1.53782611e+02, 1.54133914e+02, 1.54485617e+02, 1.54837721e+02,\n",
       "       1.55190225e+02, 1.55543131e+02, 1.55896437e+02, 1.56250144e+02,\n",
       "       1.56604252e+02, 1.56958761e+02, 1.57313670e+02, 1.57668980e+02,\n",
       "       1.58024691e+02, 1.58380803e+02, 1.58737316e+02, 1.59094229e+02,\n",
       "       1.59451544e+02, 1.59809259e+02, 1.60167375e+02, 1.60525891e+02,\n",
       "       1.60884809e+02, 1.61244127e+02, 1.61603846e+02, 1.61963966e+02,\n",
       "       1.62324487e+02, 1.62685408e+02, 1.63046730e+02, 1.63408453e+02,\n",
       "       1.63770577e+02, 1.64133102e+02, 1.64496028e+02, 1.64859354e+02,\n",
       "       1.65223081e+02, 1.65587209e+02, 1.65951738e+02, 1.66316667e+02,\n",
       "       1.66681997e+02, 1.67047728e+02, 1.67413860e+02, 1.67780393e+02,\n",
       "       1.68147327e+02, 1.68514661e+02, 1.68882396e+02, 1.69250532e+02,\n",
       "       1.69619069e+02, 1.69988006e+02, 1.70357344e+02, 1.70727083e+02,\n",
       "       1.71097223e+02, 1.71467764e+02, 1.71838706e+02, 1.72210048e+02,\n",
       "       1.72581791e+02, 1.72953935e+02, 1.73326480e+02, 1.73699425e+02,\n",
       "       1.74072771e+02, 1.74446519e+02, 1.74820667e+02, 1.75195215e+02,\n",
       "       1.75570165e+02, 1.75945515e+02, 1.76321266e+02, 1.76697418e+02,\n",
       "       1.77073971e+02, 1.77450924e+02, 1.77828279e+02, 1.78206034e+02,\n",
       "       1.78584190e+02, 1.78962747e+02, 1.79341704e+02, 1.79721062e+02,\n",
       "       1.80100822e+02, 1.80480981e+02, 1.80861542e+02, 1.81242504e+02,\n",
       "       1.81623866e+02, 1.82005629e+02, 1.82387793e+02, 1.82770358e+02,\n",
       "       1.83153323e+02, 1.83536690e+02, 1.83920457e+02, 1.84304625e+02,\n",
       "       1.84689194e+02, 1.85074163e+02, 1.85459534e+02, 1.85845305e+02,\n",
       "       1.86231477e+02, 1.86618049e+02, 1.87005023e+02, 1.87392397e+02,\n",
       "       1.87780173e+02, 1.88168349e+02, 1.88556925e+02, 1.88945903e+02,\n",
       "       1.89335281e+02, 1.89725060e+02, 1.90115240e+02, 1.90505821e+02,\n",
       "       1.90896803e+02, 1.91288185e+02, 1.91679968e+02, 1.92072152e+02,\n",
       "       1.92464737e+02, 1.92857723e+02, 1.93251109e+02, 1.93644896e+02,\n",
       "       1.94039084e+02, 1.94433673e+02, 1.94828662e+02, 1.95224053e+02,\n",
       "       1.95619844e+02, 1.96016036e+02, 1.96412629e+02, 1.96809622e+02,\n",
       "       1.97207017e+02, 1.97604812e+02, 1.98003008e+02, 1.98401605e+02,\n",
       "       1.98800602e+02, 1.99200001e+02, 1.99599800e+02, 2.00000000e+02])"
      ]
     },
     "execution_count": 45,
     "metadata": {},
     "output_type": "execute_result"
    }
   ],
   "source": [
    "z"
   ]
  },
  {
   "cell_type": "code",
   "execution_count": 46,
   "id": "6c222320",
   "metadata": {},
   "outputs": [],
   "source": [
    "x = np.linspace(0, 10, 1000)\n",
    "y = np.linspace(0, 10, 1000)"
   ]
  },
  {
   "cell_type": "code",
   "execution_count": 47,
   "id": "7619c0cb",
   "metadata": {},
   "outputs": [],
   "source": [
    "xv, yv = np.meshgrid(x, y)"
   ]
  },
  {
   "cell_type": "code",
   "execution_count": 40,
   "id": "29f05233",
   "metadata": {},
   "outputs": [
    {
     "data": {
      "text/plain": [
       "array([[ 0.        ,  0.01001001,  0.02002002, ...,  9.97997998,\n",
       "         9.98998999, 10.        ],\n",
       "       [ 0.        ,  0.01001001,  0.02002002, ...,  9.97997998,\n",
       "         9.98998999, 10.        ],\n",
       "       [ 0.        ,  0.01001001,  0.02002002, ...,  9.97997998,\n",
       "         9.98998999, 10.        ],\n",
       "       ...,\n",
       "       [ 0.        ,  0.01001001,  0.02002002, ...,  9.97997998,\n",
       "         9.98998999, 10.        ],\n",
       "       [ 0.        ,  0.01001001,  0.02002002, ...,  9.97997998,\n",
       "         9.98998999, 10.        ],\n",
       "       [ 0.        ,  0.01001001,  0.02002002, ...,  9.97997998,\n",
       "         9.98998999, 10.        ]])"
      ]
     },
     "execution_count": 40,
     "metadata": {},
     "output_type": "execute_result"
    }
   ],
   "source": [
    "xv"
   ]
  },
  {
   "cell_type": "code",
   "execution_count": 41,
   "id": "44c440ad",
   "metadata": {},
   "outputs": [
    {
     "data": {
      "text/plain": [
       "array([[ 0.        ,  0.        ,  0.        , ...,  0.        ,\n",
       "         0.        ,  0.        ],\n",
       "       [ 0.01001001,  0.01001001,  0.01001001, ...,  0.01001001,\n",
       "         0.01001001,  0.01001001],\n",
       "       [ 0.02002002,  0.02002002,  0.02002002, ...,  0.02002002,\n",
       "         0.02002002,  0.02002002],\n",
       "       ...,\n",
       "       [ 9.97997998,  9.97997998,  9.97997998, ...,  9.97997998,\n",
       "         9.97997998,  9.97997998],\n",
       "       [ 9.98998999,  9.98998999,  9.98998999, ...,  9.98998999,\n",
       "         9.98998999,  9.98998999],\n",
       "       [10.        , 10.        , 10.        , ..., 10.        ,\n",
       "        10.        , 10.        ]])"
      ]
     },
     "execution_count": 41,
     "metadata": {},
     "output_type": "execute_result"
    }
   ],
   "source": [
    "yv "
   ]
  },
  {
   "cell_type": "code",
   "execution_count": 48,
   "id": "9400a369",
   "metadata": {},
   "outputs": [],
   "source": [
    "zv = xv**2 + yv**2"
   ]
  },
  {
   "cell_type": "code",
   "execution_count": 49,
   "id": "9df3fb41",
   "metadata": {},
   "outputs": [
    {
     "data": {
      "text/plain": [
       "array([[0.00000000e+00, 1.00200300e-04, 4.00801202e-04, ...,\n",
       "        9.96000004e+01, 9.97999000e+01, 1.00000000e+02],\n",
       "       [1.00200300e-04, 2.00400601e-04, 5.01001502e-04, ...,\n",
       "        9.96001006e+01, 9.98000002e+01, 1.00000100e+02],\n",
       "       [4.00801202e-04, 5.01001502e-04, 8.01602403e-04, ...,\n",
       "        9.96004012e+01, 9.98003008e+01, 1.00000401e+02],\n",
       "       ...,\n",
       "       [9.96000004e+01, 9.96001006e+01, 9.96004012e+01, ...,\n",
       "        1.99200001e+02, 1.99399900e+02, 1.99600000e+02],\n",
       "       [9.97999000e+01, 9.98000002e+01, 9.98003008e+01, ...,\n",
       "        1.99399900e+02, 1.99599800e+02, 1.99799900e+02],\n",
       "       [1.00000000e+02, 1.00000100e+02, 1.00000401e+02, ...,\n",
       "        1.99600000e+02, 1.99799900e+02, 2.00000000e+02]])"
      ]
     },
     "execution_count": 49,
     "metadata": {},
     "output_type": "execute_result"
    }
   ],
   "source": [
    "zv"
   ]
  },
  {
   "cell_type": "code",
   "execution_count": 50,
   "id": "a5881bde",
   "metadata": {},
   "outputs": [
    {
     "data": {
      "text/plain": [
       "<matplotlib.colorbar.Colorbar at 0x7f9f90f6a4c0>"
      ]
     },
     "execution_count": 50,
     "metadata": {},
     "output_type": "execute_result"
    },
    {
     "data": {
      "image/png": "[encoded data removed]",
      "text/plain": [
       "<Figure size 432x288 with 2 Axes>"
      ]
     },
     "metadata": {
      "needs_background": "light"
     },
     "output_type": "display_data"
    }
   ],
   "source": [
    "plt.contourf(xv, yv, zv, levels = 30)\n",
    "plt.colorbar()"
   ]
  },
  {
   "cell_type": "markdown",
   "id": "58e3f968",
   "metadata": {},
   "source": [
    "# Algebra Lineal primeros pasos"
   ]
  },
  {
   "cell_type": "markdown",
   "id": "261b9186",
   "metadata": {},
   "source": [
    "## Operacion de matrices"
   ]
  },
  {
   "cell_type": "code",
   "execution_count": 54,
   "id": "3a954d9b",
   "metadata": {},
   "outputs": [],
   "source": [
    "A= np.array([[3,2,1],[5,-5,4],[6,0,1]])\n",
    "b1 = np.array([1,2,3])\n",
    "b2 = np.array([-1,2,-5])"
   ]
  },
  {
   "cell_type": "code",
   "execution_count": 56,
   "id": "0377669d",
   "metadata": {},
   "outputs": [
    {
     "data": {
      "text/plain": [
       "array([[ 3,  2,  1],\n",
       "       [ 5, -5,  4],\n",
       "       [ 6,  0,  1]])"
      ]
     },
     "execution_count": 56,
     "metadata": {},
     "output_type": "execute_result"
    }
   ],
   "source": [
    "A"
   ]
  },
  {
   "cell_type": "code",
   "execution_count": 58,
   "id": "b6d8baae",
   "metadata": {},
   "outputs": [
    {
     "data": {
      "text/plain": [
       "array([1, 2, 3])"
      ]
     },
     "execution_count": 58,
     "metadata": {},
     "output_type": "execute_result"
    }
   ],
   "source": [
    "b1"
   ]
  },
  {
   "cell_type": "code",
   "execution_count": 55,
   "id": "1f4288c8",
   "metadata": {},
   "outputs": [
    {
     "data": {
      "text/plain": [
       "array([10,  7,  9])"
      ]
     },
     "execution_count": 55,
     "metadata": {},
     "output_type": "execute_result"
    }
   ],
   "source": [
    "A@b1 # multiplica la matriz y el vector"
   ]
  },
  {
   "cell_type": "code",
   "execution_count": 59,
   "id": "dff0b56a",
   "metadata": {},
   "outputs": [
    {
     "data": {
      "text/plain": [
       "array([[ 3,  5,  6],\n",
       "       [ 2, -5,  0],\n",
       "       [ 1,  4,  1]])"
      ]
     },
     "execution_count": 59,
     "metadata": {},
     "output_type": "execute_result"
    }
   ],
   "source": [
    "A.T"
   ]
  },
  {
   "cell_type": "code",
   "execution_count": 60,
   "id": "a64f2790",
   "metadata": {},
   "outputs": [
    {
     "data": {
      "text/plain": [
       "-12"
      ]
     },
     "execution_count": 60,
     "metadata": {},
     "output_type": "execute_result"
    }
   ],
   "source": [
    "np.dot(b1, b2)#producto punto"
   ]
  },
  {
   "cell_type": "code",
   "execution_count": 61,
   "id": "ea395e27",
   "metadata": {},
   "outputs": [
    {
     "data": {
      "text/plain": [
       "array([-16,   2,   4])"
      ]
     },
     "execution_count": 61,
     "metadata": {},
     "output_type": "execute_result"
    }
   ],
   "source": [
    "np.cross(b1, b2) # producto cruz o producto vectorial"
   ]
  },
  {
   "cell_type": "markdown",
   "id": "98648308",
   "metadata": {},
   "source": [
    "## Sistema de ecuaciones\n",
    "\n",
    "$ 3x + 2y + z = 4$\n",
    "\n",
    "$ 5x -5y + 4z = 3$\n",
    "\n",
    "$ 6x +z = 0$"
   ]
  },
  {
   "cell_type": "code",
   "execution_count": 63,
   "id": "f23396bc",
   "metadata": {},
   "outputs": [],
   "source": [
    "A=np.array([[3,2,1],[5,-5,4],[6,0,1]])\n",
    "c = np.array([4,3,0])"
   ]
  },
  {
   "cell_type": "code",
   "execution_count": 64,
   "id": "fc52ffbf",
   "metadata": {},
   "outputs": [
    {
     "data": {
      "text/plain": [
       "array([-0.49056604,  1.26415094,  2.94339623])"
      ]
     },
     "execution_count": 64,
     "metadata": {},
     "output_type": "execute_result"
    }
   ],
   "source": [
    "np.linalg.solve(A, c)"
   ]
  },
  {
   "cell_type": "markdown",
   "id": "f2118185",
   "metadata": {},
   "source": [
    "## encontrar autovalores"
   ]
  },
  {
   "cell_type": "code",
   "execution_count": 65,
   "id": "47ebec7a",
   "metadata": {},
   "outputs": [],
   "source": [
    "A = np.array([[4,2,2],[2,4,2],[2,2,4]])"
   ]
  },
  {
   "cell_type": "code",
   "execution_count": 66,
   "id": "7bcc985a",
   "metadata": {},
   "outputs": [
    {
     "data": {
      "text/plain": [
       "(array([2., 8., 2.]),\n",
       " array([[-0.81649658,  0.57735027,  0.50669854],\n",
       "        [ 0.40824829,  0.57735027, -0.80782419],\n",
       "        [ 0.40824829,  0.57735027,  0.30112565]]))"
      ]
     },
     "execution_count": 66,
     "metadata": {},
     "output_type": "execute_result"
    }
   ],
   "source": [
    "np.linalg.eig(A) #obtengo los auto valores y los autovectores, nos da una tupla"
   ]
  },
  {
   "cell_type": "markdown",
   "id": "4d036118",
   "metadata": {},
   "source": [
    "# Ejemplos"
   ]
  },
  {
   "cell_type": "markdown",
   "id": "56bf45a3",
   "metadata": {},
   "source": [
    "## Ejercicio 1\n",
    "\n",
    "Let $f(x,y) = e^{-(x^2+y^2)} \\cdot \\sin(x)$ for $-2 \\leq x \\leq 2$ and $-2 \\leq y \\leq 2$\n",
    "\n",
    "1. Make a contour plot of $f$\n",
    "2. Find the volume $|f(x,y)|$ in the specified $x$ and $y$ range\n",
    "3. Find the volume $|f(x,y)|$ only in the region where $\\sqrt{x^2+y^2}>0.5$ "
   ]
  },
  {
   "cell_type": "code",
   "execution_count": 70,
   "id": "50b4164f",
   "metadata": {},
   "outputs": [
    {
     "data": {
      "text/plain": [
       "<matplotlib.colorbar.Colorbar at 0x7f9f90a8b5b0>"
      ]
     },
     "execution_count": 70,
     "metadata": {},
     "output_type": "execute_result"
    },
    {
     "data": {
      "image/png": "[encoded data removed]",
      "text/plain": [
       "<Figure size 432x288 with 2 Axes>"
      ]
     },
     "metadata": {
      "needs_background": "light"
     },
     "output_type": "display_data"
    }
   ],
   "source": [
    "#1\n",
    "x= np.linspace(-2,2,1000)\n",
    "y= np.linspace(-2,2,1000)\n",
    "xv, yv = np.meshgrid(x, y)\n",
    "\n",
    "f = np.exp(-(xv**2 + yv**2)) * np.sin(xv)\n",
    "plt.contourf(xv, yv, f, levels = 100)\n",
    "plt.colorbar()"
   ]
  },
  {
   "cell_type": "code",
   "execution_count": 73,
   "id": "e8ca175d",
   "metadata": {},
   "outputs": [
    {
     "data": {
      "text/plain": [
       "1.4861858145124311"
      ]
     },
     "execution_count": 73,
     "metadata": {},
     "output_type": "execute_result"
    }
   ],
   "source": [
    "#2\n",
    "np.abs(f.ravel()).sum()*np.diff(x)[0] *  np.diff(y)[0]# vectorizamos la matriz"
   ]
  },
  {
   "cell_type": "code",
   "execution_count": 74,
   "id": "60af8550",
   "metadata": {},
   "outputs": [
    {
     "data": {
      "text/plain": [
       "array([[ True,  True,  True, ...,  True,  True,  True],\n",
       "       [ True,  True,  True, ...,  True,  True,  True],\n",
       "       [ True,  True,  True, ...,  True,  True,  True],\n",
       "       ...,\n",
       "       [ True,  True,  True, ...,  True,  True,  True],\n",
       "       [ True,  True,  True, ...,  True,  True,  True],\n",
       "       [ True,  True,  True, ...,  True,  True,  True]])"
      ]
     },
     "execution_count": 74,
     "metadata": {},
     "output_type": "execute_result"
    }
   ],
   "source": [
    "#3\n",
    "xv**2 + yv**2 > 0.5**2\n"
   ]
  },
  {
   "cell_type": "code",
   "execution_count": 75,
   "id": "ad1e1e28",
   "metadata": {},
   "outputs": [
    {
     "data": {
      "text/plain": [
       "array([-0.00030504, -0.00031052, -0.00031609, ...,  0.00031609,\n",
       "        0.00031052,  0.00030504])"
      ]
     },
     "execution_count": 75,
     "metadata": {},
     "output_type": "execute_result"
    }
   ],
   "source": [
    "f[xv**2 + yv**2 > 0.5**2]"
   ]
  },
  {
   "cell_type": "code",
   "execution_count": 76,
   "id": "9be2586e",
   "metadata": {},
   "outputs": [
    {
     "data": {
      "text/plain": [
       "1.3447652930203164"
      ]
     },
     "execution_count": 76,
     "metadata": {},
     "output_type": "execute_result"
    }
   ],
   "source": [
    "np.abs(f[xv**2 + yv**2 > 0.5**2].ravel()).sum()*np.diff(x)[0] *  np.diff(y)[0]"
   ]
  },
  {
   "cell_type": "markdown",
   "id": "a8baf794",
   "metadata": {},
   "source": [
    "## Ejercicio 2\n",
    "\n",
    "After examining a circuit full of resistors, you find that the voltage at 4 specified points is given by\n",
    "\n",
    "$ 3V_1 + 2V_2 + 3V_3 + 10V_4 = 4$\n",
    "\n",
    "$ 2V_1 - 2V_2 + 5V_3 + 8V_4 = 1$\n",
    "\n",
    "$ 3V_1 + 3V_2 + 4V_3 + 9V_4 = 3$\n",
    "\n",
    "$ 3V_1 + 4V_2 - 3V_3 - 7V_4 = 2$\n",
    "\n",
    "Find all the voltages"
   ]
  },
  {
   "cell_type": "code",
   "execution_count": 79,
   "id": "ea3a0f46",
   "metadata": {},
   "outputs": [
    {
     "data": {
      "text/plain": [
       "array([ 0.78378378,  0.03603604, -0.67567568,  0.36036036])"
      ]
     },
     "execution_count": 79,
     "metadata": {},
     "output_type": "execute_result"
    }
   ],
   "source": [
    "A = np.array([[3,2,3,10],[2,-2,5,8],[3,3,4,9],[3,4,-3,-7]])\n",
    "c=np.array([4,1,3,2])\n",
    "np.linalg.solve(A,c)"
   ]
  },
  {
   "cell_type": "markdown",
   "id": "83797bf1",
   "metadata": {},
   "source": [
    "## ejercicio 3 (heavy)\n",
    "\n",
    "An electric field is given by $\\vec{E}(z,t) = E_0 \\cos (z-t) \\hat{x} + 2E_0 \\cos(z-t+\\pi/2) \\hat{y}$. \n",
    "\n",
    "1. Find the magnetic field for all $z \\in [0,4\\pi]$ and $t \\in [0,10]$ using $\\vec{B}(z,t) = \\hat{z} \\times \\vec{E}(z,t)$\n",
    "2. Compute the Poynting vector $\\vec{S} = \\vec{E} \\times \\vec{B}$ for all $z$ and $t$"
   ]
  },
  {
   "cell_type": "code",
   "execution_count": 83,
   "id": "44670032",
   "metadata": {},
   "outputs": [],
   "source": [
    "#1\n",
    "\n",
    "z = np.linspace(0, 4*np.pi, 100)\n",
    "t = np.linspace(0,10,100)\n",
    "\n",
    "tv, zv = np.meshgrid(t, z)\n",
    "\n",
    "Ex = np.cos(zv-tv)\n",
    "Ey = 2*np.cos(zv-tv + np.pi/2) \n",
    "Ez = 0*tv"
   ]
  },
  {
   "cell_type": "markdown",
   "id": "ef62d3b8",
   "metadata": {},
   "source": [
    "$E_x$ as function of $t$ at $z=0$"
   ]
  },
  {
   "cell_type": "code",
   "execution_count": 85,
   "id": "50c59254",
   "metadata": {},
   "outputs": [
    {
     "data": {
      "text/plain": [
       "[<matplotlib.lines.Line2D at 0x7f9f90923b80>]"
      ]
     },
     "execution_count": 85,
     "metadata": {},
     "output_type": "execute_result"
    },
    {
     "data": {
      "image/png": "[encoded data removed]",
      "text/plain": [
       "<Figure size 432x288 with 1 Axes>"
      ]
     },
     "metadata": {
      "needs_background": "light"
     },
     "output_type": "display_data"
    }
   ],
   "source": [
    "plt.plot(t, Ex[0])\n",
    "plt.plot(t, Ey[0])"
   ]
  },
  {
   "cell_type": "markdown",
   "id": "14d42446",
   "metadata": {},
   "source": [
    "$E_x$ as function of $z$ at $t=0$"
   ]
  },
  {
   "cell_type": "code",
   "execution_count": 87,
   "id": "25ef96ff",
   "metadata": {},
   "outputs": [
    {
     "data": {
      "text/plain": [
       "[<matplotlib.lines.Line2D at 0x7f9f909138b0>]"
      ]
     },
     "execution_count": 87,
     "metadata": {},
     "output_type": "execute_result"
    },
    {
     "data": {
      "image/png": "[encoded data removed]",
      "text/plain": [
       "<Figure size 432x288 with 1 Axes>"
      ]
     },
     "metadata": {
      "needs_background": "light"
     },
     "output_type": "display_data"
    }
   ],
   "source": [
    "plt.plot(t, Ex[:, 0])\n",
    "plt.plot(t, Ey[:, 0])"
   ]
  },
  {
   "cell_type": "code",
   "execution_count": 88,
   "id": "17a472a6",
   "metadata": {},
   "outputs": [],
   "source": [
    "E=np.array([Ex, Ey, Ez])"
   ]
  },
  {
   "cell_type": "code",
   "execution_count": 89,
   "id": "e798198f",
   "metadata": {},
   "outputs": [],
   "source": [
    "E=np.swapaxes(E,0,-1)"
   ]
  },
  {
   "cell_type": "code",
   "execution_count": 90,
   "id": "e93844c8",
   "metadata": {},
   "outputs": [],
   "source": [
    "B = np.cross(np.array([0,0,1]), E)"
   ]
  },
  {
   "cell_type": "code",
   "execution_count": 91,
   "id": "50248425",
   "metadata": {},
   "outputs": [],
   "source": [
    "B = np.swapaxes(B,0,-1)"
   ]
  },
  {
   "cell_type": "code",
   "execution_count": 93,
   "id": "2364aed3",
   "metadata": {},
   "outputs": [
    {
     "data": {
      "text/plain": [
       "[<matplotlib.lines.Line2D at 0x7f9f90f4f250>]"
      ]
     },
     "execution_count": 93,
     "metadata": {},
     "output_type": "execute_result"
    },
    {
     "data": {
      "image/png": "[encoded data removed]",
      "text/plain": [
       "<Figure size 432x288 with 1 Axes>"
      ]
     },
     "metadata": {
      "needs_background": "light"
     },
     "output_type": "display_data"
    }
   ],
   "source": [
    "Bx, By, Bz = B\n",
    "plt.plot(t, Ey[0])\n",
    "plt.plot(t, Bx[0])"
   ]
  },
  {
   "cell_type": "markdown",
   "id": "9e59d13a",
   "metadata": {},
   "source": [
    "El ulrimo punto no m,e salio, incompativilidad entre las dimensiones de los array"
   ]
  },
  {
   "cell_type": "markdown",
   "id": "3511b258",
   "metadata": {},
   "source": [
    "## Ejercicio  4 (Este se va a la mierda)\n",
    "\n",
    "Find the solutions to $\\left(\\frac{d^2}{dx^2} + (10x)^2\\right) f = \\lambda f$ with boundary conditions $f(0)=f(1)=0$\n",
    "\n",
    "* use the eigenvalue method and the fact that $\\frac{d^2 f}{dx^2} \\approx \\frac{f_{i+1} + f_{i-1} - 2f_i}{\\Delta x^2}$ where $f_i = f(i \\Delta x)$ and $i$ is an integer. "
   ]
  },
  {
   "cell_type": "code",
   "execution_count": 100,
   "id": "cc254dfa",
   "metadata": {},
   "outputs": [],
   "source": [
    "N = 1000\n",
    "x = np.linspace(0,1,N+1)\n",
    "dx = x[1]-x[0]\n",
    "# se to,a los valores de una onda estacionaria\n",
    "main_diag = -2*np.ones(N-1)\n",
    "off_diag = np.ones(N-2)\n",
    "derivative_matrix = (np.diag(main_diag) + np.diag(off_diag, k=1)+ np.diag(off_diag, k=-1))/dx**2\n",
    "x2_matrix = np.diag((10*x[1:-1])**2)\n",
    "LHS_matrix = derivative_matrix #+ x2_matrix "
   ]
  },
  {
   "cell_type": "code",
   "execution_count": 101,
   "id": "c34db933",
   "metadata": {},
   "outputs": [],
   "source": [
    "w, v = np.linalg.eigh(LHS_matrix)"
   ]
  },
  {
   "cell_type": "code",
   "execution_count": 102,
   "id": "8718e85b",
   "metadata": {},
   "outputs": [
    {
     "data": {
      "text/plain": [
       "[<matplotlib.lines.Line2D at 0x7f9f9086a4f0>]"
      ]
     },
     "execution_count": 102,
     "metadata": {},
     "output_type": "execute_result"
    },
    {
     "data": {
      "image/png": "[encoded data removed]",
      "text/plain": [
       "<Figure size 432x288 with 1 Axes>"
      ]
     },
     "metadata": {
      "needs_background": "light"
     },
     "output_type": "display_data"
    }
   ],
   "source": [
    "plt.plot(-1*v[:,-1])\n",
    "plt.plot(-1*v[:,-2])\n",
    "plt.plot(-1*v[:,-3])\n",
    "plt.plot(-1*v[:,-4])"
   ]
  },
  {
   "cell_type": "markdown",
   "id": "d8c04533",
   "metadata": {},
   "source": [
    "Hasta aca llego miu amor, llegue hasta la onda estacionaria"
   ]
  },
  {
   "cell_type": "code",
   "execution_count": null,
   "id": "9cf01674",
   "metadata": {},
   "outputs": [],
   "source": []
  }
 ],
 "metadata": {
  "kernelspec": {
   "display_name": "Python 3 (ipykernel)",
   "language": "python",
   "name": "python3"
  },
  "language_info": {
   "codemirror_mode": {
    "name": "ipython",
    "version": 3
   },
   "file_extension": ".py",
   "mimetype": "text/x-python",
   "name": "python",
   "nbconvert_exporter": "python",
   "pygments_lexer": "ipython3",
   "version": "3.8.6"
  },
  "toc": {
   "base_numbering": 1,
   "nav_menu": {},
   "number_sections": true,
   "sideBar": true,
   "skip_h1_title": false,
   "title_cell": "Table of Contents",
   "title_sidebar": "Contents",
   "toc_cell": false,
   "toc_position": {},
   "toc_section_display": true,
   "toc_window_display": false
  }
 },
 "nbformat": 4,
 "nbformat_minor": 5
}
