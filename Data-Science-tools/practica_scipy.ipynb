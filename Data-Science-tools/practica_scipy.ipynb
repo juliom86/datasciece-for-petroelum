{
 "cells": [
  {
   "cell_type": "markdown",
   "id": "950dab4e",
   "metadata": {},
   "source": [
    "# inicio en scipy"
   ]
  },
  {
   "cell_type": "code",
   "execution_count": 1,
   "id": "9920be45",
   "metadata": {},
   "outputs": [],
   "source": [
    "import numpy as np\n",
    "import matplotlib.pyplot as plt\n",
    "import scipy as sp"
   ]
  },
  {
   "cell_type": "markdown",
   "id": "ab0b4348",
   "metadata": {},
   "source": [
    "## optimizacion"
   ]
  },
  {
   "cell_type": "code",
   "execution_count": 2,
   "id": "84604cd8",
   "metadata": {},
   "outputs": [],
   "source": [
    "from scipy.optimize import minimize"
   ]
  },
  {
   "cell_type": "code",
   "execution_count": 3,
   "id": "34ccf88f",
   "metadata": {},
   "outputs": [],
   "source": [
    "def f(x):\n",
    "    return (x-3)**2\n",
    "\n",
    "res = minimize(f, 2) # selecciona el valor minimo"
   ]
  },
  {
   "cell_type": "code",
   "execution_count": 4,
   "id": "6fb292ed",
   "metadata": {},
   "outputs": [
    {
     "data": {
      "text/plain": [
       "      fun: 5.551437397369767e-17\n",
       " hess_inv: array([[0.5]])\n",
       "      jac: array([-4.3254289e-13])\n",
       "  message: 'Optimization terminated successfully.'\n",
       "     nfev: 6\n",
       "      nit: 2\n",
       "     njev: 3\n",
       "   status: 0\n",
       "  success: True\n",
       "        x: array([2.99999999])"
      ]
     },
     "execution_count": 4,
     "metadata": {},
     "output_type": "execute_result"
    }
   ],
   "source": [
    "res"
   ]
  },
  {
   "cell_type": "code",
   "execution_count": 5,
   "id": "afaade08",
   "metadata": {},
   "outputs": [
    {
     "data": {
      "text/plain": [
       "array([2.99999999])"
      ]
     },
     "execution_count": 5,
     "metadata": {},
     "output_type": "execute_result"
    }
   ],
   "source": [
    "res.x # obtengo la informacion que estoy buscando"
   ]
  },
  {
   "cell_type": "code",
   "execution_count": 6,
   "id": "c1190084",
   "metadata": {},
   "outputs": [
    {
     "data": {
      "text/plain": [
       "2.999999992549203"
      ]
     },
     "execution_count": 6,
     "metadata": {},
     "output_type": "execute_result"
    }
   ],
   "source": [
    "res.x[0] # obtengo el valor y no el array"
   ]
  },
  {
   "cell_type": "code",
   "execution_count": 17,
   "id": "dc2304a5",
   "metadata": {},
   "outputs": [],
   "source": [
    "f = lambda x: (x[0] - 1)**2 + (x[1] - 2.5)**2   # escribo la funcion como un vector\n",
    "# coinstruyo mis inecuaciones\n",
    "cons = ({'type': 'ineq', 'fun': lambda x: x[0]-2*x[1]+2},\n",
    "        {'type': 'ineq', 'fun': lambda x: -x[0]-2*x[1]+6},\n",
    "        {'type': 'ineq', 'fun': lambda x: -x[0]+2*x[1]+2}\n",
    "       )\n",
    "#construyo mis fronteras\n",
    "bnds = ((0, None), (0, None))\n",
    "res = minimize(f, (2,0), bounds = bnds, constraints = cons)"
   ]
  },
  {
   "cell_type": "code",
   "execution_count": 18,
   "id": "d574b1c4",
   "metadata": {},
   "outputs": [
    {
     "data": {
      "text/plain": [
       "     fun: 0.8000000011920985\n",
       "     jac: array([ 0.80000002, -1.59999999])\n",
       " message: 'Optimization terminated successfully'\n",
       "    nfev: 10\n",
       "     nit: 3\n",
       "    njev: 3\n",
       "  status: 0\n",
       " success: True\n",
       "       x: array([1.4, 1.7])"
      ]
     },
     "execution_count": 18,
     "metadata": {},
     "output_type": "execute_result"
    }
   ],
   "source": [
    "res"
   ]
  },
  {
   "cell_type": "code",
   "execution_count": 19,
   "id": "4beaaa58",
   "metadata": {},
   "outputs": [
    {
     "data": {
      "text/plain": [
       "array([1.4, 1.7])"
      ]
     },
     "execution_count": 19,
     "metadata": {},
     "output_type": "execute_result"
    }
   ],
   "source": [
    "res.x"
   ]
  },
  {
   "cell_type": "code",
   "execution_count": 16,
   "id": "7f1b32df",
   "metadata": {},
   "outputs": [],
   "source": [
    "minimize? # con esto obtengo toda la informacion del metodo"
   ]
  },
  {
   "cell_type": "markdown",
   "id": "e8c5c428",
   "metadata": {},
   "source": [
    "## interpolacion"
   ]
  },
  {
   "cell_type": "code",
   "execution_count": 22,
   "id": "e0586546",
   "metadata": {},
   "outputs": [
    {
     "data": {
      "text/plain": [
       "<matplotlib.collections.PathCollection at 0x7fc0efba1b50>"
      ]
     },
     "execution_count": 22,
     "metadata": {},
     "output_type": "execute_result"
    },
    {
     "data": {
      "image/png": "[encoded data removed]",
      "text/plain": [
       "<Figure size 432x288 with 1 Axes>"
      ]
     },
     "metadata": {
      "needs_background": "light"
     },
     "output_type": "display_data"
    }
   ],
   "source": [
    "x = np.linspace(0, 10, 10) # generamos la data de manera aleatoria\n",
    "y = x**2 * np.sin(x)\n",
    "plt.scatter(x, y)"
   ]
  },
  {
   "cell_type": "code",
   "execution_count": 24,
   "id": "02dd84aa",
   "metadata": {},
   "outputs": [],
   "source": [
    "# pero si queres saber los valores entre esos puntos\n",
    "from scipy.interpolate import interp1d # llamo al metodo de interpolacion de scipy"
   ]
  },
  {
   "cell_type": "code",
   "execution_count": 36,
   "id": "fda2c8a9",
   "metadata": {},
   "outputs": [
    {
     "data": {
      "text/plain": [
       "<matplotlib.collections.PathCollection at 0x7fc0e4b22670>"
      ]
     },
     "execution_count": 36,
     "metadata": {},
     "output_type": "execute_result"
    },
    {
     "data": {
      "image/png": "[encoded data removed]",
      "text/plain": [
       "<Figure size 432x288 with 1 Axes>"
      ]
     },
     "metadata": {
      "needs_background": "light"
     },
     "output_type": "display_data"
    }
   ],
   "source": [
    "f =  interp1d(x, y, kind = 'linear') # realizo una interpolacion lineal\n",
    "x_dense = np.linspace(0, 10, 100)\n",
    "y_dense = f(x_dense)\n",
    "plt.plot(x_dense, y_dense)\n",
    "plt.scatter(x, y)"
   ]
  },
  {
   "cell_type": "code",
   "execution_count": 37,
   "id": "3b767eae",
   "metadata": {},
   "outputs": [
    {
     "data": {
      "text/plain": [
       "<matplotlib.collections.PathCollection at 0x7fc0e4a8a580>"
      ]
     },
     "execution_count": 37,
     "metadata": {},
     "output_type": "execute_result"
    },
    {
     "data": {
      "image/png": "[encoded data removed]",
      "text/plain": [
       "<Figure size 432x288 with 1 Axes>"
      ]
     },
     "metadata": {
      "needs_background": "light"
     },
     "output_type": "display_data"
    }
   ],
   "source": [
    "f =  interp1d(x, y, kind = 'cubic') # realizo una interpolacion cuadratica o cubica\n",
    "x_dense = np.linspace(0, 10, 100)\n",
    "y_dense = f(x_dense)\n",
    "plt.plot(x_dense, y_dense)\n",
    "plt.scatter(x, y)"
   ]
  },
  {
   "cell_type": "markdown",
   "id": "9c2f9a9d",
   "metadata": {},
   "source": [
    "## Ajuste de curva"
   ]
  },
  {
   "cell_type": "code",
   "execution_count": 29,
   "id": "b35ae545",
   "metadata": {},
   "outputs": [],
   "source": [
    "x_data = np.linspace(0, 10, 10)\n",
    "y_data = 3*x_data**2 + 2\n"
   ]
  },
  {
   "cell_type": "code",
   "execution_count": 30,
   "id": "892e9585",
   "metadata": {},
   "outputs": [
    {
     "data": {
      "text/plain": [
       "<matplotlib.collections.PathCollection at 0x7fc0e4baa640>"
      ]
     },
     "execution_count": 30,
     "metadata": {},
     "output_type": "execute_result"
    },
    {
     "data": {
      "image/png": "[encoded data removed]",
      "text/plain": [
       "<Figure size 432x288 with 1 Axes>"
      ]
     },
     "metadata": {
      "needs_background": "light"
     },
     "output_type": "display_data"
    }
   ],
   "source": [
    "plt.scatter(x_data, y_data)# gemero los puntos que se comporta segun la funcion"
   ]
  },
  {
   "cell_type": "code",
   "execution_count": 31,
   "id": "74698e78",
   "metadata": {},
   "outputs": [],
   "source": [
    "# AHora lo que quiero hacer es ajustar la curva curva a esos valores\n",
    "from scipy.optimize import curve_fit"
   ]
  },
  {
   "cell_type": "code",
   "execution_count": 33,
   "id": "eb7a55b5",
   "metadata": {},
   "outputs": [],
   "source": [
    "def func(x, a, b):\n",
    "    return a*x**2 + b\n",
    "\n",
    "popt, pcov = curve_fit(func, x_data, y_data, p0 = (1, 1)) # popt son llos valores mas optimimos y pcov es la covarianza, p0 es el punto de inicio"
   ]
  },
  {
   "cell_type": "code",
   "execution_count": 34,
   "id": "ee0f08f0",
   "metadata": {},
   "outputs": [
    {
     "data": {
      "text/plain": [
       "array([3., 2.])"
      ]
     },
     "execution_count": 34,
     "metadata": {},
     "output_type": "execute_result"
    }
   ],
   "source": [
    "popt # me da los valores de la funcion"
   ]
  },
  {
   "cell_type": "code",
   "execution_count": 35,
   "id": "f2948169",
   "metadata": {},
   "outputs": [
    {
     "data": {
      "text/plain": [
       "array([[ 4.13297331e-34, -1.45419433e-32],\n",
       "       [-1.45419433e-32,  9.65872308e-31]])"
      ]
     },
     "execution_count": 35,
     "metadata": {},
     "output_type": "execute_result"
    }
   ],
   "source": [
    "pcov"
   ]
  },
  {
   "cell_type": "markdown",
   "id": "c33b9112",
   "metadata": {},
   "source": [
    "\n",
    "The equation for spring motion is $y(t) = A\\cos(\\omega t+\\phi)$. Want to find the natural frequency of oscillation $\\omega$ for the spring. You collect the data, por ejemplo la oscilacion de una masa-resorte"
   ]
  },
  {
   "cell_type": "code",
   "execution_count": 38,
   "id": "3a5ea9ed",
   "metadata": {},
   "outputs": [],
   "source": [
    "\n",
    "t_data = np.array([ 0.   ,  0.34482759,  0.68965517,  1.03448276,  1.37931034,\n",
    "        1.72413793,  2.06896552,  2.4137931 ,  2.75862069,  3.10344828,\n",
    "        3.44827586,  3.79310345,  4.13793103,  4.48275862,  4.82758621,\n",
    "        5.17241379,  5.51724138,  5.86206897,  6.20689655,  6.55172414,\n",
    "        6.89655172,  7.24137931,  7.5862069 ,  7.93103448,  8.27586207,\n",
    "        8.62068966,  8.96551724,  9.31034483,  9.65517241, 10.        ])\n",
    "y_data = np.array([ 4.3303953 ,  1.61137995, -2.15418696, -3.90137249, -1.67259042,\n",
    "        2.16884383,  3.86635998,  1.85194506, -1.8489224 , -3.96560495,\n",
    "       -2.13385255,  1.59425817,  4.06145238,  1.89300594, -1.76870297,\n",
    "       -4.26791226, -2.46874133,  1.37019912,  4.24945607,  2.27038039,\n",
    "       -1.50299303, -3.46774049, -2.50845488,  1.20022052,  3.81633703,\n",
    "        2.91511556, -1.24569189, -3.72716214, -2.54549857,  0.87262548])"
   ]
  },
  {
   "cell_type": "code",
   "execution_count": 39,
   "id": "101f0eff",
   "metadata": {},
   "outputs": [
    {
     "data": {
      "text/plain": [
       "[<matplotlib.lines.Line2D at 0x7fc0e4a68b50>]"
      ]
     },
     "execution_count": 39,
     "metadata": {},
     "output_type": "execute_result"
    },
    {
     "data": {
      "image/png": "[encoded data removed]",
      "text/plain": [
       "<Figure size 432x288 with 1 Axes>"
      ]
     },
     "metadata": {
      "needs_background": "light"
     },
     "output_type": "display_data"
    }
   ],
   "source": [
    "plt.plot(t_data, y_data, 'o--')"
   ]
  },
  {
   "cell_type": "markdown",
   "id": "e5425f30",
   "metadata": {},
   "source": [
    "\n",
    "$\\omega = 2 \\pi f$, $f=1/T$, and $T \\approx 2$ seconds. Thus good initial guess is\n",
    "\n",
    ". $\\omega = 2 \\pi (1/2) = \\pi$\n",
    ". $A=4$\n",
    ". $\\phi = 0$"
   ]
  },
  {
   "cell_type": "code",
   "execution_count": 40,
   "id": "875ab4ef",
   "metadata": {},
   "outputs": [],
   "source": [
    "def func(x, A, w, phi):\n",
    "    return A*np.cos(w*x + phi)\n",
    "popt, pcov = curve_fit(func, t_data, y_data, p0 = (4, np.pi, 0))"
   ]
  },
  {
   "cell_type": "code",
   "execution_count": 43,
   "id": "4539ba95",
   "metadata": {},
   "outputs": [],
   "source": [
    "A, w, phi = popt"
   ]
  },
  {
   "cell_type": "code",
   "execution_count": 44,
   "id": "5b942844",
   "metadata": {
    "scrolled": true
   },
   "outputs": [
    {
     "data": {
      "text/plain": [
       "array([3.94836219, 2.9989952 , 0.10411352])"
      ]
     },
     "execution_count": 44,
     "metadata": {},
     "output_type": "execute_result"
    }
   ],
   "source": [
    "popt # estos son los parametros"
   ]
  },
  {
   "cell_type": "code",
   "execution_count": 47,
   "id": "c90e2c3e",
   "metadata": {
    "scrolled": true
   },
   "outputs": [
    {
     "data": {
      "text/plain": [
       "array([[ 2.61882716e-03, -4.94132477e-06,  3.47405232e-05],\n",
       "       [-4.94132477e-06,  1.85637431e-05, -9.60755703e-05],\n",
       "       [ 3.47405232e-05, -9.60755703e-05,  6.63424255e-04]])"
      ]
     },
     "execution_count": 47,
     "metadata": {},
     "output_type": "execute_result"
    }
   ],
   "source": [
    "pcov # matriz de covarianza "
   ]
  },
  {
   "cell_type": "code",
   "execution_count": 48,
   "id": "a9132c08",
   "metadata": {},
   "outputs": [
    {
     "data": {
      "text/plain": [
       "array([2.61882716e-03, 1.85637431e-05, 6.63424255e-04])"
      ]
     },
     "execution_count": 48,
     "metadata": {},
     "output_type": "execute_result"
    }
   ],
   "source": [
    "np.diag(pcov)# la diagonal principal me da la covarianza el error en lo s parametros A, w, phi"
   ]
  },
  {
   "cell_type": "code",
   "execution_count": 50,
   "id": "7ed1d2b8",
   "metadata": {},
   "outputs": [
    {
     "data": {
      "text/plain": [
       "array([0.05117448, 0.00430857, 0.02575702])"
      ]
     },
     "execution_count": 50,
     "metadata": {},
     "output_type": "execute_result"
    }
   ],
   "source": [
    "np.sqrt(np.diag(pcov)) # desviacion del error A, w, phi, osea la estimacion del error de los parametros "
   ]
  },
  {
   "cell_type": "code",
   "execution_count": 45,
   "id": "3d544eda",
   "metadata": {},
   "outputs": [],
   "source": [
    "t =np.linspace(0, 10, 100)\n",
    "y = func(t, A, w, phi)"
   ]
  },
  {
   "cell_type": "code",
   "execution_count": 46,
   "id": "45ee30b2",
   "metadata": {},
   "outputs": [
    {
     "data": {
      "text/plain": [
       "[<matplotlib.lines.Line2D at 0x7fc0e49c2c70>]"
      ]
     },
     "execution_count": 46,
     "metadata": {},
     "output_type": "execute_result"
    },
    {
     "data": {
      "image/png": "[encoded data removed]",
      "text/plain": [
       "<Figure size 432x288 with 1 Axes>"
      ]
     },
     "metadata": {
      "needs_background": "light"
     },
     "output_type": "display_data"
    }
   ],
   "source": [
    "plt.scatter(t_data, y_data) # graficamos los datos\n",
    "plt.plot(t, y)# graficamos la prediccion"
   ]
  },
  {
   "cell_type": "markdown",
   "id": "b60e4274",
   "metadata": {},
   "source": [
    "que sucede si ahora hago mi np.pi = 1, o sea, cambio mi w"
   ]
  },
  {
   "cell_type": "code",
   "execution_count": 51,
   "id": "4cc6166a",
   "metadata": {},
   "outputs": [
    {
     "data": {
      "text/plain": [
       "[<matplotlib.lines.Line2D at 0x7fc0e49abbb0>]"
      ]
     },
     "execution_count": 51,
     "metadata": {},
     "output_type": "execute_result"
    },
    {
     "data": {
      "image/png": "[encoded data removed]",
      "text/plain": [
       "<Figure size 432x288 with 1 Axes>"
      ]
     },
     "metadata": {
      "needs_background": "light"
     },
     "output_type": "display_data"
    }
   ],
   "source": [
    "def func(x, A, w, phi):\n",
    "    return A*np.cos(w*x + phi)\n",
    "popt, pcov = curve_fit(func, t_data, y_data, p0 = (4, 1, 0))\n",
    "A, w, phi = popt\n",
    "t =np.linspace(0, 10, 100)\n",
    "y = func(t, A, w, phi)\n",
    "plt.scatter(t_data, y_data) \n",
    "plt.plot(t, y)"
   ]
  },
  {
   "cell_type": "markdown",
   "id": "f0ff3b28",
   "metadata": {},
   "source": [
    "como ae puede observar, no se aprecia un correcto ajuste\n",
    "lo que combiene es ver bien los datos y establecer cierto parametros iniciale s, antes de ajustar el modelo"
   ]
  },
  {
   "cell_type": "markdown",
   "id": "845e3e04",
   "metadata": {},
   "source": [
    "## funciones especiales"
   ]
  },
  {
   "cell_type": "markdown",
   "id": "7b0cac01",
   "metadata": {},
   "source": [
    "Legendre Polynomials $P_l(x)$: satisfy $(1-x^2)y'' -2xy'+l(l+1)y = 0$\n",
    "\n",
    "The angular component of the spherical Schrodinger Equation which permits non-infinite solutions"
   ]
  },
  {
   "cell_type": "code",
   "execution_count": 52,
   "id": "19c86513",
   "metadata": {},
   "outputs": [],
   "source": [
    "from scipy.special import legendre\n"
   ]
  },
  {
   "cell_type": "code",
   "execution_count": 53,
   "id": "3e5669c4",
   "metadata": {},
   "outputs": [
    {
     "data": {
      "image/png": "[encoded data removed]",
      "text/plain": [
       "<Figure size 432x288 with 1 Axes>"
      ]
     },
     "metadata": {
      "needs_background": "light"
     },
     "output_type": "display_data"
    }
   ],
   "source": [
    "x = np.linspace(0, 1, 100)\n",
    "plt.plot(x, legendre(6)(x))\n",
    "plt.show()"
   ]
  },
  {
   "cell_type": "code",
   "execution_count": 54,
   "id": "0701b800",
   "metadata": {},
   "outputs": [
    {
     "data": {
      "text/plain": [
       "poly1d([ 1.44375000e+01,  0.00000000e+00, -1.96875000e+01,  1.60288449e-15,\n",
       "        6.56250000e+00,  0.00000000e+00, -3.12500000e-01])"
      ]
     },
     "execution_count": 54,
     "metadata": {},
     "output_type": "execute_result"
    }
   ],
   "source": [
    "legendre(6)"
   ]
  },
  {
   "cell_type": "code",
   "execution_count": 55,
   "id": "c80caeb4",
   "metadata": {},
   "outputs": [
    {
     "data": {
      "text/plain": [
       "array([-0.3125    , -0.31183063, -0.30982498, -0.30649042, -0.30183921,\n",
       "       -0.29588849, -0.28866022, -0.28018113, -0.27048269, -0.259601  ,\n",
       "       -0.24757672, -0.234455  , -0.22028534, -0.20512149, -0.18902132,\n",
       "       -0.17204669, -0.1542633 , -0.13574052, -0.1165512 , -0.09677155,\n",
       "       -0.07648089, -0.05576147, -0.03469823, -0.01337862,  0.00810769,\n",
       "        0.02966902,  0.05121194,  0.07264159,  0.09386188,  0.11477587,\n",
       "        0.135286  ,  0.15529446,  0.17470346,  0.19341564,  0.21133433,\n",
       "        0.228364  ,  0.24441054,  0.25938173,  0.27318756,  0.28574066,\n",
       "        0.29695673,  0.30675493,  0.31505837,  0.32179447,  0.32689553,\n",
       "        0.3302991 ,  0.33194851,  0.33179336,  0.32979001,  0.3259021 ,\n",
       "        0.32010106,  0.31236669,  0.30268763,  0.29106199,  0.27749789,\n",
       "        0.26201403,  0.24464031,  0.22541838,  0.20440232,  0.18165921,\n",
       "        0.15726978,  0.13132908,  0.1039471 ,  0.07524946,  0.04537808,\n",
       "        0.01449189, -0.01723251, -0.04960009, -0.08239669, -0.11538831,\n",
       "       -0.14832032, -0.18091672, -0.21287938, -0.24388727, -0.27359565,\n",
       "       -0.30163527, -0.32761158, -0.35110389, -0.37166452, -0.38881801,\n",
       "       -0.40206021, -0.41085743, -0.41464558, -0.41282925, -0.40478084,\n",
       "       -0.38983963, -0.36731087, -0.33646482, -0.29653586, -0.24672147,\n",
       "       -0.18618132, -0.11403625, -0.02936732,  0.06878523,  0.18142295,\n",
       "        0.30959024,  0.45437534,  0.61691142,  0.79837759,  1.        ])"
      ]
     },
     "execution_count": 55,
     "metadata": {},
     "output_type": "execute_result"
    }
   ],
   "source": [
    "legendre(6)(x)"
   ]
  },
  {
   "cell_type": "markdown",
   "id": "e6147bf9",
   "metadata": {},
   "source": [
    "Bessel functions $J_{\\alpha}(x)$: satisfy $x^2 y'' + xy' + (x^2-\\alpha^2)y = 0$\n",
    "\n",
    "Laplace's Equation in Polar Coordinates"
   ]
  },
  {
   "cell_type": "code",
   "execution_count": 56,
   "id": "7ef4ab3d",
   "metadata": {},
   "outputs": [],
   "source": [
    "from scipy.special import jv"
   ]
  },
  {
   "cell_type": "code",
   "execution_count": 59,
   "id": "4692ba6a",
   "metadata": {},
   "outputs": [
    {
     "data": {
      "image/png": "[encoded data removed]",
      "text/plain": [
       "<Figure size 432x288 with 1 Axes>"
      ]
     },
     "metadata": {
      "needs_background": "light"
     },
     "output_type": "display_data"
    }
   ],
   "source": [
    "x = np.linspace(0, 10, 100)\n",
    "plt.plot(x, jv(3,x))\n",
    "plt.show()"
   ]
  },
  {
   "cell_type": "code",
   "execution_count": 60,
   "id": "eb89ecb9",
   "metadata": {},
   "outputs": [
    {
     "data": {
      "text/plain": [
       "array([ 0.00000000e+00,  2.14573565e-05,  1.71330666e-04,  5.76398714e-04,\n",
       "        1.36018348e-03,  2.64136539e-03,  4.53225039e-03,  7.13730541e-03,\n",
       "        1.05517779e-02,  1.48604144e-02,  2.01362920e-02,  2.64397752e-02,\n",
       "        3.38176108e-02,  4.23021684e-02,  5.19108382e-02,  6.26455908e-02,\n",
       "        7.44927044e-02,  8.74226650e-02,  1.01390238e-01,  1.16334717e-01,\n",
       "        1.32180336e-01,  1.48836863e-01,  1.66200340e-01,  1.84153996e-01,\n",
       "        2.02569292e-01,  2.21307114e-01,  2.40219086e-01,  2.59148998e-01,\n",
       "        2.77934329e-01,  2.96407863e-01,  3.14399357e-01,  3.31737277e-01,\n",
       "        3.48250553e-01,  3.63770358e-01,  3.78131880e-01,  3.91176076e-01,\n",
       "        4.02751387e-01,  4.12715397e-01,  4.20936412e-01,  4.27294966e-01,\n",
       "        4.31685199e-01,  4.34016135e-01,  4.34212813e-01,  4.32217281e-01,\n",
       "        4.27989422e-01,  4.21507631e-01,  4.12769297e-01,  4.01791123e-01,\n",
       "        3.88609255e-01,  3.73279217e-01,  3.55875674e-01,  3.36491993e-01,\n",
       "        3.15239631e-01,  2.92247343e-01,  2.67660211e-01,  2.41638522e-01,\n",
       "        2.14356480e-01,  1.86000782e-01,  1.56769068e-01,  1.26868246e-01,\n",
       "        9.65127283e-02,  6.59225794e-02,  3.53215962e-02,  4.93534527e-03,\n",
       "       -2.50108329e-02, -5.42938280e-02, -8.26947565e-02, -1.10000930e-01,\n",
       "       -1.36007776e-01, -1.60520699e-01, -1.83356849e-01, -2.04346799e-01,\n",
       "       -2.23336104e-01, -2.40186726e-01, -2.54778316e-01, -2.67009338e-01,\n",
       "       -2.76798025e-01, -2.84083154e-01, -2.88824637e-01, -2.91003918e-01,\n",
       "       -2.90624179e-01, -2.87710336e-01, -2.82308849e-01, -2.74487322e-01,\n",
       "       -2.64333919e-01, -2.51956582e-01, -2.37482071e-01, -2.21054832e-01,\n",
       "       -2.02835695e-01, -1.83000430e-01, -1.61738154e-01, -1.39249628e-01,\n",
       "       -1.15745433e-01, -9.14440688e-02, -6.65699681e-02, -4.13514669e-02,\n",
       "       -1.60187345e-02,  9.19831093e-03,  3.40720822e-02,  5.83793793e-02])"
      ]
     },
     "execution_count": 60,
     "metadata": {},
     "output_type": "execute_result"
    }
   ],
   "source": [
    "jv(3,x)"
   ]
  },
  {
   "cell_type": "markdown",
   "id": "fba69e2c",
   "metadata": {},
   "source": [
    "## Derivadas\n",
    "\n",
    "nunpy nos entrega un array dde valores derivado en cambio scipy nos deriva la funcion "
   ]
  },
  {
   "cell_type": "code",
   "execution_count": 61,
   "id": "473f0611",
   "metadata": {},
   "outputs": [],
   "source": [
    "from scipy.misc import derivative"
   ]
  },
  {
   "cell_type": "code",
   "execution_count": 63,
   "id": "e31f9eae",
   "metadata": {},
   "outputs": [],
   "source": [
    "def f(x):\n",
    "    return x**2 * np.sin(2*x) * np.exp(-x)\n",
    "x = np.linspace(0, 1, 100)"
   ]
  },
  {
   "cell_type": "code",
   "execution_count": 64,
   "id": "ed22ec33",
   "metadata": {},
   "outputs": [
    {
     "data": {
      "text/plain": [
       "[<matplotlib.lines.Line2D at 0x7fc0e47bcc40>]"
      ]
     },
     "execution_count": 64,
     "metadata": {},
     "output_type": "execute_result"
    },
    {
     "data": {
      "image/png": "[encoded data removed]",
      "text/plain": [
       "<Figure size 432x288 with 1 Axes>"
      ]
     },
     "metadata": {
      "needs_background": "light"
     },
     "output_type": "display_data"
    }
   ],
   "source": [
    "plt.plot(x, f(x))"
   ]
  },
  {
   "cell_type": "code",
   "execution_count": 71,
   "id": "2ee99fba",
   "metadata": {},
   "outputs": [],
   "source": [
    "x1 = derivative(f, x, dx = 1e-6) # derivara todos los puntos del array x\n",
    "x2 = derivative(f, x, dx = 1e-6, n = 2)# derivada segunda"
   ]
  },
  {
   "cell_type": "code",
   "execution_count": 73,
   "id": "f4dd6fca",
   "metadata": {},
   "outputs": [
    {
     "data": {
      "image/png": "[encoded data removed]",
      "text/plain": [
       "<Figure size 432x288 with 1 Axes>"
      ]
     },
     "metadata": {
      "needs_background": "light"
     },
     "output_type": "display_data"
    }
   ],
   "source": [
    "\n",
    "plt.plot(x, f(x))\n",
    "plt.plot(x, x1)\n",
    "plt.plot(x, x2)\n",
    "plt.grid()"
   ]
  },
  {
   "attachments": {
    "image.png": {
     "image/png": "[encoded data removed]"
    }
   },
   "cell_type": "markdown",
   "id": "a23c56f0",
   "metadata": {},
   "source": [
    "## integracion\n",
    "\n",
    "![image.png](attachment:image.png)\n",
    "\n",
    "muy similar a la diferencia vista con numpy y scipy\n",
    "\n"
   ]
  },
  {
   "cell_type": "code",
   "execution_count": 74,
   "id": "355a818d",
   "metadata": {},
   "outputs": [],
   "source": [
    "from scipy.integrate import quad"
   ]
  },
  {
   "cell_type": "code",
   "execution_count": 75,
   "id": "b0ba5b7c",
   "metadata": {},
   "outputs": [],
   "source": [
    "intergrand = lambda x: x**2 * np.sin(x) * np.exp(-x)\n",
    "integral, integral_error = quad(intergrand, 0, 1)"
   ]
  },
  {
   "cell_type": "code",
   "execution_count": 76,
   "id": "3568cb34",
   "metadata": {},
   "outputs": [
    {
     "data": {
      "text/plain": [
       "0.10246777930717413"
      ]
     },
     "execution_count": 76,
     "metadata": {},
     "output_type": "execute_result"
    }
   ],
   "source": [
    "integral"
   ]
  },
  {
   "cell_type": "code",
   "execution_count": 77,
   "id": "e988ca1e",
   "metadata": {},
   "outputs": [
    {
     "data": {
      "text/plain": [
       "1.1376208786903388e-15"
      ]
     },
     "execution_count": 77,
     "metadata": {},
     "output_type": "execute_result"
    }
   ],
   "source": [
    "integral_error"
   ]
  },
  {
   "attachments": {
    "image.png": {
     "image/png": "[encoded data removed]"
    }
   },
   "cell_type": "markdown",
   "id": "02eb67f0",
   "metadata": {},
   "source": [
    "integrales dobles\n",
    "![image.png](attachment:image.png)"
   ]
  },
  {
   "cell_type": "code",
   "execution_count": 82,
   "id": "3ce56685",
   "metadata": {},
   "outputs": [],
   "source": [
    "from scipy.integrate import dblquad\n"
   ]
  },
  {
   "cell_type": "code",
   "execution_count": 84,
   "id": "f74ccfd7",
   "metadata": {},
   "outputs": [],
   "source": [
    "integrand = lambda y, x: np.sin(x+y**2)\n",
    "lwr_y = lambda x: -x\n",
    "upr_y = lambda x: x**2\n",
    "integral, integral_error = dblquad(integrand, 0, 1, lwr_y, upr_y)"
   ]
  },
  {
   "cell_type": "code",
   "execution_count": 85,
   "id": "4570614b",
   "metadata": {},
   "outputs": [
    {
     "data": {
      "text/plain": [
       "0.590090324408853"
      ]
     },
     "execution_count": 85,
     "metadata": {},
     "output_type": "execute_result"
    }
   ],
   "source": [
    "integral"
   ]
  },
  {
   "cell_type": "code",
   "execution_count": 86,
   "id": "c555130b",
   "metadata": {},
   "outputs": [
    {
     "data": {
      "text/plain": [
       "2.0545915475811425e-14"
      ]
     },
     "execution_count": 86,
     "metadata": {},
     "output_type": "execute_result"
    }
   ],
   "source": [
    "integral_error"
   ]
  },
  {
   "cell_type": "markdown",
   "id": "42be57f3",
   "metadata": {},
   "source": [
    "integrales multidimensionales"
   ]
  },
  {
   "cell_type": "code",
   "execution_count": 88,
   "id": "8858ac44",
   "metadata": {},
   "outputs": [],
   "source": [
    "from scipy.integrate import nquad"
   ]
  },
  {
   "cell_type": "code",
   "execution_count": 89,
   "id": "d1ca7921",
   "metadata": {},
   "outputs": [],
   "source": [
    "nquad?"
   ]
  },
  {
   "cell_type": "markdown",
   "id": "466531b1",
   "metadata": {},
   "source": [
    "## Ecuaciones diferenciales"
   ]
  },
  {
   "attachments": {
    "image.png": {
     "image/png": "[encoded data removed]"
    }
   },
   "cell_type": "markdown",
   "id": "a21e78d0",
   "metadata": {},
   "source": [
    "ODEs de primer orden\n",
    "\n",
    "la ecuacion de la friccion del aire de un objeto al caer\n",
    "\n",
    "![image.png](attachment:image.png)"
   ]
  },
  {
   "cell_type": "code",
   "execution_count": 90,
   "id": "95f3c364",
   "metadata": {},
   "outputs": [],
   "source": [
    "from scipy.integrate import odeint"
   ]
  },
  {
   "cell_type": "code",
   "execution_count": 91,
   "id": "7e37fde7",
   "metadata": {},
   "outputs": [],
   "source": [
    "# brindar informacion sobre la ecuacion diferencial\n",
    "\n",
    "def dvdt(v, t):\n",
    "    return 3*v**2 - 5\n",
    "\n",
    "v0 = 0"
   ]
  },
  {
   "cell_type": "code",
   "execution_count": 93,
   "id": "7c968fa3",
   "metadata": {},
   "outputs": [],
   "source": [
    "#resuelvo la ecuacion diferencial\n",
    "t = np.linspace(0, 1, 100)\n",
    "sol = odeint(dvdt, v0, t) #paso el metodo con la funcion, la condicion inicial y la variable"
   ]
  },
  {
   "cell_type": "code",
   "execution_count": 96,
   "id": "1d068bf3",
   "metadata": {},
   "outputs": [
    {
     "data": {
      "text/plain": [
       "array([ 0.        , -0.05047933, -0.10080451, -0.15082334, -0.20038726,\n",
       "       -0.24935318, -0.29758502, -0.34495519, -0.39134576, -0.43664948,\n",
       "       -0.48077056, -0.52362515, -0.56514164, -0.60526086, -0.6439356 ,\n",
       "       -0.68113064, -0.71682205, -0.75099661, -0.78365109, -0.8147914 ,\n",
       "       -0.84443176, -0.87259378, -0.89930556, -0.92460079, -0.94851787,\n",
       "       -0.97109913, -0.99239002, -1.01243837, -1.03129376, -1.04900692,\n",
       "       -1.06562918, -1.081212  , -1.0958066 , -1.10946355, -1.12223249,\n",
       "       -1.13416195, -1.14529906, -1.15568941, -1.16537698, -1.17440397,\n",
       "       -1.18281086, -1.19063623, -1.19791686, -1.20468768, -1.21098179,\n",
       "       -1.21683053, -1.22226349, -1.22730856, -1.23199199, -1.23633849,\n",
       "       -1.24037122, -1.24411192, -1.24758094, -1.25079735, -1.25377896,\n",
       "       -1.25654241, -1.25910322, -1.2614759 , -1.26367394, -1.26570992,\n",
       "       -1.26759557, -1.26934179, -1.27095869, -1.27245574, -1.27384168,\n",
       "       -1.27512464, -1.2763122 , -1.27741137, -1.27842865, -1.27937009,\n",
       "       -1.28024128, -1.28104744, -1.28179338, -1.28248356, -1.28312213,\n",
       "       -1.28371292, -1.2842595 , -1.28476514, -1.2852329 , -1.28566562,\n",
       "       -1.2860659 , -1.28643616, -1.28677865, -1.28709545, -1.28738847,\n",
       "       -1.28765951, -1.28791021, -1.28814208, -1.28835653, -1.28855487,\n",
       "       -1.28873831, -1.28890797, -1.28906488, -1.28920999, -1.2893442 ,\n",
       "       -1.28946833, -1.28958312, -1.28968929, -1.28978746, -1.28987826])"
      ]
     },
     "execution_count": 96,
     "metadata": {},
     "output_type": "execute_result"
    }
   ],
   "source": [
    "sol.T[0]"
   ]
  },
  {
   "cell_type": "code",
   "execution_count": 98,
   "id": "1abf9b60",
   "metadata": {},
   "outputs": [
    {
     "data": {
      "text/plain": [
       "[<matplotlib.lines.Line2D at 0x7fc0e4932970>]"
      ]
     },
     "execution_count": 98,
     "metadata": {},
     "output_type": "execute_result"
    },
    {
     "data": {
      "image/png": "[encoded data removed]",
      "text/plain": [
       "<Figure size 432x288 with 1 Axes>"
      ]
     },
     "metadata": {
      "needs_background": "light"
     },
     "output_type": "display_data"
    }
   ],
   "source": [
    "plt.plot(t, sol.T[0])"
   ]
  },
  {
   "cell_type": "markdown",
   "id": "2add7203",
   "metadata": {},
   "source": [
    "conjunto de ODEs de primer orden\n",
    "\n",
    "$$ y_1' = y_1 + y_2^2 + 3x \\hspace{10mm} y_1(0)=0$$$$ y_2' = 3y_1 + y_2^3 - \\cos(x) \\hspace{10mm} y_2(0)=0$$\n",
    "Letting $S=(y_1, y_2)$ we need to write a function that returns $dS/dx = (dy_1/dx, dy_2/dx)$. The function $dS/dx$ can take in $S=(y_1, y_2)$ and $x$"
   ]
  },
  {
   "cell_type": "code",
   "execution_count": 99,
   "id": "486ae39d",
   "metadata": {},
   "outputs": [],
   "source": [
    "def dSdx(S, x):#geberammos un vector y lo derivamos\n",
    "    y1, y2 = S\n",
    "    return [y1 + y2**2+3*x, 3*y1+y2**3-np.cos(x)]\n",
    "y1_0 = 0\n",
    "y2_0 = 0\n",
    "S_0 = (y1_0, y2_0)\n"
   ]
  },
  {
   "cell_type": "code",
   "execution_count": 101,
   "id": "ed6d1157",
   "metadata": {},
   "outputs": [],
   "source": [
    "x = np.linspace(0, 1, 100)\n",
    "sol= odeint(dSdx, S_0, x)"
   ]
  },
  {
   "cell_type": "code",
   "execution_count": 102,
   "id": "0d9d5f77",
   "metadata": {},
   "outputs": [
    {
     "data": {
      "text/plain": [
       "array([[ 0.00000000e+00,  0.00000000e+00],\n",
       "       [ 1.53914061e-04, -1.00992734e-02],\n",
       "       [ 6.19093356e-04, -2.01882005e-02],\n",
       "       [ 1.40076628e-03, -3.02563164e-02],\n",
       "       [ 2.50418953e-03, -4.02930766e-02],\n",
       "       [ 3.93464633e-03, -5.02878361e-02],\n",
       "       [ 5.69744401e-03, -6.02298432e-02],\n",
       "       [ 7.79789517e-03, -7.01082428e-02],\n",
       "       [ 1.02413187e-02, -7.99120712e-02],\n",
       "       [ 1.30330245e-02, -8.96302498e-02],\n",
       "       [ 1.61783065e-02, -9.92515816e-02],\n",
       "       [ 1.96824391e-02, -1.08764749e-01],\n",
       "       [ 2.35506573e-02, -1.18158303e-01],\n",
       "       [ 2.77881638e-02, -1.27420669e-01],\n",
       "       [ 3.24001125e-02, -1.36540133e-01],\n",
       "       [ 3.73915921e-02, -1.45504834e-01],\n",
       "       [ 4.27676179e-02, -1.54302762e-01],\n",
       "       [ 4.85331404e-02, -1.62921756e-01],\n",
       "       [ 5.46930282e-02, -1.71349495e-01],\n",
       "       [ 6.12520553e-02, -1.79573493e-01],\n",
       "       [ 6.82148995e-02, -1.87581095e-01],\n",
       "       [ 7.55861308e-02, -1.95359467e-01],\n",
       "       [ 8.33702071e-02, -2.02895598e-01],\n",
       "       [ 9.15714669e-02, -2.10176290e-01],\n",
       "       [ 1.00194121e-01, -2.17188157e-01],\n",
       "       [ 1.09242251e-01, -2.23917621e-01],\n",
       "       [ 1.18719801e-01, -2.30350906e-01],\n",
       "       [ 1.28630571e-01, -2.36474041e-01],\n",
       "       [ 1.38978219e-01, -2.42272857e-01],\n",
       "       [ 1.49766252e-01, -2.47732981e-01],\n",
       "       [ 1.60998020e-01, -2.52839835e-01],\n",
       "       [ 1.72676732e-01, -2.57578659e-01],\n",
       "       [ 1.84805434e-01, -2.61934483e-01],\n",
       "       [ 1.97387014e-01, -2.65892141e-01],\n",
       "       [ 2.10424222e-01, -2.69436297e-01],\n",
       "       [ 2.23919648e-01, -2.72551418e-01],\n",
       "       [ 2.37875730e-01, -2.75221791e-01],\n",
       "       [ 2.52294784e-01, -2.77431559e-01],\n",
       "       [ 2.67178978e-01, -2.79164693e-01],\n",
       "       [ 2.82530347e-01, -2.80405012e-01],\n",
       "       [ 2.98350829e-01, -2.81136222e-01],\n",
       "       [ 3.14642248e-01, -2.81341905e-01],\n",
       "       [ 3.31406342e-01, -2.81005542e-01],\n",
       "       [ 3.48644774e-01, -2.80110529e-01],\n",
       "       [ 3.66359140e-01, -2.78640187e-01],\n",
       "       [ 3.84551013e-01, -2.76577800e-01],\n",
       "       [ 4.03221942e-01, -2.73906616e-01],\n",
       "       [ 4.22373488e-01, -2.70609873e-01],\n",
       "       [ 4.42007253e-01, -2.66670823e-01],\n",
       "       [ 4.62124894e-01, -2.62072745e-01],\n",
       "       [ 4.82728181e-01, -2.56798966e-01],\n",
       "       [ 5.03819005e-01, -2.50832883e-01],\n",
       "       [ 5.25399429e-01, -2.44157971e-01],\n",
       "       [ 5.47471735e-01, -2.36757804e-01],\n",
       "       [ 5.70038442e-01, -2.28616068e-01],\n",
       "       [ 5.93102385e-01, -2.19716553e-01],\n",
       "       [ 6.16666735e-01, -2.10043183e-01],\n",
       "       [ 6.40735063e-01, -1.99579993e-01],\n",
       "       [ 6.65311401e-01, -1.88311119e-01],\n",
       "       [ 6.90400276e-01, -1.76220821e-01],\n",
       "       [ 7.16006799e-01, -1.63293405e-01],\n",
       "       [ 7.42136714e-01, -1.49513226e-01],\n",
       "       [ 7.68796463e-01, -1.34864636e-01],\n",
       "       [ 7.95993253e-01, -1.19331954e-01],\n",
       "       [ 8.23735143e-01, -1.02899359e-01],\n",
       "       [ 8.52031104e-01, -8.55508556e-02],\n",
       "       [ 8.80891112e-01, -6.72701355e-02],\n",
       "       [ 9.10326223e-01, -4.80405161e-02],\n",
       "       [ 9.40348671e-01, -2.78447548e-02],\n",
       "       [ 9.70971957e-01, -6.66492984e-03],\n",
       "       [ 1.00221095e+00,  1.55177321e-02],\n",
       "       [ 1.03408198e+00,  3.87230761e-02],\n",
       "       [ 1.06660299e+00,  6.29722272e-02],\n",
       "       [ 1.09979361e+00,  8.82878711e-02],\n",
       "       [ 1.13367532e+00,  1.14694542e-01],\n",
       "       [ 1.16827157e+00,  1.42218950e-01],\n",
       "       [ 1.20360797e+00,  1.70890394e-01],\n",
       "       [ 1.23971243e+00,  2.00741167e-01],\n",
       "       [ 1.27661538e+00,  2.31807067e-01],\n",
       "       [ 1.31434994e+00,  2.64127972e-01],\n",
       "       [ 1.35295223e+00,  2.97748502e-01],\n",
       "       [ 1.39246158e+00,  3.32718734e-01],\n",
       "       [ 1.43292087e+00,  3.69095107e-01],\n",
       "       [ 1.47437687e+00,  4.06941417e-01],\n",
       "       [ 1.51688069e+00,  4.46329999e-01],\n",
       "       [ 1.56048820e+00,  4.87343105e-01],\n",
       "       [ 1.60526063e+00,  5.30074560e-01],\n",
       "       [ 1.65126523e+00,  5.74631731e-01],\n",
       "       [ 1.69857604e+00,  6.21137874e-01],\n",
       "       [ 1.74727479e+00,  6.69734974e-01],\n",
       "       [ 1.79745207e+00,  7.20587249e-01],\n",
       "       [ 1.84920864e+00,  7.73885430e-01],\n",
       "       [ 1.90265708e+00,  8.29852098e-01],\n",
       "       [ 1.95792385e+00,  8.88748463e-01],\n",
       "       [ 2.01515175e+00,  9.50882831e-01],\n",
       "       [ 2.07450310e+00,  1.01662163e+00],\n",
       "       [ 2.13616376e+00,  1.08640368e+00],\n",
       "       [ 2.20034823e+00,  1.16075924e+00],\n",
       "       [ 2.26730636e+00,  1.24033522e+00],\n",
       "       [ 2.33733216e+00,  1.32592999e+00]])"
      ]
     },
     "execution_count": 102,
     "metadata": {},
     "output_type": "execute_result"
    }
   ],
   "source": [
    "sol# genera un array de soluciones"
   ]
  },
  {
   "cell_type": "code",
   "execution_count": 105,
   "id": "cb581849",
   "metadata": {},
   "outputs": [],
   "source": [
    "# tomo las soluciones\n",
    "y1 =sol.T[0]\n",
    "y2 =sol.T[1]"
   ]
  },
  {
   "cell_type": "code",
   "execution_count": 106,
   "id": "1519a50b",
   "metadata": {},
   "outputs": [
    {
     "data": {
      "text/plain": [
       "[<matplotlib.lines.Line2D at 0x7fc0e457c430>]"
      ]
     },
     "execution_count": 106,
     "metadata": {},
     "output_type": "execute_result"
    },
    {
     "data": {
      "image/png": "[encoded data removed]",
      "text/plain": [
       "<Figure size 432x288 with 1 Axes>"
      ]
     },
     "metadata": {
      "needs_background": "light"
     },
     "output_type": "display_data"
    }
   ],
   "source": [
    "#grafico las soluciones\n",
    "plt.plot(x, y1)\n",
    "plt.plot(x, y2)"
   ]
  },
  {
   "cell_type": "markdown",
   "id": "2dd21cad",
   "metadata": {},
   "source": [
    "ODEs de segundo orden\n",
    "\n",
    "Equation for a pendulum\n",
    "\n",
    "$$\\theta'' - \\sin(\\theta) = 0$$\n",
    "Scipy can only solve coupled first order ODEs, but any second order ODE can be turned into two coupled first order ODEs. The same thing goes for higher order ODEs.\n",
    "\n",
    "Define $\\omega = d\\theta/dt$ so that one has the following coupled ODEs\n",
    "\n",
    "$$d \\omega / dt = \\sin(\\theta)$$$$d \\theta / dt = \\omega $$\n",
    "Let $S = (\\theta, \\omega)$"
   ]
  },
  {
   "cell_type": "code",
   "execution_count": 108,
   "id": "d6804284",
   "metadata": {},
   "outputs": [],
   "source": [
    "# scipy no puede resolver un ODEs de segundo orden, pero si podemos descomponer la ODEs de SO eb dos de PO\n",
    "def dSdt(S, t):\n",
    "    theta, omega = S\n",
    "    return [omega, np.sin(theta)]\n",
    "theta0 = np.pi/4\n",
    "omega0 = 0\n",
    "S0 = (theta0, omega0)\n"
   ]
  },
  {
   "cell_type": "code",
   "execution_count": 109,
   "id": "a6bf80a7",
   "metadata": {},
   "outputs": [],
   "source": [
    "t = np.linspace(0, 20, 100)\n",
    "sol = odeint(dSdt, S0, t)\n",
    "theta, omega = sol.T"
   ]
  },
  {
   "cell_type": "code",
   "execution_count": 111,
   "id": "97961cae",
   "metadata": {},
   "outputs": [
    {
     "data": {
      "text/plain": [
       "[<matplotlib.lines.Line2D at 0x7fc0e39a27f0>]"
      ]
     },
     "execution_count": 111,
     "metadata": {},
     "output_type": "execute_result"
    },
    {
     "data": {
      "image/png": "[encoded data removed]",
      "text/plain": [
       "<Figure size 432x288 with 1 Axes>"
      ]
     },
     "metadata": {
      "needs_background": "light"
     },
     "output_type": "display_data"
    }
   ],
   "source": [
    "plt.plot(t, theta)\n"
   ]
  },
  {
   "cell_type": "code",
   "execution_count": 112,
   "id": "1f6c04b9",
   "metadata": {},
   "outputs": [
    {
     "data": {
      "text/plain": [
       "[<matplotlib.lines.Line2D at 0x7fc0e398b7c0>]"
      ]
     },
     "execution_count": 112,
     "metadata": {},
     "output_type": "execute_result"
    },
    {
     "data": {
      "image/png": "[encoded data removed]",
      "text/plain": [
       "<Figure size 432x288 with 1 Axes>"
      ]
     },
     "metadata": {
      "needs_background": "light"
     },
     "output_type": "display_data"
    }
   ],
   "source": [
    "plt.plot(t, omega)"
   ]
  },
  {
   "cell_type": "markdown",
   "id": "d6c8cf80",
   "metadata": {},
   "source": [
    "## Trasformada de fourier\n",
    "\n",
    "The discrete Fourier transform is defined as\n",
    "\n",
    "$$y[k] = \\sum_{n=0}^{N-1} e^{-2 \\pi i n (k / N)} x[n] $$\n",
    "$k/N$ represents a specific frequency (dimensionless)\n",
    "can be converted to a frequency (Hz) if you know the spacing in $x$\n"
   ]
  },
  {
   "cell_type": "code",
   "execution_count": 116,
   "id": "71bf6919",
   "metadata": {},
   "outputs": [
    {
     "data": {
      "text/plain": [
       "[<matplotlib.lines.Line2D at 0x7fc0e33594f0>]"
      ]
     },
     "execution_count": 116,
     "metadata": {},
     "output_type": "execute_result"
    },
    {
     "data": {
      "image/png": "[encoded data removed]",
      "text/plain": [
       "<Figure size 432x288 with 1 Axes>"
      ]
     },
     "metadata": {
      "needs_background": "light"
     },
     "output_type": "display_data"
    }
   ],
   "source": [
    "t = np.linspace(0, 10*np.pi, 100)\n",
    "x = np.sin(2*np.pi*x) + np.sin(4*np.pi*x) + 0.1*np.random.randn(len(x))\n",
    "plt.plot(t, x)"
   ]
  },
  {
   "cell_type": "code",
   "execution_count": 117,
   "id": "f8825873",
   "metadata": {},
   "outputs": [],
   "source": [
    "from scipy.fft import fft, fftfreq"
   ]
  },
  {
   "cell_type": "code",
   "execution_count": 118,
   "id": "6b354201",
   "metadata": {},
   "outputs": [],
   "source": [
    "N =len(x)\n",
    "y = fft(x)"
   ]
  },
  {
   "cell_type": "code",
   "execution_count": 119,
   "id": "8196a3b9",
   "metadata": {},
   "outputs": [
    {
     "data": {
      "text/plain": [
       "[<matplotlib.lines.Line2D at 0x7fc0e3340790>]"
      ]
     },
     "execution_count": 119,
     "metadata": {},
     "output_type": "execute_result"
    },
    {
     "data": {
      "image/png": "[encoded data removed]",
      "text/plain": [
       "<Figure size 432x288 with 1 Axes>"
      ]
     },
     "metadata": {
      "needs_background": "light"
     },
     "output_type": "display_data"
    }
   ],
   "source": [
    "plt.plot(np.abs(y)) # se obtiene una grafica simetrica, al tomar valores absolutos, la parte de la izquierda seria lo negativo"
   ]
  },
  {
   "cell_type": "code",
   "execution_count": 120,
   "id": "e31b415e",
   "metadata": {},
   "outputs": [
    {
     "data": {
      "text/plain": [
       "[<matplotlib.lines.Line2D at 0x7fc0e329ed90>]"
      ]
     },
     "execution_count": 120,
     "metadata": {},
     "output_type": "execute_result"
    },
    {
     "data": {
      "image/png": "[encoded data removed]",
      "text/plain": [
       "<Figure size 432x288 with 1 Axes>"
      ]
     },
     "metadata": {
      "needs_background": "light"
     },
     "output_type": "display_data"
    }
   ],
   "source": [
    "N =len(x)\n",
    "y = fft(x)[:N//2]\n",
    "f = fftfreq(N, np.diff(t)[0])[:N//2] # agregamos el dt en la serie de tiempo yobtengo el primer elemento\n",
    "plt.plot(f, np.abs(y))"
   ]
  },
  {
   "cell_type": "markdown",
   "id": "e5f338f1",
   "metadata": {},
   "source": [
    "## Ejemplos"
   ]
  },
  {
   "cell_type": "code",
   "execution_count": null,
   "id": "0a1adecc",
   "metadata": {},
   "outputs": [],
   "source": []
  }
 ],
 "metadata": {
  "kernelspec": {
   "display_name": "Python 3 (ipykernel)",
   "language": "python",
   "name": "python3"
  },
  "language_info": {
   "codemirror_mode": {
    "name": "ipython",
    "version": 3
   },
   "file_extension": ".py",
   "mimetype": "text/x-python",
   "name": "python",
   "nbconvert_exporter": "python",
   "pygments_lexer": "ipython3",
   "version": "3.8.6"
  },
  "toc": {
   "base_numbering": 1,
   "nav_menu": {},
   "number_sections": true,
   "sideBar": true,
   "skip_h1_title": false,
   "title_cell": "Table of Contents",
   "title_sidebar": "Contents",
   "toc_cell": false,
   "toc_position": {},
   "toc_section_display": true,
   "toc_window_display": false
  }
 },
 "nbformat": 4,
 "nbformat_minor": 5
}
